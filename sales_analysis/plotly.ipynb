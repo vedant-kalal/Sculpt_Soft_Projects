{
 "cells": [
  {
   "cell_type": "code",
   "execution_count": 101,
   "id": "8c0a71f1",
   "metadata": {},
   "outputs": [],
   "source": [
    "import plotly.graph_objects as go\n",
    "import pandas as pd"
   ]
  },
  {
   "cell_type": "code",
   "execution_count": 176,
   "id": "a66fa5ae",
   "metadata": {},
   "outputs": [
    {
     "data": {
      "text/html": [
       "<div>\n",
       "<style scoped>\n",
       "    .dataframe tbody tr th:only-of-type {\n",
       "        vertical-align: middle;\n",
       "    }\n",
       "\n",
       "    .dataframe tbody tr th {\n",
       "        vertical-align: top;\n",
       "    }\n",
       "\n",
       "    .dataframe thead th {\n",
       "        text-align: right;\n",
       "    }\n",
       "</style>\n",
       "<table border=\"1\" class=\"dataframe\">\n",
       "  <thead>\n",
       "    <tr style=\"text-align: right;\">\n",
       "      <th></th>\n",
       "      <th>Date</th>\n",
       "      <th>Store_ID</th>\n",
       "      <th>Product_ID</th>\n",
       "      <th>Units_Sold</th>\n",
       "      <th>Revenue</th>\n",
       "      <th>City</th>\n",
       "      <th>Holiday</th>\n",
       "      <th>Month</th>\n",
       "      <th>Is_Weekend</th>\n",
       "      <th>Avg_Selling_Price</th>\n",
       "    </tr>\n",
       "  </thead>\n",
       "  <tbody>\n",
       "    <tr>\n",
       "      <th>0</th>\n",
       "      <td>2023-08-15</td>\n",
       "      <td>S001</td>\n",
       "      <td>P0032</td>\n",
       "      <td>6</td>\n",
       "      <td>337.98632</td>\n",
       "      <td>Chicago</td>\n",
       "      <td>Yes</td>\n",
       "      <td>August</td>\n",
       "      <td>No</td>\n",
       "      <td>56.331053</td>\n",
       "    </tr>\n",
       "    <tr>\n",
       "      <th>1</th>\n",
       "      <td>2023-08-10</td>\n",
       "      <td>S008</td>\n",
       "      <td>P0050</td>\n",
       "      <td>4</td>\n",
       "      <td>80.22000</td>\n",
       "      <td>Los Angeles</td>\n",
       "      <td>Yes</td>\n",
       "      <td>August</td>\n",
       "      <td>No</td>\n",
       "      <td>20.055000</td>\n",
       "    </tr>\n",
       "    <tr>\n",
       "      <th>2</th>\n",
       "      <td>2023-04-09</td>\n",
       "      <td>S001</td>\n",
       "      <td>P0028</td>\n",
       "      <td>13</td>\n",
       "      <td>78.19000</td>\n",
       "      <td>Chicago</td>\n",
       "      <td>No</td>\n",
       "      <td>April</td>\n",
       "      <td>Yes</td>\n",
       "      <td>6.014615</td>\n",
       "    </tr>\n",
       "    <tr>\n",
       "      <th>3</th>\n",
       "      <td>2023-01-20</td>\n",
       "      <td>S006</td>\n",
       "      <td>P0024</td>\n",
       "      <td>31</td>\n",
       "      <td>690.48000</td>\n",
       "      <td>New York</td>\n",
       "      <td>No</td>\n",
       "      <td>January</td>\n",
       "      <td>No</td>\n",
       "      <td>22.273548</td>\n",
       "    </tr>\n",
       "    <tr>\n",
       "      <th>4</th>\n",
       "      <td>2023-05-09</td>\n",
       "      <td>S003</td>\n",
       "      <td>P0049</td>\n",
       "      <td>18</td>\n",
       "      <td>337.98632</td>\n",
       "      <td>Chicago</td>\n",
       "      <td>No</td>\n",
       "      <td>May</td>\n",
       "      <td>No</td>\n",
       "      <td>18.777018</td>\n",
       "    </tr>\n",
       "  </tbody>\n",
       "</table>\n",
       "</div>"
      ],
      "text/plain": [
       "         Date Store_ID Product_ID  Units_Sold    Revenue         City Holiday  \\\n",
       "0  2023-08-15     S001      P0032           6  337.98632      Chicago     Yes   \n",
       "1  2023-08-10     S008      P0050           4   80.22000  Los Angeles     Yes   \n",
       "2  2023-04-09     S001      P0028          13   78.19000      Chicago      No   \n",
       "3  2023-01-20     S006      P0024          31  690.48000     New York      No   \n",
       "4  2023-05-09     S003      P0049          18  337.98632      Chicago      No   \n",
       "\n",
       "     Month Is_Weekend  Avg_Selling_Price  \n",
       "0   August         No          56.331053  \n",
       "1   August         No          20.055000  \n",
       "2    April        Yes           6.014615  \n",
       "3  January         No          22.273548  \n",
       "4      May         No          18.777018  "
      ]
     },
     "execution_count": 176,
     "metadata": {},
     "output_type": "execute_result"
    }
   ],
   "source": [
    "df=pd.read_csv('cleaned_sales_data.csv')\n",
    "df.head()"
   ]
  },
  {
   "cell_type": "code",
   "execution_count": 21,
   "id": "e6946a36",
   "metadata": {},
   "outputs": [
    {
     "data": {
      "application/vnd.plotly.v1+json": {
       "config": {
        "plotlyServerURL": "https://plot.ly"
       },
       "data": [
        {
         "type": "scatter",
         "x": [
          2020,
          2021,
          2022,
          2023,
          2024
         ],
         "y": [
          150,
          200,
          400,
          200,
          350
         ]
        }
       ],
       "layout": {
        "template": {
         "data": {
          "bar": [
           {
            "error_x": {
             "color": "#2a3f5f"
            },
            "error_y": {
             "color": "#2a3f5f"
            },
            "marker": {
             "line": {
              "color": "#E5ECF6",
              "width": 0.5
             },
             "pattern": {
              "fillmode": "overlay",
              "size": 10,
              "solidity": 0.2
             }
            },
            "type": "bar"
           }
          ],
          "barpolar": [
           {
            "marker": {
             "line": {
              "color": "#E5ECF6",
              "width": 0.5
             },
             "pattern": {
              "fillmode": "overlay",
              "size": 10,
              "solidity": 0.2
             }
            },
            "type": "barpolar"
           }
          ],
          "carpet": [
           {
            "aaxis": {
             "endlinecolor": "#2a3f5f",
             "gridcolor": "white",
             "linecolor": "white",
             "minorgridcolor": "white",
             "startlinecolor": "#2a3f5f"
            },
            "baxis": {
             "endlinecolor": "#2a3f5f",
             "gridcolor": "white",
             "linecolor": "white",
             "minorgridcolor": "white",
             "startlinecolor": "#2a3f5f"
            },
            "type": "carpet"
           }
          ],
          "choropleth": [
           {
            "colorbar": {
             "outlinewidth": 0,
             "ticks": ""
            },
            "type": "choropleth"
           }
          ],
          "contour": [
           {
            "colorbar": {
             "outlinewidth": 0,
             "ticks": ""
            },
            "colorscale": [
             [
              0,
              "#0d0887"
             ],
             [
              0.1111111111111111,
              "#46039f"
             ],
             [
              0.2222222222222222,
              "#7201a8"
             ],
             [
              0.3333333333333333,
              "#9c179e"
             ],
             [
              0.4444444444444444,
              "#bd3786"
             ],
             [
              0.5555555555555556,
              "#d8576b"
             ],
             [
              0.6666666666666666,
              "#ed7953"
             ],
             [
              0.7777777777777778,
              "#fb9f3a"
             ],
             [
              0.8888888888888888,
              "#fdca26"
             ],
             [
              1,
              "#f0f921"
             ]
            ],
            "type": "contour"
           }
          ],
          "contourcarpet": [
           {
            "colorbar": {
             "outlinewidth": 0,
             "ticks": ""
            },
            "type": "contourcarpet"
           }
          ],
          "heatmap": [
           {
            "colorbar": {
             "outlinewidth": 0,
             "ticks": ""
            },
            "colorscale": [
             [
              0,
              "#0d0887"
             ],
             [
              0.1111111111111111,
              "#46039f"
             ],
             [
              0.2222222222222222,
              "#7201a8"
             ],
             [
              0.3333333333333333,
              "#9c179e"
             ],
             [
              0.4444444444444444,
              "#bd3786"
             ],
             [
              0.5555555555555556,
              "#d8576b"
             ],
             [
              0.6666666666666666,
              "#ed7953"
             ],
             [
              0.7777777777777778,
              "#fb9f3a"
             ],
             [
              0.8888888888888888,
              "#fdca26"
             ],
             [
              1,
              "#f0f921"
             ]
            ],
            "type": "heatmap"
           }
          ],
          "heatmapgl": [
           {
            "colorbar": {
             "outlinewidth": 0,
             "ticks": ""
            },
            "colorscale": [
             [
              0,
              "#0d0887"
             ],
             [
              0.1111111111111111,
              "#46039f"
             ],
             [
              0.2222222222222222,
              "#7201a8"
             ],
             [
              0.3333333333333333,
              "#9c179e"
             ],
             [
              0.4444444444444444,
              "#bd3786"
             ],
             [
              0.5555555555555556,
              "#d8576b"
             ],
             [
              0.6666666666666666,
              "#ed7953"
             ],
             [
              0.7777777777777778,
              "#fb9f3a"
             ],
             [
              0.8888888888888888,
              "#fdca26"
             ],
             [
              1,
              "#f0f921"
             ]
            ],
            "type": "heatmapgl"
           }
          ],
          "histogram": [
           {
            "marker": {
             "pattern": {
              "fillmode": "overlay",
              "size": 10,
              "solidity": 0.2
             }
            },
            "type": "histogram"
           }
          ],
          "histogram2d": [
           {
            "colorbar": {
             "outlinewidth": 0,
             "ticks": ""
            },
            "colorscale": [
             [
              0,
              "#0d0887"
             ],
             [
              0.1111111111111111,
              "#46039f"
             ],
             [
              0.2222222222222222,
              "#7201a8"
             ],
             [
              0.3333333333333333,
              "#9c179e"
             ],
             [
              0.4444444444444444,
              "#bd3786"
             ],
             [
              0.5555555555555556,
              "#d8576b"
             ],
             [
              0.6666666666666666,
              "#ed7953"
             ],
             [
              0.7777777777777778,
              "#fb9f3a"
             ],
             [
              0.8888888888888888,
              "#fdca26"
             ],
             [
              1,
              "#f0f921"
             ]
            ],
            "type": "histogram2d"
           }
          ],
          "histogram2dcontour": [
           {
            "colorbar": {
             "outlinewidth": 0,
             "ticks": ""
            },
            "colorscale": [
             [
              0,
              "#0d0887"
             ],
             [
              0.1111111111111111,
              "#46039f"
             ],
             [
              0.2222222222222222,
              "#7201a8"
             ],
             [
              0.3333333333333333,
              "#9c179e"
             ],
             [
              0.4444444444444444,
              "#bd3786"
             ],
             [
              0.5555555555555556,
              "#d8576b"
             ],
             [
              0.6666666666666666,
              "#ed7953"
             ],
             [
              0.7777777777777778,
              "#fb9f3a"
             ],
             [
              0.8888888888888888,
              "#fdca26"
             ],
             [
              1,
              "#f0f921"
             ]
            ],
            "type": "histogram2dcontour"
           }
          ],
          "mesh3d": [
           {
            "colorbar": {
             "outlinewidth": 0,
             "ticks": ""
            },
            "type": "mesh3d"
           }
          ],
          "parcoords": [
           {
            "line": {
             "colorbar": {
              "outlinewidth": 0,
              "ticks": ""
             }
            },
            "type": "parcoords"
           }
          ],
          "pie": [
           {
            "automargin": true,
            "type": "pie"
           }
          ],
          "scatter": [
           {
            "fillpattern": {
             "fillmode": "overlay",
             "size": 10,
             "solidity": 0.2
            },
            "type": "scatter"
           }
          ],
          "scatter3d": [
           {
            "line": {
             "colorbar": {
              "outlinewidth": 0,
              "ticks": ""
             }
            },
            "marker": {
             "colorbar": {
              "outlinewidth": 0,
              "ticks": ""
             }
            },
            "type": "scatter3d"
           }
          ],
          "scattercarpet": [
           {
            "marker": {
             "colorbar": {
              "outlinewidth": 0,
              "ticks": ""
             }
            },
            "type": "scattercarpet"
           }
          ],
          "scattergeo": [
           {
            "marker": {
             "colorbar": {
              "outlinewidth": 0,
              "ticks": ""
             }
            },
            "type": "scattergeo"
           }
          ],
          "scattergl": [
           {
            "marker": {
             "colorbar": {
              "outlinewidth": 0,
              "ticks": ""
             }
            },
            "type": "scattergl"
           }
          ],
          "scattermapbox": [
           {
            "marker": {
             "colorbar": {
              "outlinewidth": 0,
              "ticks": ""
             }
            },
            "type": "scattermapbox"
           }
          ],
          "scatterpolar": [
           {
            "marker": {
             "colorbar": {
              "outlinewidth": 0,
              "ticks": ""
             }
            },
            "type": "scatterpolar"
           }
          ],
          "scatterpolargl": [
           {
            "marker": {
             "colorbar": {
              "outlinewidth": 0,
              "ticks": ""
             }
            },
            "type": "scatterpolargl"
           }
          ],
          "scatterternary": [
           {
            "marker": {
             "colorbar": {
              "outlinewidth": 0,
              "ticks": ""
             }
            },
            "type": "scatterternary"
           }
          ],
          "surface": [
           {
            "colorbar": {
             "outlinewidth": 0,
             "ticks": ""
            },
            "colorscale": [
             [
              0,
              "#0d0887"
             ],
             [
              0.1111111111111111,
              "#46039f"
             ],
             [
              0.2222222222222222,
              "#7201a8"
             ],
             [
              0.3333333333333333,
              "#9c179e"
             ],
             [
              0.4444444444444444,
              "#bd3786"
             ],
             [
              0.5555555555555556,
              "#d8576b"
             ],
             [
              0.6666666666666666,
              "#ed7953"
             ],
             [
              0.7777777777777778,
              "#fb9f3a"
             ],
             [
              0.8888888888888888,
              "#fdca26"
             ],
             [
              1,
              "#f0f921"
             ]
            ],
            "type": "surface"
           }
          ],
          "table": [
           {
            "cells": {
             "fill": {
              "color": "#EBF0F8"
             },
             "line": {
              "color": "white"
             }
            },
            "header": {
             "fill": {
              "color": "#C8D4E3"
             },
             "line": {
              "color": "white"
             }
            },
            "type": "table"
           }
          ]
         },
         "layout": {
          "annotationdefaults": {
           "arrowcolor": "#2a3f5f",
           "arrowhead": 0,
           "arrowwidth": 1
          },
          "autotypenumbers": "strict",
          "coloraxis": {
           "colorbar": {
            "outlinewidth": 0,
            "ticks": ""
           }
          },
          "colorscale": {
           "diverging": [
            [
             0,
             "#8e0152"
            ],
            [
             0.1,
             "#c51b7d"
            ],
            [
             0.2,
             "#de77ae"
            ],
            [
             0.3,
             "#f1b6da"
            ],
            [
             0.4,
             "#fde0ef"
            ],
            [
             0.5,
             "#f7f7f7"
            ],
            [
             0.6,
             "#e6f5d0"
            ],
            [
             0.7,
             "#b8e186"
            ],
            [
             0.8,
             "#7fbc41"
            ],
            [
             0.9,
             "#4d9221"
            ],
            [
             1,
             "#276419"
            ]
           ],
           "sequential": [
            [
             0,
             "#0d0887"
            ],
            [
             0.1111111111111111,
             "#46039f"
            ],
            [
             0.2222222222222222,
             "#7201a8"
            ],
            [
             0.3333333333333333,
             "#9c179e"
            ],
            [
             0.4444444444444444,
             "#bd3786"
            ],
            [
             0.5555555555555556,
             "#d8576b"
            ],
            [
             0.6666666666666666,
             "#ed7953"
            ],
            [
             0.7777777777777778,
             "#fb9f3a"
            ],
            [
             0.8888888888888888,
             "#fdca26"
            ],
            [
             1,
             "#f0f921"
            ]
           ],
           "sequentialminus": [
            [
             0,
             "#0d0887"
            ],
            [
             0.1111111111111111,
             "#46039f"
            ],
            [
             0.2222222222222222,
             "#7201a8"
            ],
            [
             0.3333333333333333,
             "#9c179e"
            ],
            [
             0.4444444444444444,
             "#bd3786"
            ],
            [
             0.5555555555555556,
             "#d8576b"
            ],
            [
             0.6666666666666666,
             "#ed7953"
            ],
            [
             0.7777777777777778,
             "#fb9f3a"
            ],
            [
             0.8888888888888888,
             "#fdca26"
            ],
            [
             1,
             "#f0f921"
            ]
           ]
          },
          "colorway": [
           "#636efa",
           "#EF553B",
           "#00cc96",
           "#ab63fa",
           "#FFA15A",
           "#19d3f3",
           "#FF6692",
           "#B6E880",
           "#FF97FF",
           "#FECB52"
          ],
          "font": {
           "color": "#2a3f5f"
          },
          "geo": {
           "bgcolor": "white",
           "lakecolor": "white",
           "landcolor": "#E5ECF6",
           "showlakes": true,
           "showland": true,
           "subunitcolor": "white"
          },
          "hoverlabel": {
           "align": "left"
          },
          "hovermode": "closest",
          "mapbox": {
           "style": "light"
          },
          "paper_bgcolor": "white",
          "plot_bgcolor": "#E5ECF6",
          "polar": {
           "angularaxis": {
            "gridcolor": "white",
            "linecolor": "white",
            "ticks": ""
           },
           "bgcolor": "#E5ECF6",
           "radialaxis": {
            "gridcolor": "white",
            "linecolor": "white",
            "ticks": ""
           }
          },
          "scene": {
           "xaxis": {
            "backgroundcolor": "#E5ECF6",
            "gridcolor": "white",
            "gridwidth": 2,
            "linecolor": "white",
            "showbackground": true,
            "ticks": "",
            "zerolinecolor": "white"
           },
           "yaxis": {
            "backgroundcolor": "#E5ECF6",
            "gridcolor": "white",
            "gridwidth": 2,
            "linecolor": "white",
            "showbackground": true,
            "ticks": "",
            "zerolinecolor": "white"
           },
           "zaxis": {
            "backgroundcolor": "#E5ECF6",
            "gridcolor": "white",
            "gridwidth": 2,
            "linecolor": "white",
            "showbackground": true,
            "ticks": "",
            "zerolinecolor": "white"
           }
          },
          "shapedefaults": {
           "line": {
            "color": "#2a3f5f"
           }
          },
          "ternary": {
           "aaxis": {
            "gridcolor": "white",
            "linecolor": "white",
            "ticks": ""
           },
           "baxis": {
            "gridcolor": "white",
            "linecolor": "white",
            "ticks": ""
           },
           "bgcolor": "#E5ECF6",
           "caxis": {
            "gridcolor": "white",
            "linecolor": "white",
            "ticks": ""
           }
          },
          "title": {
           "x": 0.05
          },
          "xaxis": {
           "automargin": true,
           "gridcolor": "white",
           "linecolor": "white",
           "ticks": "",
           "title": {
            "standoff": 15
           },
           "zerolinecolor": "white",
           "zerolinewidth": 2
          },
          "yaxis": {
           "automargin": true,
           "gridcolor": "white",
           "linecolor": "white",
           "ticks": "",
           "title": {
            "standoff": 15
           },
           "zerolinecolor": "white",
           "zerolinewidth": 2
          }
         }
        },
        "title": {
         "text": "Sales Over Years"
        },
        "xaxis": {
         "title": {
          "text": "Year"
         }
        },
        "yaxis": {
         "title": {
          "text": "Sales"
         }
        }
       }
      }
     },
     "metadata": {},
     "output_type": "display_data"
    }
   ],
   "source": [
    "years=[2020, 2021, 2022, 2023, 2024]\n",
    "sales=[150, 200, 400, 200, 350]\n",
    "\n",
    "fig=go.Figure(data=go.Scatter(x=years,y=sales))\n",
    "fig.update_layout(title='Sales Over Years', xaxis_title='Year', yaxis_title='Sales')\n",
    "fig.show()"
   ]
  },
  {
   "cell_type": "code",
   "execution_count": 43,
   "id": "6a9bccf9",
   "metadata": {},
   "outputs": [
    {
     "data": {
      "application/vnd.plotly.v1+json": {
       "config": {
        "plotlyServerURL": "https://plot.ly"
       },
       "data": [
        {
         "type": "scatter",
         "x": [
          2020,
          2021,
          2022,
          2023,
          2024
         ],
         "y": [
          150,
          200,
          400,
          200,
          350
         ]
        }
       ],
       "layout": {
        "annotations": [
         {
          "arrowhead": 5,
          "ax": -50,
          "ay": -50,
          "showarrow": true,
          "text": "Peak Sales",
          "x": 2022,
          "y": 400
         }
        ],
        "template": {
         "data": {
          "bar": [
           {
            "error_x": {
             "color": "#2a3f5f"
            },
            "error_y": {
             "color": "#2a3f5f"
            },
            "marker": {
             "line": {
              "color": "#E5ECF6",
              "width": 0.5
             },
             "pattern": {
              "fillmode": "overlay",
              "size": 10,
              "solidity": 0.2
             }
            },
            "type": "bar"
           }
          ],
          "barpolar": [
           {
            "marker": {
             "line": {
              "color": "#E5ECF6",
              "width": 0.5
             },
             "pattern": {
              "fillmode": "overlay",
              "size": 10,
              "solidity": 0.2
             }
            },
            "type": "barpolar"
           }
          ],
          "carpet": [
           {
            "aaxis": {
             "endlinecolor": "#2a3f5f",
             "gridcolor": "white",
             "linecolor": "white",
             "minorgridcolor": "white",
             "startlinecolor": "#2a3f5f"
            },
            "baxis": {
             "endlinecolor": "#2a3f5f",
             "gridcolor": "white",
             "linecolor": "white",
             "minorgridcolor": "white",
             "startlinecolor": "#2a3f5f"
            },
            "type": "carpet"
           }
          ],
          "choropleth": [
           {
            "colorbar": {
             "outlinewidth": 0,
             "ticks": ""
            },
            "type": "choropleth"
           }
          ],
          "contour": [
           {
            "colorbar": {
             "outlinewidth": 0,
             "ticks": ""
            },
            "colorscale": [
             [
              0,
              "#0d0887"
             ],
             [
              0.1111111111111111,
              "#46039f"
             ],
             [
              0.2222222222222222,
              "#7201a8"
             ],
             [
              0.3333333333333333,
              "#9c179e"
             ],
             [
              0.4444444444444444,
              "#bd3786"
             ],
             [
              0.5555555555555556,
              "#d8576b"
             ],
             [
              0.6666666666666666,
              "#ed7953"
             ],
             [
              0.7777777777777778,
              "#fb9f3a"
             ],
             [
              0.8888888888888888,
              "#fdca26"
             ],
             [
              1,
              "#f0f921"
             ]
            ],
            "type": "contour"
           }
          ],
          "contourcarpet": [
           {
            "colorbar": {
             "outlinewidth": 0,
             "ticks": ""
            },
            "type": "contourcarpet"
           }
          ],
          "heatmap": [
           {
            "colorbar": {
             "outlinewidth": 0,
             "ticks": ""
            },
            "colorscale": [
             [
              0,
              "#0d0887"
             ],
             [
              0.1111111111111111,
              "#46039f"
             ],
             [
              0.2222222222222222,
              "#7201a8"
             ],
             [
              0.3333333333333333,
              "#9c179e"
             ],
             [
              0.4444444444444444,
              "#bd3786"
             ],
             [
              0.5555555555555556,
              "#d8576b"
             ],
             [
              0.6666666666666666,
              "#ed7953"
             ],
             [
              0.7777777777777778,
              "#fb9f3a"
             ],
             [
              0.8888888888888888,
              "#fdca26"
             ],
             [
              1,
              "#f0f921"
             ]
            ],
            "type": "heatmap"
           }
          ],
          "heatmapgl": [
           {
            "colorbar": {
             "outlinewidth": 0,
             "ticks": ""
            },
            "colorscale": [
             [
              0,
              "#0d0887"
             ],
             [
              0.1111111111111111,
              "#46039f"
             ],
             [
              0.2222222222222222,
              "#7201a8"
             ],
             [
              0.3333333333333333,
              "#9c179e"
             ],
             [
              0.4444444444444444,
              "#bd3786"
             ],
             [
              0.5555555555555556,
              "#d8576b"
             ],
             [
              0.6666666666666666,
              "#ed7953"
             ],
             [
              0.7777777777777778,
              "#fb9f3a"
             ],
             [
              0.8888888888888888,
              "#fdca26"
             ],
             [
              1,
              "#f0f921"
             ]
            ],
            "type": "heatmapgl"
           }
          ],
          "histogram": [
           {
            "marker": {
             "pattern": {
              "fillmode": "overlay",
              "size": 10,
              "solidity": 0.2
             }
            },
            "type": "histogram"
           }
          ],
          "histogram2d": [
           {
            "colorbar": {
             "outlinewidth": 0,
             "ticks": ""
            },
            "colorscale": [
             [
              0,
              "#0d0887"
             ],
             [
              0.1111111111111111,
              "#46039f"
             ],
             [
              0.2222222222222222,
              "#7201a8"
             ],
             [
              0.3333333333333333,
              "#9c179e"
             ],
             [
              0.4444444444444444,
              "#bd3786"
             ],
             [
              0.5555555555555556,
              "#d8576b"
             ],
             [
              0.6666666666666666,
              "#ed7953"
             ],
             [
              0.7777777777777778,
              "#fb9f3a"
             ],
             [
              0.8888888888888888,
              "#fdca26"
             ],
             [
              1,
              "#f0f921"
             ]
            ],
            "type": "histogram2d"
           }
          ],
          "histogram2dcontour": [
           {
            "colorbar": {
             "outlinewidth": 0,
             "ticks": ""
            },
            "colorscale": [
             [
              0,
              "#0d0887"
             ],
             [
              0.1111111111111111,
              "#46039f"
             ],
             [
              0.2222222222222222,
              "#7201a8"
             ],
             [
              0.3333333333333333,
              "#9c179e"
             ],
             [
              0.4444444444444444,
              "#bd3786"
             ],
             [
              0.5555555555555556,
              "#d8576b"
             ],
             [
              0.6666666666666666,
              "#ed7953"
             ],
             [
              0.7777777777777778,
              "#fb9f3a"
             ],
             [
              0.8888888888888888,
              "#fdca26"
             ],
             [
              1,
              "#f0f921"
             ]
            ],
            "type": "histogram2dcontour"
           }
          ],
          "mesh3d": [
           {
            "colorbar": {
             "outlinewidth": 0,
             "ticks": ""
            },
            "type": "mesh3d"
           }
          ],
          "parcoords": [
           {
            "line": {
             "colorbar": {
              "outlinewidth": 0,
              "ticks": ""
             }
            },
            "type": "parcoords"
           }
          ],
          "pie": [
           {
            "automargin": true,
            "type": "pie"
           }
          ],
          "scatter": [
           {
            "fillpattern": {
             "fillmode": "overlay",
             "size": 10,
             "solidity": 0.2
            },
            "type": "scatter"
           }
          ],
          "scatter3d": [
           {
            "line": {
             "colorbar": {
              "outlinewidth": 0,
              "ticks": ""
             }
            },
            "marker": {
             "colorbar": {
              "outlinewidth": 0,
              "ticks": ""
             }
            },
            "type": "scatter3d"
           }
          ],
          "scattercarpet": [
           {
            "marker": {
             "colorbar": {
              "outlinewidth": 0,
              "ticks": ""
             }
            },
            "type": "scattercarpet"
           }
          ],
          "scattergeo": [
           {
            "marker": {
             "colorbar": {
              "outlinewidth": 0,
              "ticks": ""
             }
            },
            "type": "scattergeo"
           }
          ],
          "scattergl": [
           {
            "marker": {
             "colorbar": {
              "outlinewidth": 0,
              "ticks": ""
             }
            },
            "type": "scattergl"
           }
          ],
          "scattermapbox": [
           {
            "marker": {
             "colorbar": {
              "outlinewidth": 0,
              "ticks": ""
             }
            },
            "type": "scattermapbox"
           }
          ],
          "scatterpolar": [
           {
            "marker": {
             "colorbar": {
              "outlinewidth": 0,
              "ticks": ""
             }
            },
            "type": "scatterpolar"
           }
          ],
          "scatterpolargl": [
           {
            "marker": {
             "colorbar": {
              "outlinewidth": 0,
              "ticks": ""
             }
            },
            "type": "scatterpolargl"
           }
          ],
          "scatterternary": [
           {
            "marker": {
             "colorbar": {
              "outlinewidth": 0,
              "ticks": ""
             }
            },
            "type": "scatterternary"
           }
          ],
          "surface": [
           {
            "colorbar": {
             "outlinewidth": 0,
             "ticks": ""
            },
            "colorscale": [
             [
              0,
              "#0d0887"
             ],
             [
              0.1111111111111111,
              "#46039f"
             ],
             [
              0.2222222222222222,
              "#7201a8"
             ],
             [
              0.3333333333333333,
              "#9c179e"
             ],
             [
              0.4444444444444444,
              "#bd3786"
             ],
             [
              0.5555555555555556,
              "#d8576b"
             ],
             [
              0.6666666666666666,
              "#ed7953"
             ],
             [
              0.7777777777777778,
              "#fb9f3a"
             ],
             [
              0.8888888888888888,
              "#fdca26"
             ],
             [
              1,
              "#f0f921"
             ]
            ],
            "type": "surface"
           }
          ],
          "table": [
           {
            "cells": {
             "fill": {
              "color": "#EBF0F8"
             },
             "line": {
              "color": "white"
             }
            },
            "header": {
             "fill": {
              "color": "#C8D4E3"
             },
             "line": {
              "color": "white"
             }
            },
            "type": "table"
           }
          ]
         },
         "layout": {
          "annotationdefaults": {
           "arrowcolor": "#2a3f5f",
           "arrowhead": 0,
           "arrowwidth": 1
          },
          "autotypenumbers": "strict",
          "coloraxis": {
           "colorbar": {
            "outlinewidth": 0,
            "ticks": ""
           }
          },
          "colorscale": {
           "diverging": [
            [
             0,
             "#8e0152"
            ],
            [
             0.1,
             "#c51b7d"
            ],
            [
             0.2,
             "#de77ae"
            ],
            [
             0.3,
             "#f1b6da"
            ],
            [
             0.4,
             "#fde0ef"
            ],
            [
             0.5,
             "#f7f7f7"
            ],
            [
             0.6,
             "#e6f5d0"
            ],
            [
             0.7,
             "#b8e186"
            ],
            [
             0.8,
             "#7fbc41"
            ],
            [
             0.9,
             "#4d9221"
            ],
            [
             1,
             "#276419"
            ]
           ],
           "sequential": [
            [
             0,
             "#0d0887"
            ],
            [
             0.1111111111111111,
             "#46039f"
            ],
            [
             0.2222222222222222,
             "#7201a8"
            ],
            [
             0.3333333333333333,
             "#9c179e"
            ],
            [
             0.4444444444444444,
             "#bd3786"
            ],
            [
             0.5555555555555556,
             "#d8576b"
            ],
            [
             0.6666666666666666,
             "#ed7953"
            ],
            [
             0.7777777777777778,
             "#fb9f3a"
            ],
            [
             0.8888888888888888,
             "#fdca26"
            ],
            [
             1,
             "#f0f921"
            ]
           ],
           "sequentialminus": [
            [
             0,
             "#0d0887"
            ],
            [
             0.1111111111111111,
             "#46039f"
            ],
            [
             0.2222222222222222,
             "#7201a8"
            ],
            [
             0.3333333333333333,
             "#9c179e"
            ],
            [
             0.4444444444444444,
             "#bd3786"
            ],
            [
             0.5555555555555556,
             "#d8576b"
            ],
            [
             0.6666666666666666,
             "#ed7953"
            ],
            [
             0.7777777777777778,
             "#fb9f3a"
            ],
            [
             0.8888888888888888,
             "#fdca26"
            ],
            [
             1,
             "#f0f921"
            ]
           ]
          },
          "colorway": [
           "#636efa",
           "#EF553B",
           "#00cc96",
           "#ab63fa",
           "#FFA15A",
           "#19d3f3",
           "#FF6692",
           "#B6E880",
           "#FF97FF",
           "#FECB52"
          ],
          "font": {
           "color": "#2a3f5f"
          },
          "geo": {
           "bgcolor": "white",
           "lakecolor": "white",
           "landcolor": "#E5ECF6",
           "showlakes": true,
           "showland": true,
           "subunitcolor": "white"
          },
          "hoverlabel": {
           "align": "left"
          },
          "hovermode": "closest",
          "mapbox": {
           "style": "light"
          },
          "paper_bgcolor": "white",
          "plot_bgcolor": "#E5ECF6",
          "polar": {
           "angularaxis": {
            "gridcolor": "white",
            "linecolor": "white",
            "ticks": ""
           },
           "bgcolor": "#E5ECF6",
           "radialaxis": {
            "gridcolor": "white",
            "linecolor": "white",
            "ticks": ""
           }
          },
          "scene": {
           "xaxis": {
            "backgroundcolor": "#E5ECF6",
            "gridcolor": "white",
            "gridwidth": 2,
            "linecolor": "white",
            "showbackground": true,
            "ticks": "",
            "zerolinecolor": "white"
           },
           "yaxis": {
            "backgroundcolor": "#E5ECF6",
            "gridcolor": "white",
            "gridwidth": 2,
            "linecolor": "white",
            "showbackground": true,
            "ticks": "",
            "zerolinecolor": "white"
           },
           "zaxis": {
            "backgroundcolor": "#E5ECF6",
            "gridcolor": "white",
            "gridwidth": 2,
            "linecolor": "white",
            "showbackground": true,
            "ticks": "",
            "zerolinecolor": "white"
           }
          },
          "shapedefaults": {
           "line": {
            "color": "#2a3f5f"
           }
          },
          "ternary": {
           "aaxis": {
            "gridcolor": "white",
            "linecolor": "white",
            "ticks": ""
           },
           "baxis": {
            "gridcolor": "white",
            "linecolor": "white",
            "ticks": ""
           },
           "bgcolor": "#E5ECF6",
           "caxis": {
            "gridcolor": "white",
            "linecolor": "white",
            "ticks": ""
           }
          },
          "title": {
           "x": 0.05
          },
          "xaxis": {
           "automargin": true,
           "gridcolor": "white",
           "linecolor": "white",
           "ticks": "",
           "title": {
            "standoff": 15
           },
           "zerolinecolor": "white",
           "zerolinewidth": 2
          },
          "yaxis": {
           "automargin": true,
           "gridcolor": "white",
           "linecolor": "white",
           "ticks": "",
           "title": {
            "standoff": 15
           },
           "zerolinecolor": "white",
           "zerolinewidth": 2
          }
         }
        },
        "title": {
         "text": "Sales Over Years with Annotation"
        },
        "xaxis": {
         "title": {
          "text": "Year"
         }
        },
        "yaxis": {
         "title": {
          "text": "Sales"
         }
        }
       }
      }
     },
     "metadata": {},
     "output_type": "display_data"
    }
   ],
   "source": [
    "fig=go.Figure(data=go.Scatter(x=years,y=sales))\n",
    "fig.add_annotation(\n",
    "    x=2022,\n",
    "    y=400,\n",
    "    text=\"Peak Sales\",\n",
    "    showarrow=True,\n",
    "    arrowhead=5,\n",
    "    ax=-50,\n",
    "    ay=-50\n",
    "    )\n",
    "fig.update_layout(title='Sales Over Years with Annotation', xaxis_title='Year', yaxis_title='Sales')\n",
    "fig.show()\n"
   ]
  },
  {
   "cell_type": "code",
   "execution_count": 57,
   "id": "0f93f0f0",
   "metadata": {},
   "outputs": [
    {
     "data": {
      "application/vnd.plotly.v1+json": {
       "config": {
        "plotlyServerURL": "https://plot.ly"
       },
       "data": [
        {
         "type": "scatter",
         "x": [
          2020,
          2021,
          2022,
          2023,
          2024
         ],
         "y": [
          150,
          200,
          400,
          200,
          350
         ]
        }
       ],
       "layout": {
        "shapes": [
         {
          "fillcolor": "Red",
          "line": {
           "color": "Yellow",
           "width": 5
          },
          "opacity": 0.3,
          "type": "rect",
          "x0": 2021,
          "x1": 2023,
          "y0": 150,
          "y1": 200
         }
        ],
        "template": {
         "data": {
          "bar": [
           {
            "error_x": {
             "color": "#2a3f5f"
            },
            "error_y": {
             "color": "#2a3f5f"
            },
            "marker": {
             "line": {
              "color": "#E5ECF6",
              "width": 0.5
             },
             "pattern": {
              "fillmode": "overlay",
              "size": 10,
              "solidity": 0.2
             }
            },
            "type": "bar"
           }
          ],
          "barpolar": [
           {
            "marker": {
             "line": {
              "color": "#E5ECF6",
              "width": 0.5
             },
             "pattern": {
              "fillmode": "overlay",
              "size": 10,
              "solidity": 0.2
             }
            },
            "type": "barpolar"
           }
          ],
          "carpet": [
           {
            "aaxis": {
             "endlinecolor": "#2a3f5f",
             "gridcolor": "white",
             "linecolor": "white",
             "minorgridcolor": "white",
             "startlinecolor": "#2a3f5f"
            },
            "baxis": {
             "endlinecolor": "#2a3f5f",
             "gridcolor": "white",
             "linecolor": "white",
             "minorgridcolor": "white",
             "startlinecolor": "#2a3f5f"
            },
            "type": "carpet"
           }
          ],
          "choropleth": [
           {
            "colorbar": {
             "outlinewidth": 0,
             "ticks": ""
            },
            "type": "choropleth"
           }
          ],
          "contour": [
           {
            "colorbar": {
             "outlinewidth": 0,
             "ticks": ""
            },
            "colorscale": [
             [
              0,
              "#0d0887"
             ],
             [
              0.1111111111111111,
              "#46039f"
             ],
             [
              0.2222222222222222,
              "#7201a8"
             ],
             [
              0.3333333333333333,
              "#9c179e"
             ],
             [
              0.4444444444444444,
              "#bd3786"
             ],
             [
              0.5555555555555556,
              "#d8576b"
             ],
             [
              0.6666666666666666,
              "#ed7953"
             ],
             [
              0.7777777777777778,
              "#fb9f3a"
             ],
             [
              0.8888888888888888,
              "#fdca26"
             ],
             [
              1,
              "#f0f921"
             ]
            ],
            "type": "contour"
           }
          ],
          "contourcarpet": [
           {
            "colorbar": {
             "outlinewidth": 0,
             "ticks": ""
            },
            "type": "contourcarpet"
           }
          ],
          "heatmap": [
           {
            "colorbar": {
             "outlinewidth": 0,
             "ticks": ""
            },
            "colorscale": [
             [
              0,
              "#0d0887"
             ],
             [
              0.1111111111111111,
              "#46039f"
             ],
             [
              0.2222222222222222,
              "#7201a8"
             ],
             [
              0.3333333333333333,
              "#9c179e"
             ],
             [
              0.4444444444444444,
              "#bd3786"
             ],
             [
              0.5555555555555556,
              "#d8576b"
             ],
             [
              0.6666666666666666,
              "#ed7953"
             ],
             [
              0.7777777777777778,
              "#fb9f3a"
             ],
             [
              0.8888888888888888,
              "#fdca26"
             ],
             [
              1,
              "#f0f921"
             ]
            ],
            "type": "heatmap"
           }
          ],
          "heatmapgl": [
           {
            "colorbar": {
             "outlinewidth": 0,
             "ticks": ""
            },
            "colorscale": [
             [
              0,
              "#0d0887"
             ],
             [
              0.1111111111111111,
              "#46039f"
             ],
             [
              0.2222222222222222,
              "#7201a8"
             ],
             [
              0.3333333333333333,
              "#9c179e"
             ],
             [
              0.4444444444444444,
              "#bd3786"
             ],
             [
              0.5555555555555556,
              "#d8576b"
             ],
             [
              0.6666666666666666,
              "#ed7953"
             ],
             [
              0.7777777777777778,
              "#fb9f3a"
             ],
             [
              0.8888888888888888,
              "#fdca26"
             ],
             [
              1,
              "#f0f921"
             ]
            ],
            "type": "heatmapgl"
           }
          ],
          "histogram": [
           {
            "marker": {
             "pattern": {
              "fillmode": "overlay",
              "size": 10,
              "solidity": 0.2
             }
            },
            "type": "histogram"
           }
          ],
          "histogram2d": [
           {
            "colorbar": {
             "outlinewidth": 0,
             "ticks": ""
            },
            "colorscale": [
             [
              0,
              "#0d0887"
             ],
             [
              0.1111111111111111,
              "#46039f"
             ],
             [
              0.2222222222222222,
              "#7201a8"
             ],
             [
              0.3333333333333333,
              "#9c179e"
             ],
             [
              0.4444444444444444,
              "#bd3786"
             ],
             [
              0.5555555555555556,
              "#d8576b"
             ],
             [
              0.6666666666666666,
              "#ed7953"
             ],
             [
              0.7777777777777778,
              "#fb9f3a"
             ],
             [
              0.8888888888888888,
              "#fdca26"
             ],
             [
              1,
              "#f0f921"
             ]
            ],
            "type": "histogram2d"
           }
          ],
          "histogram2dcontour": [
           {
            "colorbar": {
             "outlinewidth": 0,
             "ticks": ""
            },
            "colorscale": [
             [
              0,
              "#0d0887"
             ],
             [
              0.1111111111111111,
              "#46039f"
             ],
             [
              0.2222222222222222,
              "#7201a8"
             ],
             [
              0.3333333333333333,
              "#9c179e"
             ],
             [
              0.4444444444444444,
              "#bd3786"
             ],
             [
              0.5555555555555556,
              "#d8576b"
             ],
             [
              0.6666666666666666,
              "#ed7953"
             ],
             [
              0.7777777777777778,
              "#fb9f3a"
             ],
             [
              0.8888888888888888,
              "#fdca26"
             ],
             [
              1,
              "#f0f921"
             ]
            ],
            "type": "histogram2dcontour"
           }
          ],
          "mesh3d": [
           {
            "colorbar": {
             "outlinewidth": 0,
             "ticks": ""
            },
            "type": "mesh3d"
           }
          ],
          "parcoords": [
           {
            "line": {
             "colorbar": {
              "outlinewidth": 0,
              "ticks": ""
             }
            },
            "type": "parcoords"
           }
          ],
          "pie": [
           {
            "automargin": true,
            "type": "pie"
           }
          ],
          "scatter": [
           {
            "fillpattern": {
             "fillmode": "overlay",
             "size": 10,
             "solidity": 0.2
            },
            "type": "scatter"
           }
          ],
          "scatter3d": [
           {
            "line": {
             "colorbar": {
              "outlinewidth": 0,
              "ticks": ""
             }
            },
            "marker": {
             "colorbar": {
              "outlinewidth": 0,
              "ticks": ""
             }
            },
            "type": "scatter3d"
           }
          ],
          "scattercarpet": [
           {
            "marker": {
             "colorbar": {
              "outlinewidth": 0,
              "ticks": ""
             }
            },
            "type": "scattercarpet"
           }
          ],
          "scattergeo": [
           {
            "marker": {
             "colorbar": {
              "outlinewidth": 0,
              "ticks": ""
             }
            },
            "type": "scattergeo"
           }
          ],
          "scattergl": [
           {
            "marker": {
             "colorbar": {
              "outlinewidth": 0,
              "ticks": ""
             }
            },
            "type": "scattergl"
           }
          ],
          "scattermapbox": [
           {
            "marker": {
             "colorbar": {
              "outlinewidth": 0,
              "ticks": ""
             }
            },
            "type": "scattermapbox"
           }
          ],
          "scatterpolar": [
           {
            "marker": {
             "colorbar": {
              "outlinewidth": 0,
              "ticks": ""
             }
            },
            "type": "scatterpolar"
           }
          ],
          "scatterpolargl": [
           {
            "marker": {
             "colorbar": {
              "outlinewidth": 0,
              "ticks": ""
             }
            },
            "type": "scatterpolargl"
           }
          ],
          "scatterternary": [
           {
            "marker": {
             "colorbar": {
              "outlinewidth": 0,
              "ticks": ""
             }
            },
            "type": "scatterternary"
           }
          ],
          "surface": [
           {
            "colorbar": {
             "outlinewidth": 0,
             "ticks": ""
            },
            "colorscale": [
             [
              0,
              "#0d0887"
             ],
             [
              0.1111111111111111,
              "#46039f"
             ],
             [
              0.2222222222222222,
              "#7201a8"
             ],
             [
              0.3333333333333333,
              "#9c179e"
             ],
             [
              0.4444444444444444,
              "#bd3786"
             ],
             [
              0.5555555555555556,
              "#d8576b"
             ],
             [
              0.6666666666666666,
              "#ed7953"
             ],
             [
              0.7777777777777778,
              "#fb9f3a"
             ],
             [
              0.8888888888888888,
              "#fdca26"
             ],
             [
              1,
              "#f0f921"
             ]
            ],
            "type": "surface"
           }
          ],
          "table": [
           {
            "cells": {
             "fill": {
              "color": "#EBF0F8"
             },
             "line": {
              "color": "white"
             }
            },
            "header": {
             "fill": {
              "color": "#C8D4E3"
             },
             "line": {
              "color": "white"
             }
            },
            "type": "table"
           }
          ]
         },
         "layout": {
          "annotationdefaults": {
           "arrowcolor": "#2a3f5f",
           "arrowhead": 0,
           "arrowwidth": 1
          },
          "autotypenumbers": "strict",
          "coloraxis": {
           "colorbar": {
            "outlinewidth": 0,
            "ticks": ""
           }
          },
          "colorscale": {
           "diverging": [
            [
             0,
             "#8e0152"
            ],
            [
             0.1,
             "#c51b7d"
            ],
            [
             0.2,
             "#de77ae"
            ],
            [
             0.3,
             "#f1b6da"
            ],
            [
             0.4,
             "#fde0ef"
            ],
            [
             0.5,
             "#f7f7f7"
            ],
            [
             0.6,
             "#e6f5d0"
            ],
            [
             0.7,
             "#b8e186"
            ],
            [
             0.8,
             "#7fbc41"
            ],
            [
             0.9,
             "#4d9221"
            ],
            [
             1,
             "#276419"
            ]
           ],
           "sequential": [
            [
             0,
             "#0d0887"
            ],
            [
             0.1111111111111111,
             "#46039f"
            ],
            [
             0.2222222222222222,
             "#7201a8"
            ],
            [
             0.3333333333333333,
             "#9c179e"
            ],
            [
             0.4444444444444444,
             "#bd3786"
            ],
            [
             0.5555555555555556,
             "#d8576b"
            ],
            [
             0.6666666666666666,
             "#ed7953"
            ],
            [
             0.7777777777777778,
             "#fb9f3a"
            ],
            [
             0.8888888888888888,
             "#fdca26"
            ],
            [
             1,
             "#f0f921"
            ]
           ],
           "sequentialminus": [
            [
             0,
             "#0d0887"
            ],
            [
             0.1111111111111111,
             "#46039f"
            ],
            [
             0.2222222222222222,
             "#7201a8"
            ],
            [
             0.3333333333333333,
             "#9c179e"
            ],
            [
             0.4444444444444444,
             "#bd3786"
            ],
            [
             0.5555555555555556,
             "#d8576b"
            ],
            [
             0.6666666666666666,
             "#ed7953"
            ],
            [
             0.7777777777777778,
             "#fb9f3a"
            ],
            [
             0.8888888888888888,
             "#fdca26"
            ],
            [
             1,
             "#f0f921"
            ]
           ]
          },
          "colorway": [
           "#636efa",
           "#EF553B",
           "#00cc96",
           "#ab63fa",
           "#FFA15A",
           "#19d3f3",
           "#FF6692",
           "#B6E880",
           "#FF97FF",
           "#FECB52"
          ],
          "font": {
           "color": "#2a3f5f"
          },
          "geo": {
           "bgcolor": "white",
           "lakecolor": "white",
           "landcolor": "#E5ECF6",
           "showlakes": true,
           "showland": true,
           "subunitcolor": "white"
          },
          "hoverlabel": {
           "align": "left"
          },
          "hovermode": "closest",
          "mapbox": {
           "style": "light"
          },
          "paper_bgcolor": "white",
          "plot_bgcolor": "#E5ECF6",
          "polar": {
           "angularaxis": {
            "gridcolor": "white",
            "linecolor": "white",
            "ticks": ""
           },
           "bgcolor": "#E5ECF6",
           "radialaxis": {
            "gridcolor": "white",
            "linecolor": "white",
            "ticks": ""
           }
          },
          "scene": {
           "xaxis": {
            "backgroundcolor": "#E5ECF6",
            "gridcolor": "white",
            "gridwidth": 2,
            "linecolor": "white",
            "showbackground": true,
            "ticks": "",
            "zerolinecolor": "white"
           },
           "yaxis": {
            "backgroundcolor": "#E5ECF6",
            "gridcolor": "white",
            "gridwidth": 2,
            "linecolor": "white",
            "showbackground": true,
            "ticks": "",
            "zerolinecolor": "white"
           },
           "zaxis": {
            "backgroundcolor": "#E5ECF6",
            "gridcolor": "white",
            "gridwidth": 2,
            "linecolor": "white",
            "showbackground": true,
            "ticks": "",
            "zerolinecolor": "white"
           }
          },
          "shapedefaults": {
           "line": {
            "color": "#2a3f5f"
           }
          },
          "ternary": {
           "aaxis": {
            "gridcolor": "white",
            "linecolor": "white",
            "ticks": ""
           },
           "baxis": {
            "gridcolor": "white",
            "linecolor": "white",
            "ticks": ""
           },
           "bgcolor": "#E5ECF6",
           "caxis": {
            "gridcolor": "white",
            "linecolor": "white",
            "ticks": ""
           }
          },
          "title": {
           "x": 0.05
          },
          "xaxis": {
           "automargin": true,
           "gridcolor": "white",
           "linecolor": "white",
           "ticks": "",
           "title": {
            "standoff": 15
           },
           "zerolinecolor": "white",
           "zerolinewidth": 2
          },
          "yaxis": {
           "automargin": true,
           "gridcolor": "white",
           "linecolor": "white",
           "ticks": "",
           "title": {
            "standoff": 15
           },
           "zerolinecolor": "white",
           "zerolinewidth": 2
          }
         }
        }
       }
      }
     },
     "metadata": {},
     "output_type": "display_data"
    }
   ],
   "source": [
    "fig=go.Figure(data=go.Scatter(x=years,y=sales))\n",
    "fig.add_shape(\n",
    "    type=\"rect\",\n",
    "    x0=2021, x1=2023,\n",
    "    y0=150, y1=200,\n",
    "    fillcolor=\"Red\",\n",
    "    opacity=0.3,\n",
    "    line=dict(width=5,color=\"Yellow\")\n",
    ")\n"
   ]
  },
  {
   "cell_type": "code",
   "execution_count": 59,
   "id": "cf29dcfa",
   "metadata": {},
   "outputs": [
    {
     "data": {
      "application/vnd.plotly.v1+json": {
       "config": {
        "plotlyServerURL": "https://plot.ly"
       },
       "data": [
        {
         "mode": "markers",
         "type": "scatter",
         "x": [
          337.98632000000003,
          80.22,
          78.19,
          690.48,
          337.98632000000003,
          97.62,
          22.41,
          401.73,
          436.05,
          572.79,
          337.98632000000003,
          766.78,
          352.54,
          710.95,
          37.32,
          692.07,
          18.55,
          667.21,
          461.02,
          609.26,
          337.98632000000003,
          538.53,
          342.34,
          313.62,
          401.52,
          706.03,
          1108.11,
          181.17,
          553.67,
          93.61,
          506.23,
          787.55,
          529.53,
          303.62,
          23.45,
          564.04,
          688.67,
          385.02,
          297.86,
          153.57,
          41.93,
          125.24,
          337.98632000000003,
          276.83,
          485.86,
          97.34,
          29.29,
          444.41,
          240.37,
          171.42,
          143.89,
          337.98632000000003,
          843.03,
          53.1,
          65.61,
          105.87,
          337.98632000000003,
          655.69,
          147.4,
          314.33,
          134,
          334.7,
          567.2,
          260.11,
          981.58,
          564.67,
          330.2,
          304.2,
          466.82,
          197.26,
          663.94,
          28.25,
          145.16,
          710.03,
          561.23,
          361.3,
          691.56,
          107.25,
          612.29,
          441.74,
          327.11,
          337.98632000000003,
          396.41,
          66.32,
          626.65,
          446.74,
          260.98,
          333.2,
          558.72,
          771.35,
          344.16,
          57.48,
          63.86,
          887.26,
          637.81,
          198.12,
          515.95,
          288.91,
          107.88,
          259.92,
          34.97,
          94.34,
          1019.19,
          219.55,
          470.48,
          727.34,
          604.18,
          199.71,
          256.75,
          778.82,
          671.96,
          68.85,
          70.39,
          472.69,
          520.61,
          1178.53,
          272.06,
          87.77,
          185.86,
          337.98632000000003,
          40.6,
          796.14,
          73.15,
          34.53,
          257.57,
          962.29,
          164.33,
          655.44,
          185.8,
          263.88,
          52.54,
          562.04,
          233.03,
          199.29,
          27.03,
          335.54,
          1008.4,
          317.46,
          1184.27,
          463.81,
          445.74,
          245.26,
          1128.25,
          344.45,
          892.33,
          764.46,
          16.4,
          123.13,
          420.24,
          618.29,
          268.4,
          751.68,
          682.9,
          221.92,
          148.7,
          441.84,
          701.97,
          321.26,
          44.3,
          47.45,
          272.64,
          153.76,
          857.38,
          805.76,
          752.45,
          224.63,
          802.43,
          196.38,
          842.51,
          856.33,
          212.59,
          337.98632000000003,
          85.45,
          354.16,
          560.55,
          371.87,
          363.47,
          232.25,
          451.21,
          115.98,
          905.29,
          51.99,
          191.01,
          337.98632000000003,
          35.53,
          293.88,
          56.75,
          1116.62,
          183.16,
          19.28,
          506.46,
          82.54,
          545.35,
          221.11,
          75.02,
          122.22,
          1006.88,
          19.7,
          606.13,
          302.74,
          177.81,
          1159.98,
          174.77,
          567.31,
          273.76,
          74.72,
          781.5,
          275.75,
          137.36,
          554.36,
          666.62,
          312.6,
          516.75,
          433.78,
          247.83,
          70.77,
          62.94,
          1019.19,
          465.37,
          241.63,
          77.08,
          695.47,
          256.17,
          164.34,
          302.23,
          266.66,
          677.66,
          138.98,
          699.36,
          739.01,
          211.72,
          40.52,
          271.87,
          518.44,
          334.26,
          48.29,
          726.44,
          186.59,
          419.83,
          160.76,
          15.66,
          426.85,
          29.61,
          431.4,
          38.37,
          565.62,
          306.44,
          60.62,
          337.98632000000003,
          77.3,
          304.89,
          444.83,
          656.12,
          167.24,
          48.87,
          337.98632000000003,
          270.44,
          737.22,
          964.9,
          48.62,
          141.47,
          1005.73,
          422.57,
          162.27,
          740.71,
          636.13,
          90.26,
          728.85,
          408.23,
          323.93,
          23.54,
          44.35,
          95.12,
          278.49,
          193.76,
          378.67,
          908.52,
          76.95,
          363.96,
          503.32,
          169.36,
          638.13,
          38.69,
          259.01,
          856.4,
          138.87,
          111.7,
          132.1,
          295.67,
          235.65,
          531.98,
          256.56,
          317.08,
          337.98632000000003,
          472.09,
          833.96,
          67.82,
          337.98632000000003,
          35.38,
          36.19,
          60.72,
          402.05,
          1043.25,
          353.94,
          615.49,
          45.58,
          463.75,
          201.18,
          197.75,
          430.1,
          29,
          469.34,
          250.49,
          504.26,
          597.87,
          24.83,
          442.67,
          715.54,
          607.61,
          472.18,
          218.19,
          593.38,
          447.64,
          235.13,
          147.97,
          452.63,
          437.61,
          484.83,
          86.6,
          437.23,
          757.31,
          289.79,
          47.36,
          94.25,
          80.13,
          60.68,
          478.83,
          767.13,
          750.04,
          371.67,
          928.53,
          428.5,
          882.12,
          935.64,
          285.5,
          337.98632000000003,
          175.23,
          754.27,
          337.98632000000003,
          394.98,
          1148.4,
          680.39,
          206.22,
          811.81,
          482.29,
          411.75,
          38.93,
          443.19,
          455.44,
          598.46,
          342.51,
          229.66,
          727.25,
          662.71,
          97.93,
          15.22,
          71.37,
          74.79,
          526.68,
          142.56,
          143.75,
          957.16,
          64.68,
          223.82,
          55.59,
          374.14,
          240,
          695.29,
          810.14,
          271,
          627.57,
          471.49,
          96,
          697.94,
          134.29,
          39.16,
          1204.9,
          950.4,
          337.98632000000003,
          461.48,
          70.24,
          93.41,
          52.79,
          47.56,
          42.19,
          66.7,
          337.98632000000003,
          249.55,
          257.87,
          272.03,
          542.92,
          1048.29,
          104.62,
          481.58,
          150.8,
          247.64,
          372.89,
          139.72,
          337.98632000000003,
          283.61,
          337.98632000000003,
          206.52,
          337.98632000000003,
          569.77,
          71.99,
          309.42,
          326.44,
          93.57,
          589.54,
          281.72,
          405.96,
          88.59,
          95.93,
          381.99,
          736.39,
          438.42,
          489.13,
          807.9,
          448.38,
          45.96,
          34.92,
          491.18,
          242.8,
          452.62,
          104.18,
          457.28,
          862.75,
          311.68,
          72.55,
          927.37,
          202.72,
          66.02,
          337.98632000000003,
          128.38,
          133.77,
          53.07,
          815.45,
          336.54,
          94.75,
          189.46,
          190.31,
          65.56,
          353.32,
          968.29,
          134.76,
          610.67,
          46.2,
          323.4,
          659.3,
          83.49,
          350.23,
          392.94,
          246.04,
          67.65,
          100.71,
          235.01,
          179.52,
          612.46,
          26.9,
          852.53,
          1228.08,
          203,
          24.13,
          337.98632000000003,
          200.99,
          531.31,
          174.5,
          364.43,
          867.12,
          187.69,
          524.31,
          47.38,
          518.45,
          53.29,
          106.12,
          561.6,
          125.9,
          586.31,
          337.98632000000003,
          337.98632000000003,
          13.07,
          685.15,
          753.22,
          312.88,
          110.76,
          662.4,
          36.13,
          836.73,
          144.08,
          137.96,
          68.37,
          64.21,
          642.3,
          81.34,
          319.38,
          365.15,
          722.72,
          674.33,
          216.8,
          337.98632000000003,
          339.31,
          190.68,
          44.48,
          440.87,
          399.98,
          22.27,
          337.98632000000003,
          337.98632000000003,
          633.66,
          467.67,
          110.19,
          259.59,
          20.46,
          133.88,
          346.61,
          375.34,
          245.54,
          455.18,
          164.76,
          43.14,
          440.83,
          83.75,
          337.98632000000003,
          422.36,
          279.77,
          877.34,
          327.76,
          744.93,
          193.61,
          174.29,
          24.24,
          124.06,
          268.79,
          228.36,
          337.98632000000003,
          567.65,
          188.78,
          337.98632000000003,
          364.08,
          481.28,
          498.97,
          1033.79,
          157.69,
          262.46,
          366.21,
          482.84,
          364.41,
          451.81,
          711.7,
          676.11,
          159.87,
          83.57,
          827.04,
          1010.27,
          337.98632000000003,
          724.95,
          61.83,
          49.22,
          133.73,
          367.84,
          374.06,
          41.02,
          165.77,
          36.11,
          125.76,
          631.2,
          64.38,
          157.62,
          20.44,
          73.75,
          324.39,
          123.41,
          349.36,
          71.6,
          708.06,
          453.87,
          14.47,
          170.49,
          290.64,
          124.43,
          251.71,
          728.3,
          437.51,
          256.15,
          402.88,
          78.99,
          1040.03,
          276.47,
          272.91,
          169.23,
          95.95,
          309.15,
          389.03,
          86.5,
          580.44,
          869.45,
          222.64,
          45.74,
          194.78,
          448.1,
          917.38,
          482.15,
          42.93,
          658.02,
          859.82,
          630.89,
          218.26,
          383.81,
          116.62,
          223.96,
          727.62,
          1111.26,
          607.3,
          1021.27,
          386.58,
          22.35,
          224.65,
          75.35,
          143,
          305.38,
          337.98632000000003,
          664.49,
          337.98632000000003,
          294.75,
          88.85,
          337.23,
          326.26,
          17.13,
          337.98632000000003,
          174.85,
          416.45,
          468.77,
          554.02,
          140.12,
          41.01,
          15.32,
          155.94,
          142.52,
          80.95,
          314.73,
          519.7,
          328.13,
          60.11,
          356.67,
          494.88,
          337.98632000000003,
          78.28,
          286.69,
          23.28,
          408.77,
          387.82,
          115.57,
          128.54,
          914.72,
          44.3,
          506.28,
          216.71,
          350.4,
          146.36,
          277.91,
          172.08,
          85.58,
          16.23,
          609.19,
          256.41,
          494.9,
          42.72,
          968.23,
          24.04,
          243.6,
          418.15,
          90.44,
          332.79,
          145.87,
          364.82,
          297.76,
          201.38,
          31.28,
          256.42,
          78.09,
          48.66,
          552.05,
          754.46,
          308.27,
          505.96,
          218.09,
          241.25,
          142.78,
          382.16,
          413.61,
          47.56,
          507.7,
          449.52,
          72.51,
          769.35,
          407.07,
          12.03,
          134.41,
          66.34,
          101.25,
          387.07,
          58.54,
          782.31,
          606.16,
          171.89,
          743.73,
          661.75,
          412.44,
          300.08,
          298.9,
          252.16,
          62.6,
          290.43,
          170.29,
          110.87,
          337.98632000000003,
          18.33,
          726.98,
          503.74,
          95.7,
          713.22,
          63.96,
          169.84,
          313.32,
          459.51,
          61.95,
          49.81,
          816.34,
          465.47,
          299.01,
          47.11,
          501.09,
          296.52,
          581.5,
          872.26,
          599.94,
          167.61,
          902.27,
          490.1,
          459.77,
          233.22,
          155.67,
          290.81,
          12.25,
          49.78,
          264.83,
          32.19,
          527.16,
          400.6,
          826.4,
          502.1,
          533.95,
          778.82,
          1131.87,
          407.88,
          194.4,
          206.97,
          120.57,
          337.98632000000003,
          22.65,
          214.32,
          514.43,
          440.29,
          337.98632000000003,
          588.36,
          504.63,
          155.34,
          122.04,
          80.52,
          440.7,
          29.33,
          144.87,
          755.44,
          196.85,
          374.7,
          590.61,
          1011.15,
          52.08,
          69.98,
          456.07,
          314.8,
          1044.98,
          337.98632000000003,
          105.92,
          31.03,
          200.08,
          203.42
         ],
         "y": [
          6,
          4,
          13,
          31,
          18,
          4,
          1,
          23,
          25,
          44,
          21,
          42,
          36,
          30,
          3,
          33,
          1,
          33,
          22,
          28,
          4,
          50,
          17,
          22,
          28,
          47,
          50,
          32,
          46,
          6,
          32,
          39,
          33,
          18,
          1,
          24,
          47,
          49,
          14,
          17,
          4,
          8,
          16,
          15,
          38,
          13,
          2,
          19,
          28,
          7,
          9,
          25,
          41,
          3,
          4,
          5,
          26,
          43,
          14,
          20,
          23,
          29,
          25,
          20,
          42,
          32,
          26,
          18,
          50,
          16,
          46,
          4,
          12,
          35,
          28,
          46,
          35,
          12,
          43,
          38,
          38,
          0,
          32,
          8,
          41,
          22,
          22,
          17,
          42,
          33,
          35,
          5,
          5,
          44,
          48,
          35,
          50,
          12,
          16,
          20,
          3,
          7,
          50,
          22,
          46,
          37,
          41,
          8,
          27,
          32,
          43,
          7,
          5,
          28,
          24,
          48,
          29,
          16,
          15,
          0,
          5,
          32,
          8,
          3,
          49,
          46,
          16,
          33,
          9,
          30,
          4,
          26,
          18,
          13,
          3,
          19,
          41,
          18,
          48,
          33,
          29,
          11,
          47,
          18,
          45,
          34,
          2,
          20,
          45,
          47,
          12,
          33,
          45,
          11,
          9,
          18,
          43,
          32,
          5,
          3,
          16,
          7,
          47,
          38,
          48,
          22,
          40,
          16,
          37,
          36,
          26,
          44,
          4,
          17,
          43,
          25,
          18,
          14,
          21,
          21,
          48,
          4,
          17,
          30,
          4,
          14,
          3,
          48,
          16,
          1,
          30,
          4,
          39,
          12,
          5,
          9,
          47,
          2,
          46,
          26,
          14,
          47,
          9,
          38,
          12,
          10,
          43,
          33,
          11,
          34,
          47,
          13,
          45,
          33,
          26,
          9,
          5,
          45,
          47,
          10,
          8,
          42,
          35,
          10,
          48,
          37,
          28,
          8,
          43,
          45,
          14,
          3,
          37,
          46,
          45,
          2,
          36,
          13,
          24,
          7,
          2,
          26,
          2,
          30,
          5,
          42,
          14,
          9,
          0,
          6,
          32,
          43,
          35,
          15,
          2,
          30,
          40,
          36,
          49,
          5,
          22,
          45,
          25,
          21,
          32,
          27,
          4,
          47,
          29,
          23,
          1,
          8,
          14,
          18,
          11,
          40,
          41,
          7,
          18,
          26,
          18,
          26,
          3,
          41,
          49,
          18,
          13,
          21,
          12,
          19,
          25,
          14,
          37,
          26,
          25,
          37,
          8,
          0,
          2,
          3,
          4,
          37,
          46,
          31,
          27,
          3,
          25,
          18,
          9,
          34,
          2,
          29,
          33,
          29,
          25,
          2,
          47,
          33,
          26,
          35,
          11,
          35,
          23,
          15,
          26,
          30,
          20,
          47,
          15,
          32,
          32,
          35,
          7,
          5,
          4,
          5,
          22,
          45,
          34,
          27,
          46,
          24,
          38,
          45,
          30,
          37,
          8,
          44,
          0,
          50,
          49,
          48,
          9,
          47,
          33,
          19,
          2,
          32,
          33,
          42,
          40,
          25,
          41,
          48,
          5,
          1,
          6,
          5,
          28,
          6,
          11,
          42,
          10,
          11,
          9,
          16,
          22,
          36,
          37,
          18,
          33,
          32,
          4,
          50,
          9,
          7,
          50,
          44,
          37,
          39,
          13,
          13,
          3,
          8,
          2,
          5,
          23,
          18,
          13,
          42,
          42,
          47,
          9,
          47,
          22,
          16,
          23,
          9,
          24,
          14,
          0,
          37,
          0,
          28,
          14,
          22,
          14,
          15,
          34,
          30,
          17,
          4,
          18,
          17,
          48,
          44,
          42,
          47,
          37,
          2,
          4,
          45,
          13,
          30,
          7,
          22,
          49,
          20,
          4,
          38,
          9,
          3,
          2,
          7,
          15,
          3,
          37,
          16,
          11,
          8,
          13,
          3,
          35,
          45,
          6,
          25,
          2,
          18,
          30,
          5,
          26,
          21,
          19,
          9,
          11,
          42,
          22,
          45,
          2,
          37,
          50,
          16,
          4,
          17,
          10,
          45,
          26,
          29,
          47,
          11,
          47,
          2,
          37,
          5,
          11,
          30,
          7,
          36,
          0,
          1,
          1,
          31,
          46,
          36,
          14,
          30,
          3,
          43,
          27,
          15,
          13,
          4,
          26,
          4,
          36,
          25,
          32,
          35,
          11,
          4,
          41,
          21,
          5,
          36,
          31,
          2,
          35,
          0,
          34,
          31,
          18,
          29,
          1,
          6,
          14,
          17,
          29,
          38,
          24,
          3,
          27,
          5,
          4,
          33,
          29,
          36,
          26,
          48,
          12,
          9,
          3,
          8,
          40,
          10,
          33,
          39,
          11,
          40,
          38,
          31,
          32,
          50,
          10,
          22,
          15,
          31,
          48,
          24,
          31,
          29,
          19,
          6,
          41,
          49,
          24,
          33,
          3,
          5,
          6,
          23,
          22,
          2,
          7,
          2,
          6,
          43,
          3,
          11,
          1,
          3,
          18,
          19,
          14,
          5,
          30,
          43,
          1,
          32,
          18,
          5,
          26,
          37,
          42,
          16,
          24,
          9,
          43,
          43,
          32,
          24,
          8,
          17,
          35,
          4,
          46,
          39,
          9,
          3,
          9,
          42,
          41,
          47,
          2,
          33,
          36,
          44,
          36,
          20,
          21,
          37,
          35,
          47,
          44,
          41,
          37,
          3,
          30,
          10,
          8,
          17,
          2,
          34,
          0,
          25,
          5,
          17,
          21,
          3,
          40,
          23,
          21,
          38,
          31,
          8,
          2,
          1,
          8,
          20,
          4,
          30,
          34,
          50,
          5,
          35,
          21,
          17,
          5,
          22,
          1,
          20,
          33,
          13,
          9,
          39,
          2,
          50,
          42,
          29,
          18,
          17,
          29,
          15,
          1,
          26,
          16,
          20,
          5,
          46,
          1,
          46,
          32,
          7,
          20,
          27,
          16,
          21,
          35,
          2,
          19,
          8,
          3,
          47,
          47,
          24,
          28,
          21,
          25,
          7,
          24,
          30,
          4,
          22,
          23,
          4,
          47,
          23,
          2,
          9,
          3,
          9,
          45,
          11,
          37,
          40,
          9,
          47,
          44,
          27,
          29,
          47,
          13,
          3,
          29,
          8,
          5,
          17,
          3,
          34,
          34,
          4,
          39,
          3,
          31,
          18,
          27,
          6,
          2,
          44,
          29,
          31,
          3,
          21,
          17,
          35,
          48,
          27,
          20,
          48,
          33,
          33,
          17,
          29,
          30,
          2,
          5,
          34,
          4,
          32,
          20,
          50,
          38,
          26,
          32,
          46,
          23,
          9,
          13,
          12,
          0,
          1,
          18,
          48,
          25,
          6,
          35,
          38,
          11,
          6,
          5,
          25,
          3,
          9,
          42,
          34,
          45,
          32,
          42,
          6,
          10,
          27,
          30,
          43,
          2,
          5,
          2,
          12,
          9
         ]
        }
       ],
       "layout": {
        "template": {
         "data": {
          "bar": [
           {
            "error_x": {
             "color": "#2a3f5f"
            },
            "error_y": {
             "color": "#2a3f5f"
            },
            "marker": {
             "line": {
              "color": "#E5ECF6",
              "width": 0.5
             },
             "pattern": {
              "fillmode": "overlay",
              "size": 10,
              "solidity": 0.2
             }
            },
            "type": "bar"
           }
          ],
          "barpolar": [
           {
            "marker": {
             "line": {
              "color": "#E5ECF6",
              "width": 0.5
             },
             "pattern": {
              "fillmode": "overlay",
              "size": 10,
              "solidity": 0.2
             }
            },
            "type": "barpolar"
           }
          ],
          "carpet": [
           {
            "aaxis": {
             "endlinecolor": "#2a3f5f",
             "gridcolor": "white",
             "linecolor": "white",
             "minorgridcolor": "white",
             "startlinecolor": "#2a3f5f"
            },
            "baxis": {
             "endlinecolor": "#2a3f5f",
             "gridcolor": "white",
             "linecolor": "white",
             "minorgridcolor": "white",
             "startlinecolor": "#2a3f5f"
            },
            "type": "carpet"
           }
          ],
          "choropleth": [
           {
            "colorbar": {
             "outlinewidth": 0,
             "ticks": ""
            },
            "type": "choropleth"
           }
          ],
          "contour": [
           {
            "colorbar": {
             "outlinewidth": 0,
             "ticks": ""
            },
            "colorscale": [
             [
              0,
              "#0d0887"
             ],
             [
              0.1111111111111111,
              "#46039f"
             ],
             [
              0.2222222222222222,
              "#7201a8"
             ],
             [
              0.3333333333333333,
              "#9c179e"
             ],
             [
              0.4444444444444444,
              "#bd3786"
             ],
             [
              0.5555555555555556,
              "#d8576b"
             ],
             [
              0.6666666666666666,
              "#ed7953"
             ],
             [
              0.7777777777777778,
              "#fb9f3a"
             ],
             [
              0.8888888888888888,
              "#fdca26"
             ],
             [
              1,
              "#f0f921"
             ]
            ],
            "type": "contour"
           }
          ],
          "contourcarpet": [
           {
            "colorbar": {
             "outlinewidth": 0,
             "ticks": ""
            },
            "type": "contourcarpet"
           }
          ],
          "heatmap": [
           {
            "colorbar": {
             "outlinewidth": 0,
             "ticks": ""
            },
            "colorscale": [
             [
              0,
              "#0d0887"
             ],
             [
              0.1111111111111111,
              "#46039f"
             ],
             [
              0.2222222222222222,
              "#7201a8"
             ],
             [
              0.3333333333333333,
              "#9c179e"
             ],
             [
              0.4444444444444444,
              "#bd3786"
             ],
             [
              0.5555555555555556,
              "#d8576b"
             ],
             [
              0.6666666666666666,
              "#ed7953"
             ],
             [
              0.7777777777777778,
              "#fb9f3a"
             ],
             [
              0.8888888888888888,
              "#fdca26"
             ],
             [
              1,
              "#f0f921"
             ]
            ],
            "type": "heatmap"
           }
          ],
          "heatmapgl": [
           {
            "colorbar": {
             "outlinewidth": 0,
             "ticks": ""
            },
            "colorscale": [
             [
              0,
              "#0d0887"
             ],
             [
              0.1111111111111111,
              "#46039f"
             ],
             [
              0.2222222222222222,
              "#7201a8"
             ],
             [
              0.3333333333333333,
              "#9c179e"
             ],
             [
              0.4444444444444444,
              "#bd3786"
             ],
             [
              0.5555555555555556,
              "#d8576b"
             ],
             [
              0.6666666666666666,
              "#ed7953"
             ],
             [
              0.7777777777777778,
              "#fb9f3a"
             ],
             [
              0.8888888888888888,
              "#fdca26"
             ],
             [
              1,
              "#f0f921"
             ]
            ],
            "type": "heatmapgl"
           }
          ],
          "histogram": [
           {
            "marker": {
             "pattern": {
              "fillmode": "overlay",
              "size": 10,
              "solidity": 0.2
             }
            },
            "type": "histogram"
           }
          ],
          "histogram2d": [
           {
            "colorbar": {
             "outlinewidth": 0,
             "ticks": ""
            },
            "colorscale": [
             [
              0,
              "#0d0887"
             ],
             [
              0.1111111111111111,
              "#46039f"
             ],
             [
              0.2222222222222222,
              "#7201a8"
             ],
             [
              0.3333333333333333,
              "#9c179e"
             ],
             [
              0.4444444444444444,
              "#bd3786"
             ],
             [
              0.5555555555555556,
              "#d8576b"
             ],
             [
              0.6666666666666666,
              "#ed7953"
             ],
             [
              0.7777777777777778,
              "#fb9f3a"
             ],
             [
              0.8888888888888888,
              "#fdca26"
             ],
             [
              1,
              "#f0f921"
             ]
            ],
            "type": "histogram2d"
           }
          ],
          "histogram2dcontour": [
           {
            "colorbar": {
             "outlinewidth": 0,
             "ticks": ""
            },
            "colorscale": [
             [
              0,
              "#0d0887"
             ],
             [
              0.1111111111111111,
              "#46039f"
             ],
             [
              0.2222222222222222,
              "#7201a8"
             ],
             [
              0.3333333333333333,
              "#9c179e"
             ],
             [
              0.4444444444444444,
              "#bd3786"
             ],
             [
              0.5555555555555556,
              "#d8576b"
             ],
             [
              0.6666666666666666,
              "#ed7953"
             ],
             [
              0.7777777777777778,
              "#fb9f3a"
             ],
             [
              0.8888888888888888,
              "#fdca26"
             ],
             [
              1,
              "#f0f921"
             ]
            ],
            "type": "histogram2dcontour"
           }
          ],
          "mesh3d": [
           {
            "colorbar": {
             "outlinewidth": 0,
             "ticks": ""
            },
            "type": "mesh3d"
           }
          ],
          "parcoords": [
           {
            "line": {
             "colorbar": {
              "outlinewidth": 0,
              "ticks": ""
             }
            },
            "type": "parcoords"
           }
          ],
          "pie": [
           {
            "automargin": true,
            "type": "pie"
           }
          ],
          "scatter": [
           {
            "fillpattern": {
             "fillmode": "overlay",
             "size": 10,
             "solidity": 0.2
            },
            "type": "scatter"
           }
          ],
          "scatter3d": [
           {
            "line": {
             "colorbar": {
              "outlinewidth": 0,
              "ticks": ""
             }
            },
            "marker": {
             "colorbar": {
              "outlinewidth": 0,
              "ticks": ""
             }
            },
            "type": "scatter3d"
           }
          ],
          "scattercarpet": [
           {
            "marker": {
             "colorbar": {
              "outlinewidth": 0,
              "ticks": ""
             }
            },
            "type": "scattercarpet"
           }
          ],
          "scattergeo": [
           {
            "marker": {
             "colorbar": {
              "outlinewidth": 0,
              "ticks": ""
             }
            },
            "type": "scattergeo"
           }
          ],
          "scattergl": [
           {
            "marker": {
             "colorbar": {
              "outlinewidth": 0,
              "ticks": ""
             }
            },
            "type": "scattergl"
           }
          ],
          "scattermapbox": [
           {
            "marker": {
             "colorbar": {
              "outlinewidth": 0,
              "ticks": ""
             }
            },
            "type": "scattermapbox"
           }
          ],
          "scatterpolar": [
           {
            "marker": {
             "colorbar": {
              "outlinewidth": 0,
              "ticks": ""
             }
            },
            "type": "scatterpolar"
           }
          ],
          "scatterpolargl": [
           {
            "marker": {
             "colorbar": {
              "outlinewidth": 0,
              "ticks": ""
             }
            },
            "type": "scatterpolargl"
           }
          ],
          "scatterternary": [
           {
            "marker": {
             "colorbar": {
              "outlinewidth": 0,
              "ticks": ""
             }
            },
            "type": "scatterternary"
           }
          ],
          "surface": [
           {
            "colorbar": {
             "outlinewidth": 0,
             "ticks": ""
            },
            "colorscale": [
             [
              0,
              "#0d0887"
             ],
             [
              0.1111111111111111,
              "#46039f"
             ],
             [
              0.2222222222222222,
              "#7201a8"
             ],
             [
              0.3333333333333333,
              "#9c179e"
             ],
             [
              0.4444444444444444,
              "#bd3786"
             ],
             [
              0.5555555555555556,
              "#d8576b"
             ],
             [
              0.6666666666666666,
              "#ed7953"
             ],
             [
              0.7777777777777778,
              "#fb9f3a"
             ],
             [
              0.8888888888888888,
              "#fdca26"
             ],
             [
              1,
              "#f0f921"
             ]
            ],
            "type": "surface"
           }
          ],
          "table": [
           {
            "cells": {
             "fill": {
              "color": "#EBF0F8"
             },
             "line": {
              "color": "white"
             }
            },
            "header": {
             "fill": {
              "color": "#C8D4E3"
             },
             "line": {
              "color": "white"
             }
            },
            "type": "table"
           }
          ]
         },
         "layout": {
          "annotationdefaults": {
           "arrowcolor": "#2a3f5f",
           "arrowhead": 0,
           "arrowwidth": 1
          },
          "autotypenumbers": "strict",
          "coloraxis": {
           "colorbar": {
            "outlinewidth": 0,
            "ticks": ""
           }
          },
          "colorscale": {
           "diverging": [
            [
             0,
             "#8e0152"
            ],
            [
             0.1,
             "#c51b7d"
            ],
            [
             0.2,
             "#de77ae"
            ],
            [
             0.3,
             "#f1b6da"
            ],
            [
             0.4,
             "#fde0ef"
            ],
            [
             0.5,
             "#f7f7f7"
            ],
            [
             0.6,
             "#e6f5d0"
            ],
            [
             0.7,
             "#b8e186"
            ],
            [
             0.8,
             "#7fbc41"
            ],
            [
             0.9,
             "#4d9221"
            ],
            [
             1,
             "#276419"
            ]
           ],
           "sequential": [
            [
             0,
             "#0d0887"
            ],
            [
             0.1111111111111111,
             "#46039f"
            ],
            [
             0.2222222222222222,
             "#7201a8"
            ],
            [
             0.3333333333333333,
             "#9c179e"
            ],
            [
             0.4444444444444444,
             "#bd3786"
            ],
            [
             0.5555555555555556,
             "#d8576b"
            ],
            [
             0.6666666666666666,
             "#ed7953"
            ],
            [
             0.7777777777777778,
             "#fb9f3a"
            ],
            [
             0.8888888888888888,
             "#fdca26"
            ],
            [
             1,
             "#f0f921"
            ]
           ],
           "sequentialminus": [
            [
             0,
             "#0d0887"
            ],
            [
             0.1111111111111111,
             "#46039f"
            ],
            [
             0.2222222222222222,
             "#7201a8"
            ],
            [
             0.3333333333333333,
             "#9c179e"
            ],
            [
             0.4444444444444444,
             "#bd3786"
            ],
            [
             0.5555555555555556,
             "#d8576b"
            ],
            [
             0.6666666666666666,
             "#ed7953"
            ],
            [
             0.7777777777777778,
             "#fb9f3a"
            ],
            [
             0.8888888888888888,
             "#fdca26"
            ],
            [
             1,
             "#f0f921"
            ]
           ]
          },
          "colorway": [
           "#636efa",
           "#EF553B",
           "#00cc96",
           "#ab63fa",
           "#FFA15A",
           "#19d3f3",
           "#FF6692",
           "#B6E880",
           "#FF97FF",
           "#FECB52"
          ],
          "font": {
           "color": "#2a3f5f"
          },
          "geo": {
           "bgcolor": "white",
           "lakecolor": "white",
           "landcolor": "#E5ECF6",
           "showlakes": true,
           "showland": true,
           "subunitcolor": "white"
          },
          "hoverlabel": {
           "align": "left"
          },
          "hovermode": "closest",
          "mapbox": {
           "style": "light"
          },
          "paper_bgcolor": "white",
          "plot_bgcolor": "#E5ECF6",
          "polar": {
           "angularaxis": {
            "gridcolor": "white",
            "linecolor": "white",
            "ticks": ""
           },
           "bgcolor": "#E5ECF6",
           "radialaxis": {
            "gridcolor": "white",
            "linecolor": "white",
            "ticks": ""
           }
          },
          "scene": {
           "xaxis": {
            "backgroundcolor": "#E5ECF6",
            "gridcolor": "white",
            "gridwidth": 2,
            "linecolor": "white",
            "showbackground": true,
            "ticks": "",
            "zerolinecolor": "white"
           },
           "yaxis": {
            "backgroundcolor": "#E5ECF6",
            "gridcolor": "white",
            "gridwidth": 2,
            "linecolor": "white",
            "showbackground": true,
            "ticks": "",
            "zerolinecolor": "white"
           },
           "zaxis": {
            "backgroundcolor": "#E5ECF6",
            "gridcolor": "white",
            "gridwidth": 2,
            "linecolor": "white",
            "showbackground": true,
            "ticks": "",
            "zerolinecolor": "white"
           }
          },
          "shapedefaults": {
           "line": {
            "color": "#2a3f5f"
           }
          },
          "ternary": {
           "aaxis": {
            "gridcolor": "white",
            "linecolor": "white",
            "ticks": ""
           },
           "baxis": {
            "gridcolor": "white",
            "linecolor": "white",
            "ticks": ""
           },
           "bgcolor": "#E5ECF6",
           "caxis": {
            "gridcolor": "white",
            "linecolor": "white",
            "ticks": ""
           }
          },
          "title": {
           "x": 0.05
          },
          "xaxis": {
           "automargin": true,
           "gridcolor": "white",
           "linecolor": "white",
           "ticks": "",
           "title": {
            "standoff": 15
           },
           "zerolinecolor": "white",
           "zerolinewidth": 2
          },
          "yaxis": {
           "automargin": true,
           "gridcolor": "white",
           "linecolor": "white",
           "ticks": "",
           "title": {
            "standoff": 15
           },
           "zerolinecolor": "white",
           "zerolinewidth": 2
          }
         }
        }
       }
      }
     },
     "metadata": {},
     "output_type": "display_data"
    }
   ],
   "source": [
    "fig=go.Figure(data=go.Scatter(x=df[\"Revenue\"], y=df[\"Units_Sold\"],mode='markers'))\n",
    "fig.show()"
   ]
  },
  {
   "cell_type": "code",
   "execution_count": 65,
   "id": "b394a96c",
   "metadata": {},
   "outputs": [
    {
     "data": {
      "application/vnd.plotly.v1+json": {
       "config": {
        "plotlyServerURL": "https://plot.ly"
       },
       "data": [
        {
         "marker": {
          "color": "red",
          "line": {
           "color": "black",
           "width": 2
          },
          "size": 10,
          "symbol": "star"
         },
         "mode": "markers",
         "type": "scatter",
         "x": [
          2020,
          2021,
          2022,
          2023,
          2024
         ],
         "y": [
          150,
          200,
          400,
          200,
          350
         ]
        }
       ],
       "layout": {
        "template": {
         "data": {
          "bar": [
           {
            "error_x": {
             "color": "#2a3f5f"
            },
            "error_y": {
             "color": "#2a3f5f"
            },
            "marker": {
             "line": {
              "color": "#E5ECF6",
              "width": 0.5
             },
             "pattern": {
              "fillmode": "overlay",
              "size": 10,
              "solidity": 0.2
             }
            },
            "type": "bar"
           }
          ],
          "barpolar": [
           {
            "marker": {
             "line": {
              "color": "#E5ECF6",
              "width": 0.5
             },
             "pattern": {
              "fillmode": "overlay",
              "size": 10,
              "solidity": 0.2
             }
            },
            "type": "barpolar"
           }
          ],
          "carpet": [
           {
            "aaxis": {
             "endlinecolor": "#2a3f5f",
             "gridcolor": "white",
             "linecolor": "white",
             "minorgridcolor": "white",
             "startlinecolor": "#2a3f5f"
            },
            "baxis": {
             "endlinecolor": "#2a3f5f",
             "gridcolor": "white",
             "linecolor": "white",
             "minorgridcolor": "white",
             "startlinecolor": "#2a3f5f"
            },
            "type": "carpet"
           }
          ],
          "choropleth": [
           {
            "colorbar": {
             "outlinewidth": 0,
             "ticks": ""
            },
            "type": "choropleth"
           }
          ],
          "contour": [
           {
            "colorbar": {
             "outlinewidth": 0,
             "ticks": ""
            },
            "colorscale": [
             [
              0,
              "#0d0887"
             ],
             [
              0.1111111111111111,
              "#46039f"
             ],
             [
              0.2222222222222222,
              "#7201a8"
             ],
             [
              0.3333333333333333,
              "#9c179e"
             ],
             [
              0.4444444444444444,
              "#bd3786"
             ],
             [
              0.5555555555555556,
              "#d8576b"
             ],
             [
              0.6666666666666666,
              "#ed7953"
             ],
             [
              0.7777777777777778,
              "#fb9f3a"
             ],
             [
              0.8888888888888888,
              "#fdca26"
             ],
             [
              1,
              "#f0f921"
             ]
            ],
            "type": "contour"
           }
          ],
          "contourcarpet": [
           {
            "colorbar": {
             "outlinewidth": 0,
             "ticks": ""
            },
            "type": "contourcarpet"
           }
          ],
          "heatmap": [
           {
            "colorbar": {
             "outlinewidth": 0,
             "ticks": ""
            },
            "colorscale": [
             [
              0,
              "#0d0887"
             ],
             [
              0.1111111111111111,
              "#46039f"
             ],
             [
              0.2222222222222222,
              "#7201a8"
             ],
             [
              0.3333333333333333,
              "#9c179e"
             ],
             [
              0.4444444444444444,
              "#bd3786"
             ],
             [
              0.5555555555555556,
              "#d8576b"
             ],
             [
              0.6666666666666666,
              "#ed7953"
             ],
             [
              0.7777777777777778,
              "#fb9f3a"
             ],
             [
              0.8888888888888888,
              "#fdca26"
             ],
             [
              1,
              "#f0f921"
             ]
            ],
            "type": "heatmap"
           }
          ],
          "heatmapgl": [
           {
            "colorbar": {
             "outlinewidth": 0,
             "ticks": ""
            },
            "colorscale": [
             [
              0,
              "#0d0887"
             ],
             [
              0.1111111111111111,
              "#46039f"
             ],
             [
              0.2222222222222222,
              "#7201a8"
             ],
             [
              0.3333333333333333,
              "#9c179e"
             ],
             [
              0.4444444444444444,
              "#bd3786"
             ],
             [
              0.5555555555555556,
              "#d8576b"
             ],
             [
              0.6666666666666666,
              "#ed7953"
             ],
             [
              0.7777777777777778,
              "#fb9f3a"
             ],
             [
              0.8888888888888888,
              "#fdca26"
             ],
             [
              1,
              "#f0f921"
             ]
            ],
            "type": "heatmapgl"
           }
          ],
          "histogram": [
           {
            "marker": {
             "pattern": {
              "fillmode": "overlay",
              "size": 10,
              "solidity": 0.2
             }
            },
            "type": "histogram"
           }
          ],
          "histogram2d": [
           {
            "colorbar": {
             "outlinewidth": 0,
             "ticks": ""
            },
            "colorscale": [
             [
              0,
              "#0d0887"
             ],
             [
              0.1111111111111111,
              "#46039f"
             ],
             [
              0.2222222222222222,
              "#7201a8"
             ],
             [
              0.3333333333333333,
              "#9c179e"
             ],
             [
              0.4444444444444444,
              "#bd3786"
             ],
             [
              0.5555555555555556,
              "#d8576b"
             ],
             [
              0.6666666666666666,
              "#ed7953"
             ],
             [
              0.7777777777777778,
              "#fb9f3a"
             ],
             [
              0.8888888888888888,
              "#fdca26"
             ],
             [
              1,
              "#f0f921"
             ]
            ],
            "type": "histogram2d"
           }
          ],
          "histogram2dcontour": [
           {
            "colorbar": {
             "outlinewidth": 0,
             "ticks": ""
            },
            "colorscale": [
             [
              0,
              "#0d0887"
             ],
             [
              0.1111111111111111,
              "#46039f"
             ],
             [
              0.2222222222222222,
              "#7201a8"
             ],
             [
              0.3333333333333333,
              "#9c179e"
             ],
             [
              0.4444444444444444,
              "#bd3786"
             ],
             [
              0.5555555555555556,
              "#d8576b"
             ],
             [
              0.6666666666666666,
              "#ed7953"
             ],
             [
              0.7777777777777778,
              "#fb9f3a"
             ],
             [
              0.8888888888888888,
              "#fdca26"
             ],
             [
              1,
              "#f0f921"
             ]
            ],
            "type": "histogram2dcontour"
           }
          ],
          "mesh3d": [
           {
            "colorbar": {
             "outlinewidth": 0,
             "ticks": ""
            },
            "type": "mesh3d"
           }
          ],
          "parcoords": [
           {
            "line": {
             "colorbar": {
              "outlinewidth": 0,
              "ticks": ""
             }
            },
            "type": "parcoords"
           }
          ],
          "pie": [
           {
            "automargin": true,
            "type": "pie"
           }
          ],
          "scatter": [
           {
            "fillpattern": {
             "fillmode": "overlay",
             "size": 10,
             "solidity": 0.2
            },
            "type": "scatter"
           }
          ],
          "scatter3d": [
           {
            "line": {
             "colorbar": {
              "outlinewidth": 0,
              "ticks": ""
             }
            },
            "marker": {
             "colorbar": {
              "outlinewidth": 0,
              "ticks": ""
             }
            },
            "type": "scatter3d"
           }
          ],
          "scattercarpet": [
           {
            "marker": {
             "colorbar": {
              "outlinewidth": 0,
              "ticks": ""
             }
            },
            "type": "scattercarpet"
           }
          ],
          "scattergeo": [
           {
            "marker": {
             "colorbar": {
              "outlinewidth": 0,
              "ticks": ""
             }
            },
            "type": "scattergeo"
           }
          ],
          "scattergl": [
           {
            "marker": {
             "colorbar": {
              "outlinewidth": 0,
              "ticks": ""
             }
            },
            "type": "scattergl"
           }
          ],
          "scattermapbox": [
           {
            "marker": {
             "colorbar": {
              "outlinewidth": 0,
              "ticks": ""
             }
            },
            "type": "scattermapbox"
           }
          ],
          "scatterpolar": [
           {
            "marker": {
             "colorbar": {
              "outlinewidth": 0,
              "ticks": ""
             }
            },
            "type": "scatterpolar"
           }
          ],
          "scatterpolargl": [
           {
            "marker": {
             "colorbar": {
              "outlinewidth": 0,
              "ticks": ""
             }
            },
            "type": "scatterpolargl"
           }
          ],
          "scatterternary": [
           {
            "marker": {
             "colorbar": {
              "outlinewidth": 0,
              "ticks": ""
             }
            },
            "type": "scatterternary"
           }
          ],
          "surface": [
           {
            "colorbar": {
             "outlinewidth": 0,
             "ticks": ""
            },
            "colorscale": [
             [
              0,
              "#0d0887"
             ],
             [
              0.1111111111111111,
              "#46039f"
             ],
             [
              0.2222222222222222,
              "#7201a8"
             ],
             [
              0.3333333333333333,
              "#9c179e"
             ],
             [
              0.4444444444444444,
              "#bd3786"
             ],
             [
              0.5555555555555556,
              "#d8576b"
             ],
             [
              0.6666666666666666,
              "#ed7953"
             ],
             [
              0.7777777777777778,
              "#fb9f3a"
             ],
             [
              0.8888888888888888,
              "#fdca26"
             ],
             [
              1,
              "#f0f921"
             ]
            ],
            "type": "surface"
           }
          ],
          "table": [
           {
            "cells": {
             "fill": {
              "color": "#EBF0F8"
             },
             "line": {
              "color": "white"
             }
            },
            "header": {
             "fill": {
              "color": "#C8D4E3"
             },
             "line": {
              "color": "white"
             }
            },
            "type": "table"
           }
          ]
         },
         "layout": {
          "annotationdefaults": {
           "arrowcolor": "#2a3f5f",
           "arrowhead": 0,
           "arrowwidth": 1
          },
          "autotypenumbers": "strict",
          "coloraxis": {
           "colorbar": {
            "outlinewidth": 0,
            "ticks": ""
           }
          },
          "colorscale": {
           "diverging": [
            [
             0,
             "#8e0152"
            ],
            [
             0.1,
             "#c51b7d"
            ],
            [
             0.2,
             "#de77ae"
            ],
            [
             0.3,
             "#f1b6da"
            ],
            [
             0.4,
             "#fde0ef"
            ],
            [
             0.5,
             "#f7f7f7"
            ],
            [
             0.6,
             "#e6f5d0"
            ],
            [
             0.7,
             "#b8e186"
            ],
            [
             0.8,
             "#7fbc41"
            ],
            [
             0.9,
             "#4d9221"
            ],
            [
             1,
             "#276419"
            ]
           ],
           "sequential": [
            [
             0,
             "#0d0887"
            ],
            [
             0.1111111111111111,
             "#46039f"
            ],
            [
             0.2222222222222222,
             "#7201a8"
            ],
            [
             0.3333333333333333,
             "#9c179e"
            ],
            [
             0.4444444444444444,
             "#bd3786"
            ],
            [
             0.5555555555555556,
             "#d8576b"
            ],
            [
             0.6666666666666666,
             "#ed7953"
            ],
            [
             0.7777777777777778,
             "#fb9f3a"
            ],
            [
             0.8888888888888888,
             "#fdca26"
            ],
            [
             1,
             "#f0f921"
            ]
           ],
           "sequentialminus": [
            [
             0,
             "#0d0887"
            ],
            [
             0.1111111111111111,
             "#46039f"
            ],
            [
             0.2222222222222222,
             "#7201a8"
            ],
            [
             0.3333333333333333,
             "#9c179e"
            ],
            [
             0.4444444444444444,
             "#bd3786"
            ],
            [
             0.5555555555555556,
             "#d8576b"
            ],
            [
             0.6666666666666666,
             "#ed7953"
            ],
            [
             0.7777777777777778,
             "#fb9f3a"
            ],
            [
             0.8888888888888888,
             "#fdca26"
            ],
            [
             1,
             "#f0f921"
            ]
           ]
          },
          "colorway": [
           "#636efa",
           "#EF553B",
           "#00cc96",
           "#ab63fa",
           "#FFA15A",
           "#19d3f3",
           "#FF6692",
           "#B6E880",
           "#FF97FF",
           "#FECB52"
          ],
          "font": {
           "color": "#2a3f5f"
          },
          "geo": {
           "bgcolor": "white",
           "lakecolor": "white",
           "landcolor": "#E5ECF6",
           "showlakes": true,
           "showland": true,
           "subunitcolor": "white"
          },
          "hoverlabel": {
           "align": "left"
          },
          "hovermode": "closest",
          "mapbox": {
           "style": "light"
          },
          "paper_bgcolor": "white",
          "plot_bgcolor": "#E5ECF6",
          "polar": {
           "angularaxis": {
            "gridcolor": "white",
            "linecolor": "white",
            "ticks": ""
           },
           "bgcolor": "#E5ECF6",
           "radialaxis": {
            "gridcolor": "white",
            "linecolor": "white",
            "ticks": ""
           }
          },
          "scene": {
           "xaxis": {
            "backgroundcolor": "#E5ECF6",
            "gridcolor": "white",
            "gridwidth": 2,
            "linecolor": "white",
            "showbackground": true,
            "ticks": "",
            "zerolinecolor": "white"
           },
           "yaxis": {
            "backgroundcolor": "#E5ECF6",
            "gridcolor": "white",
            "gridwidth": 2,
            "linecolor": "white",
            "showbackground": true,
            "ticks": "",
            "zerolinecolor": "white"
           },
           "zaxis": {
            "backgroundcolor": "#E5ECF6",
            "gridcolor": "white",
            "gridwidth": 2,
            "linecolor": "white",
            "showbackground": true,
            "ticks": "",
            "zerolinecolor": "white"
           }
          },
          "shapedefaults": {
           "line": {
            "color": "#2a3f5f"
           }
          },
          "ternary": {
           "aaxis": {
            "gridcolor": "white",
            "linecolor": "white",
            "ticks": ""
           },
           "baxis": {
            "gridcolor": "white",
            "linecolor": "white",
            "ticks": ""
           },
           "bgcolor": "#E5ECF6",
           "caxis": {
            "gridcolor": "white",
            "linecolor": "white",
            "ticks": ""
           }
          },
          "title": {
           "x": 0.05
          },
          "xaxis": {
           "automargin": true,
           "gridcolor": "white",
           "linecolor": "white",
           "ticks": "",
           "title": {
            "standoff": 15
           },
           "zerolinecolor": "white",
           "zerolinewidth": 2
          },
          "yaxis": {
           "automargin": true,
           "gridcolor": "white",
           "linecolor": "white",
           "ticks": "",
           "title": {
            "standoff": 15
           },
           "zerolinecolor": "white",
           "zerolinewidth": 2
          }
         }
        },
        "title": {
         "text": "Units Sold vs Avg Selling Price"
        },
        "xaxis": {
         "title": {
          "text": "Avg Selling Price"
         }
        },
        "yaxis": {
         "title": {
          "text": "Units Sold"
         }
        }
       }
      }
     },
     "metadata": {},
     "output_type": "display_data"
    }
   ],
   "source": [
    "fig = go.Figure(data=go.Scatter(x=years, y=sales, mode=\"markers\", marker=dict(symbol=\"star\", size=10, color=\"red\", line=dict(width=2, color=\"black\"))))\n",
    "fig.update_layout(title=\"Units Sold vs Avg Selling Price\", xaxis_title=\"Avg Selling Price\", yaxis_title=\"Units Sold\")\n",
    "fig.show()"
   ]
  },
  {
   "cell_type": "code",
   "execution_count": 73,
   "id": "8864914f",
   "metadata": {},
   "outputs": [
    {
     "data": {
      "application/vnd.plotly.v1+json": {
       "config": {
        "plotlyServerURL": "https://plot.ly"
       },
       "data": [
        {
         "error_y": {
          "array": [
           30,
           10,
           15,
           20,
           25
          ],
          "type": "data",
          "visible": true
         },
         "marker": {
          "color": "red"
         },
         "mode": "markers",
         "type": "scatter",
         "x": [
          2020,
          2021,
          2022,
          2023,
          2024
         ],
         "y": [
          150,
          200,
          400,
          200,
          350
         ]
        }
       ],
       "layout": {
        "template": {
         "data": {
          "bar": [
           {
            "error_x": {
             "color": "#2a3f5f"
            },
            "error_y": {
             "color": "#2a3f5f"
            },
            "marker": {
             "line": {
              "color": "#E5ECF6",
              "width": 0.5
             },
             "pattern": {
              "fillmode": "overlay",
              "size": 10,
              "solidity": 0.2
             }
            },
            "type": "bar"
           }
          ],
          "barpolar": [
           {
            "marker": {
             "line": {
              "color": "#E5ECF6",
              "width": 0.5
             },
             "pattern": {
              "fillmode": "overlay",
              "size": 10,
              "solidity": 0.2
             }
            },
            "type": "barpolar"
           }
          ],
          "carpet": [
           {
            "aaxis": {
             "endlinecolor": "#2a3f5f",
             "gridcolor": "white",
             "linecolor": "white",
             "minorgridcolor": "white",
             "startlinecolor": "#2a3f5f"
            },
            "baxis": {
             "endlinecolor": "#2a3f5f",
             "gridcolor": "white",
             "linecolor": "white",
             "minorgridcolor": "white",
             "startlinecolor": "#2a3f5f"
            },
            "type": "carpet"
           }
          ],
          "choropleth": [
           {
            "colorbar": {
             "outlinewidth": 0,
             "ticks": ""
            },
            "type": "choropleth"
           }
          ],
          "contour": [
           {
            "colorbar": {
             "outlinewidth": 0,
             "ticks": ""
            },
            "colorscale": [
             [
              0,
              "#0d0887"
             ],
             [
              0.1111111111111111,
              "#46039f"
             ],
             [
              0.2222222222222222,
              "#7201a8"
             ],
             [
              0.3333333333333333,
              "#9c179e"
             ],
             [
              0.4444444444444444,
              "#bd3786"
             ],
             [
              0.5555555555555556,
              "#d8576b"
             ],
             [
              0.6666666666666666,
              "#ed7953"
             ],
             [
              0.7777777777777778,
              "#fb9f3a"
             ],
             [
              0.8888888888888888,
              "#fdca26"
             ],
             [
              1,
              "#f0f921"
             ]
            ],
            "type": "contour"
           }
          ],
          "contourcarpet": [
           {
            "colorbar": {
             "outlinewidth": 0,
             "ticks": ""
            },
            "type": "contourcarpet"
           }
          ],
          "heatmap": [
           {
            "colorbar": {
             "outlinewidth": 0,
             "ticks": ""
            },
            "colorscale": [
             [
              0,
              "#0d0887"
             ],
             [
              0.1111111111111111,
              "#46039f"
             ],
             [
              0.2222222222222222,
              "#7201a8"
             ],
             [
              0.3333333333333333,
              "#9c179e"
             ],
             [
              0.4444444444444444,
              "#bd3786"
             ],
             [
              0.5555555555555556,
              "#d8576b"
             ],
             [
              0.6666666666666666,
              "#ed7953"
             ],
             [
              0.7777777777777778,
              "#fb9f3a"
             ],
             [
              0.8888888888888888,
              "#fdca26"
             ],
             [
              1,
              "#f0f921"
             ]
            ],
            "type": "heatmap"
           }
          ],
          "heatmapgl": [
           {
            "colorbar": {
             "outlinewidth": 0,
             "ticks": ""
            },
            "colorscale": [
             [
              0,
              "#0d0887"
             ],
             [
              0.1111111111111111,
              "#46039f"
             ],
             [
              0.2222222222222222,
              "#7201a8"
             ],
             [
              0.3333333333333333,
              "#9c179e"
             ],
             [
              0.4444444444444444,
              "#bd3786"
             ],
             [
              0.5555555555555556,
              "#d8576b"
             ],
             [
              0.6666666666666666,
              "#ed7953"
             ],
             [
              0.7777777777777778,
              "#fb9f3a"
             ],
             [
              0.8888888888888888,
              "#fdca26"
             ],
             [
              1,
              "#f0f921"
             ]
            ],
            "type": "heatmapgl"
           }
          ],
          "histogram": [
           {
            "marker": {
             "pattern": {
              "fillmode": "overlay",
              "size": 10,
              "solidity": 0.2
             }
            },
            "type": "histogram"
           }
          ],
          "histogram2d": [
           {
            "colorbar": {
             "outlinewidth": 0,
             "ticks": ""
            },
            "colorscale": [
             [
              0,
              "#0d0887"
             ],
             [
              0.1111111111111111,
              "#46039f"
             ],
             [
              0.2222222222222222,
              "#7201a8"
             ],
             [
              0.3333333333333333,
              "#9c179e"
             ],
             [
              0.4444444444444444,
              "#bd3786"
             ],
             [
              0.5555555555555556,
              "#d8576b"
             ],
             [
              0.6666666666666666,
              "#ed7953"
             ],
             [
              0.7777777777777778,
              "#fb9f3a"
             ],
             [
              0.8888888888888888,
              "#fdca26"
             ],
             [
              1,
              "#f0f921"
             ]
            ],
            "type": "histogram2d"
           }
          ],
          "histogram2dcontour": [
           {
            "colorbar": {
             "outlinewidth": 0,
             "ticks": ""
            },
            "colorscale": [
             [
              0,
              "#0d0887"
             ],
             [
              0.1111111111111111,
              "#46039f"
             ],
             [
              0.2222222222222222,
              "#7201a8"
             ],
             [
              0.3333333333333333,
              "#9c179e"
             ],
             [
              0.4444444444444444,
              "#bd3786"
             ],
             [
              0.5555555555555556,
              "#d8576b"
             ],
             [
              0.6666666666666666,
              "#ed7953"
             ],
             [
              0.7777777777777778,
              "#fb9f3a"
             ],
             [
              0.8888888888888888,
              "#fdca26"
             ],
             [
              1,
              "#f0f921"
             ]
            ],
            "type": "histogram2dcontour"
           }
          ],
          "mesh3d": [
           {
            "colorbar": {
             "outlinewidth": 0,
             "ticks": ""
            },
            "type": "mesh3d"
           }
          ],
          "parcoords": [
           {
            "line": {
             "colorbar": {
              "outlinewidth": 0,
              "ticks": ""
             }
            },
            "type": "parcoords"
           }
          ],
          "pie": [
           {
            "automargin": true,
            "type": "pie"
           }
          ],
          "scatter": [
           {
            "fillpattern": {
             "fillmode": "overlay",
             "size": 10,
             "solidity": 0.2
            },
            "type": "scatter"
           }
          ],
          "scatter3d": [
           {
            "line": {
             "colorbar": {
              "outlinewidth": 0,
              "ticks": ""
             }
            },
            "marker": {
             "colorbar": {
              "outlinewidth": 0,
              "ticks": ""
             }
            },
            "type": "scatter3d"
           }
          ],
          "scattercarpet": [
           {
            "marker": {
             "colorbar": {
              "outlinewidth": 0,
              "ticks": ""
             }
            },
            "type": "scattercarpet"
           }
          ],
          "scattergeo": [
           {
            "marker": {
             "colorbar": {
              "outlinewidth": 0,
              "ticks": ""
             }
            },
            "type": "scattergeo"
           }
          ],
          "scattergl": [
           {
            "marker": {
             "colorbar": {
              "outlinewidth": 0,
              "ticks": ""
             }
            },
            "type": "scattergl"
           }
          ],
          "scattermapbox": [
           {
            "marker": {
             "colorbar": {
              "outlinewidth": 0,
              "ticks": ""
             }
            },
            "type": "scattermapbox"
           }
          ],
          "scatterpolar": [
           {
            "marker": {
             "colorbar": {
              "outlinewidth": 0,
              "ticks": ""
             }
            },
            "type": "scatterpolar"
           }
          ],
          "scatterpolargl": [
           {
            "marker": {
             "colorbar": {
              "outlinewidth": 0,
              "ticks": ""
             }
            },
            "type": "scatterpolargl"
           }
          ],
          "scatterternary": [
           {
            "marker": {
             "colorbar": {
              "outlinewidth": 0,
              "ticks": ""
             }
            },
            "type": "scatterternary"
           }
          ],
          "surface": [
           {
            "colorbar": {
             "outlinewidth": 0,
             "ticks": ""
            },
            "colorscale": [
             [
              0,
              "#0d0887"
             ],
             [
              0.1111111111111111,
              "#46039f"
             ],
             [
              0.2222222222222222,
              "#7201a8"
             ],
             [
              0.3333333333333333,
              "#9c179e"
             ],
             [
              0.4444444444444444,
              "#bd3786"
             ],
             [
              0.5555555555555556,
              "#d8576b"
             ],
             [
              0.6666666666666666,
              "#ed7953"
             ],
             [
              0.7777777777777778,
              "#fb9f3a"
             ],
             [
              0.8888888888888888,
              "#fdca26"
             ],
             [
              1,
              "#f0f921"
             ]
            ],
            "type": "surface"
           }
          ],
          "table": [
           {
            "cells": {
             "fill": {
              "color": "#EBF0F8"
             },
             "line": {
              "color": "white"
             }
            },
            "header": {
             "fill": {
              "color": "#C8D4E3"
             },
             "line": {
              "color": "white"
             }
            },
            "type": "table"
           }
          ]
         },
         "layout": {
          "annotationdefaults": {
           "arrowcolor": "#2a3f5f",
           "arrowhead": 0,
           "arrowwidth": 1
          },
          "autotypenumbers": "strict",
          "coloraxis": {
           "colorbar": {
            "outlinewidth": 0,
            "ticks": ""
           }
          },
          "colorscale": {
           "diverging": [
            [
             0,
             "#8e0152"
            ],
            [
             0.1,
             "#c51b7d"
            ],
            [
             0.2,
             "#de77ae"
            ],
            [
             0.3,
             "#f1b6da"
            ],
            [
             0.4,
             "#fde0ef"
            ],
            [
             0.5,
             "#f7f7f7"
            ],
            [
             0.6,
             "#e6f5d0"
            ],
            [
             0.7,
             "#b8e186"
            ],
            [
             0.8,
             "#7fbc41"
            ],
            [
             0.9,
             "#4d9221"
            ],
            [
             1,
             "#276419"
            ]
           ],
           "sequential": [
            [
             0,
             "#0d0887"
            ],
            [
             0.1111111111111111,
             "#46039f"
            ],
            [
             0.2222222222222222,
             "#7201a8"
            ],
            [
             0.3333333333333333,
             "#9c179e"
            ],
            [
             0.4444444444444444,
             "#bd3786"
            ],
            [
             0.5555555555555556,
             "#d8576b"
            ],
            [
             0.6666666666666666,
             "#ed7953"
            ],
            [
             0.7777777777777778,
             "#fb9f3a"
            ],
            [
             0.8888888888888888,
             "#fdca26"
            ],
            [
             1,
             "#f0f921"
            ]
           ],
           "sequentialminus": [
            [
             0,
             "#0d0887"
            ],
            [
             0.1111111111111111,
             "#46039f"
            ],
            [
             0.2222222222222222,
             "#7201a8"
            ],
            [
             0.3333333333333333,
             "#9c179e"
            ],
            [
             0.4444444444444444,
             "#bd3786"
            ],
            [
             0.5555555555555556,
             "#d8576b"
            ],
            [
             0.6666666666666666,
             "#ed7953"
            ],
            [
             0.7777777777777778,
             "#fb9f3a"
            ],
            [
             0.8888888888888888,
             "#fdca26"
            ],
            [
             1,
             "#f0f921"
            ]
           ]
          },
          "colorway": [
           "#636efa",
           "#EF553B",
           "#00cc96",
           "#ab63fa",
           "#FFA15A",
           "#19d3f3",
           "#FF6692",
           "#B6E880",
           "#FF97FF",
           "#FECB52"
          ],
          "font": {
           "color": "#2a3f5f"
          },
          "geo": {
           "bgcolor": "white",
           "lakecolor": "white",
           "landcolor": "#E5ECF6",
           "showlakes": true,
           "showland": true,
           "subunitcolor": "white"
          },
          "hoverlabel": {
           "align": "left"
          },
          "hovermode": "closest",
          "mapbox": {
           "style": "light"
          },
          "paper_bgcolor": "white",
          "plot_bgcolor": "#E5ECF6",
          "polar": {
           "angularaxis": {
            "gridcolor": "white",
            "linecolor": "white",
            "ticks": ""
           },
           "bgcolor": "#E5ECF6",
           "radialaxis": {
            "gridcolor": "white",
            "linecolor": "white",
            "ticks": ""
           }
          },
          "scene": {
           "xaxis": {
            "backgroundcolor": "#E5ECF6",
            "gridcolor": "white",
            "gridwidth": 2,
            "linecolor": "white",
            "showbackground": true,
            "ticks": "",
            "zerolinecolor": "white"
           },
           "yaxis": {
            "backgroundcolor": "#E5ECF6",
            "gridcolor": "white",
            "gridwidth": 2,
            "linecolor": "white",
            "showbackground": true,
            "ticks": "",
            "zerolinecolor": "white"
           },
           "zaxis": {
            "backgroundcolor": "#E5ECF6",
            "gridcolor": "white",
            "gridwidth": 2,
            "linecolor": "white",
            "showbackground": true,
            "ticks": "",
            "zerolinecolor": "white"
           }
          },
          "shapedefaults": {
           "line": {
            "color": "#2a3f5f"
           }
          },
          "ternary": {
           "aaxis": {
            "gridcolor": "white",
            "linecolor": "white",
            "ticks": ""
           },
           "baxis": {
            "gridcolor": "white",
            "linecolor": "white",
            "ticks": ""
           },
           "bgcolor": "#E5ECF6",
           "caxis": {
            "gridcolor": "white",
            "linecolor": "white",
            "ticks": ""
           }
          },
          "title": {
           "x": 0.05
          },
          "xaxis": {
           "automargin": true,
           "gridcolor": "white",
           "linecolor": "white",
           "ticks": "",
           "title": {
            "standoff": 15
           },
           "zerolinecolor": "white",
           "zerolinewidth": 2
          },
          "yaxis": {
           "automargin": true,
           "gridcolor": "white",
           "linecolor": "white",
           "ticks": "",
           "title": {
            "standoff": 15
           },
           "zerolinecolor": "white",
           "zerolinewidth": 2
          }
         }
        }
       }
      }
     },
     "metadata": {},
     "output_type": "display_data"
    }
   ],
   "source": [
    "fig=go.Figure(data=go.Scatter(x=years,y=sales,mode='markers',marker=dict(color='red')))\n",
    "fig.update_traces(error_y=dict(type='data', array=[30, 10, 15, 20, 25], visible=True))"
   ]
  },
  {
   "cell_type": "code",
   "execution_count": 102,
   "id": "81f53022",
   "metadata": {},
   "outputs": [],
   "source": [
    "cities=['Mumbai', 'Delhi', 'Bangalore', 'Chennai', 'Kolkata']\n",
    "population=[200000000, 18600000, 12400000, 10900000, 14800000]\n",
    "temperature=[32, 30, 28, 35, 33]\n",
    "gdp=[400000, 300000, 200000, 150000, 250000]"
   ]
  },
  {
   "cell_type": "code",
   "execution_count": 79,
   "id": "fa02fd0d",
   "metadata": {},
   "outputs": [
    {
     "data": {
      "application/vnd.plotly.v1+json": {
       "config": {
        "plotlyServerURL": "https://plot.ly"
       },
       "data": [
        {
         "marker": {
          "color": "blue",
          "showscale": true,
          "size": [
           400000,
           300000,
           200000,
           150000,
           250000
          ],
          "sizemin": 2,
          "sizemode": "area",
          "sizeref": 40
         },
         "mode": "markers",
         "text": [
          "Mumbai",
          "Delhi",
          "Bangalore",
          "Chennai",
          "Kolkata"
         ],
         "type": "scatter",
         "x": [
          32,
          30,
          28,
          35,
          33
         ],
         "y": [
          200000000,
          18600000,
          12400000,
          10900000,
          14800000
         ]
        }
       ],
       "layout": {
        "template": {
         "data": {
          "bar": [
           {
            "error_x": {
             "color": "#2a3f5f"
            },
            "error_y": {
             "color": "#2a3f5f"
            },
            "marker": {
             "line": {
              "color": "#E5ECF6",
              "width": 0.5
             },
             "pattern": {
              "fillmode": "overlay",
              "size": 10,
              "solidity": 0.2
             }
            },
            "type": "bar"
           }
          ],
          "barpolar": [
           {
            "marker": {
             "line": {
              "color": "#E5ECF6",
              "width": 0.5
             },
             "pattern": {
              "fillmode": "overlay",
              "size": 10,
              "solidity": 0.2
             }
            },
            "type": "barpolar"
           }
          ],
          "carpet": [
           {
            "aaxis": {
             "endlinecolor": "#2a3f5f",
             "gridcolor": "white",
             "linecolor": "white",
             "minorgridcolor": "white",
             "startlinecolor": "#2a3f5f"
            },
            "baxis": {
             "endlinecolor": "#2a3f5f",
             "gridcolor": "white",
             "linecolor": "white",
             "minorgridcolor": "white",
             "startlinecolor": "#2a3f5f"
            },
            "type": "carpet"
           }
          ],
          "choropleth": [
           {
            "colorbar": {
             "outlinewidth": 0,
             "ticks": ""
            },
            "type": "choropleth"
           }
          ],
          "contour": [
           {
            "colorbar": {
             "outlinewidth": 0,
             "ticks": ""
            },
            "colorscale": [
             [
              0,
              "#0d0887"
             ],
             [
              0.1111111111111111,
              "#46039f"
             ],
             [
              0.2222222222222222,
              "#7201a8"
             ],
             [
              0.3333333333333333,
              "#9c179e"
             ],
             [
              0.4444444444444444,
              "#bd3786"
             ],
             [
              0.5555555555555556,
              "#d8576b"
             ],
             [
              0.6666666666666666,
              "#ed7953"
             ],
             [
              0.7777777777777778,
              "#fb9f3a"
             ],
             [
              0.8888888888888888,
              "#fdca26"
             ],
             [
              1,
              "#f0f921"
             ]
            ],
            "type": "contour"
           }
          ],
          "contourcarpet": [
           {
            "colorbar": {
             "outlinewidth": 0,
             "ticks": ""
            },
            "type": "contourcarpet"
           }
          ],
          "heatmap": [
           {
            "colorbar": {
             "outlinewidth": 0,
             "ticks": ""
            },
            "colorscale": [
             [
              0,
              "#0d0887"
             ],
             [
              0.1111111111111111,
              "#46039f"
             ],
             [
              0.2222222222222222,
              "#7201a8"
             ],
             [
              0.3333333333333333,
              "#9c179e"
             ],
             [
              0.4444444444444444,
              "#bd3786"
             ],
             [
              0.5555555555555556,
              "#d8576b"
             ],
             [
              0.6666666666666666,
              "#ed7953"
             ],
             [
              0.7777777777777778,
              "#fb9f3a"
             ],
             [
              0.8888888888888888,
              "#fdca26"
             ],
             [
              1,
              "#f0f921"
             ]
            ],
            "type": "heatmap"
           }
          ],
          "heatmapgl": [
           {
            "colorbar": {
             "outlinewidth": 0,
             "ticks": ""
            },
            "colorscale": [
             [
              0,
              "#0d0887"
             ],
             [
              0.1111111111111111,
              "#46039f"
             ],
             [
              0.2222222222222222,
              "#7201a8"
             ],
             [
              0.3333333333333333,
              "#9c179e"
             ],
             [
              0.4444444444444444,
              "#bd3786"
             ],
             [
              0.5555555555555556,
              "#d8576b"
             ],
             [
              0.6666666666666666,
              "#ed7953"
             ],
             [
              0.7777777777777778,
              "#fb9f3a"
             ],
             [
              0.8888888888888888,
              "#fdca26"
             ],
             [
              1,
              "#f0f921"
             ]
            ],
            "type": "heatmapgl"
           }
          ],
          "histogram": [
           {
            "marker": {
             "pattern": {
              "fillmode": "overlay",
              "size": 10,
              "solidity": 0.2
             }
            },
            "type": "histogram"
           }
          ],
          "histogram2d": [
           {
            "colorbar": {
             "outlinewidth": 0,
             "ticks": ""
            },
            "colorscale": [
             [
              0,
              "#0d0887"
             ],
             [
              0.1111111111111111,
              "#46039f"
             ],
             [
              0.2222222222222222,
              "#7201a8"
             ],
             [
              0.3333333333333333,
              "#9c179e"
             ],
             [
              0.4444444444444444,
              "#bd3786"
             ],
             [
              0.5555555555555556,
              "#d8576b"
             ],
             [
              0.6666666666666666,
              "#ed7953"
             ],
             [
              0.7777777777777778,
              "#fb9f3a"
             ],
             [
              0.8888888888888888,
              "#fdca26"
             ],
             [
              1,
              "#f0f921"
             ]
            ],
            "type": "histogram2d"
           }
          ],
          "histogram2dcontour": [
           {
            "colorbar": {
             "outlinewidth": 0,
             "ticks": ""
            },
            "colorscale": [
             [
              0,
              "#0d0887"
             ],
             [
              0.1111111111111111,
              "#46039f"
             ],
             [
              0.2222222222222222,
              "#7201a8"
             ],
             [
              0.3333333333333333,
              "#9c179e"
             ],
             [
              0.4444444444444444,
              "#bd3786"
             ],
             [
              0.5555555555555556,
              "#d8576b"
             ],
             [
              0.6666666666666666,
              "#ed7953"
             ],
             [
              0.7777777777777778,
              "#fb9f3a"
             ],
             [
              0.8888888888888888,
              "#fdca26"
             ],
             [
              1,
              "#f0f921"
             ]
            ],
            "type": "histogram2dcontour"
           }
          ],
          "mesh3d": [
           {
            "colorbar": {
             "outlinewidth": 0,
             "ticks": ""
            },
            "type": "mesh3d"
           }
          ],
          "parcoords": [
           {
            "line": {
             "colorbar": {
              "outlinewidth": 0,
              "ticks": ""
             }
            },
            "type": "parcoords"
           }
          ],
          "pie": [
           {
            "automargin": true,
            "type": "pie"
           }
          ],
          "scatter": [
           {
            "fillpattern": {
             "fillmode": "overlay",
             "size": 10,
             "solidity": 0.2
            },
            "type": "scatter"
           }
          ],
          "scatter3d": [
           {
            "line": {
             "colorbar": {
              "outlinewidth": 0,
              "ticks": ""
             }
            },
            "marker": {
             "colorbar": {
              "outlinewidth": 0,
              "ticks": ""
             }
            },
            "type": "scatter3d"
           }
          ],
          "scattercarpet": [
           {
            "marker": {
             "colorbar": {
              "outlinewidth": 0,
              "ticks": ""
             }
            },
            "type": "scattercarpet"
           }
          ],
          "scattergeo": [
           {
            "marker": {
             "colorbar": {
              "outlinewidth": 0,
              "ticks": ""
             }
            },
            "type": "scattergeo"
           }
          ],
          "scattergl": [
           {
            "marker": {
             "colorbar": {
              "outlinewidth": 0,
              "ticks": ""
             }
            },
            "type": "scattergl"
           }
          ],
          "scattermapbox": [
           {
            "marker": {
             "colorbar": {
              "outlinewidth": 0,
              "ticks": ""
             }
            },
            "type": "scattermapbox"
           }
          ],
          "scatterpolar": [
           {
            "marker": {
             "colorbar": {
              "outlinewidth": 0,
              "ticks": ""
             }
            },
            "type": "scatterpolar"
           }
          ],
          "scatterpolargl": [
           {
            "marker": {
             "colorbar": {
              "outlinewidth": 0,
              "ticks": ""
             }
            },
            "type": "scatterpolargl"
           }
          ],
          "scatterternary": [
           {
            "marker": {
             "colorbar": {
              "outlinewidth": 0,
              "ticks": ""
             }
            },
            "type": "scatterternary"
           }
          ],
          "surface": [
           {
            "colorbar": {
             "outlinewidth": 0,
             "ticks": ""
            },
            "colorscale": [
             [
              0,
              "#0d0887"
             ],
             [
              0.1111111111111111,
              "#46039f"
             ],
             [
              0.2222222222222222,
              "#7201a8"
             ],
             [
              0.3333333333333333,
              "#9c179e"
             ],
             [
              0.4444444444444444,
              "#bd3786"
             ],
             [
              0.5555555555555556,
              "#d8576b"
             ],
             [
              0.6666666666666666,
              "#ed7953"
             ],
             [
              0.7777777777777778,
              "#fb9f3a"
             ],
             [
              0.8888888888888888,
              "#fdca26"
             ],
             [
              1,
              "#f0f921"
             ]
            ],
            "type": "surface"
           }
          ],
          "table": [
           {
            "cells": {
             "fill": {
              "color": "#EBF0F8"
             },
             "line": {
              "color": "white"
             }
            },
            "header": {
             "fill": {
              "color": "#C8D4E3"
             },
             "line": {
              "color": "white"
             }
            },
            "type": "table"
           }
          ]
         },
         "layout": {
          "annotationdefaults": {
           "arrowcolor": "#2a3f5f",
           "arrowhead": 0,
           "arrowwidth": 1
          },
          "autotypenumbers": "strict",
          "coloraxis": {
           "colorbar": {
            "outlinewidth": 0,
            "ticks": ""
           }
          },
          "colorscale": {
           "diverging": [
            [
             0,
             "#8e0152"
            ],
            [
             0.1,
             "#c51b7d"
            ],
            [
             0.2,
             "#de77ae"
            ],
            [
             0.3,
             "#f1b6da"
            ],
            [
             0.4,
             "#fde0ef"
            ],
            [
             0.5,
             "#f7f7f7"
            ],
            [
             0.6,
             "#e6f5d0"
            ],
            [
             0.7,
             "#b8e186"
            ],
            [
             0.8,
             "#7fbc41"
            ],
            [
             0.9,
             "#4d9221"
            ],
            [
             1,
             "#276419"
            ]
           ],
           "sequential": [
            [
             0,
             "#0d0887"
            ],
            [
             0.1111111111111111,
             "#46039f"
            ],
            [
             0.2222222222222222,
             "#7201a8"
            ],
            [
             0.3333333333333333,
             "#9c179e"
            ],
            [
             0.4444444444444444,
             "#bd3786"
            ],
            [
             0.5555555555555556,
             "#d8576b"
            ],
            [
             0.6666666666666666,
             "#ed7953"
            ],
            [
             0.7777777777777778,
             "#fb9f3a"
            ],
            [
             0.8888888888888888,
             "#fdca26"
            ],
            [
             1,
             "#f0f921"
            ]
           ],
           "sequentialminus": [
            [
             0,
             "#0d0887"
            ],
            [
             0.1111111111111111,
             "#46039f"
            ],
            [
             0.2222222222222222,
             "#7201a8"
            ],
            [
             0.3333333333333333,
             "#9c179e"
            ],
            [
             0.4444444444444444,
             "#bd3786"
            ],
            [
             0.5555555555555556,
             "#d8576b"
            ],
            [
             0.6666666666666666,
             "#ed7953"
            ],
            [
             0.7777777777777778,
             "#fb9f3a"
            ],
            [
             0.8888888888888888,
             "#fdca26"
            ],
            [
             1,
             "#f0f921"
            ]
           ]
          },
          "colorway": [
           "#636efa",
           "#EF553B",
           "#00cc96",
           "#ab63fa",
           "#FFA15A",
           "#19d3f3",
           "#FF6692",
           "#B6E880",
           "#FF97FF",
           "#FECB52"
          ],
          "font": {
           "color": "#2a3f5f"
          },
          "geo": {
           "bgcolor": "white",
           "lakecolor": "white",
           "landcolor": "#E5ECF6",
           "showlakes": true,
           "showland": true,
           "subunitcolor": "white"
          },
          "hoverlabel": {
           "align": "left"
          },
          "hovermode": "closest",
          "mapbox": {
           "style": "light"
          },
          "paper_bgcolor": "white",
          "plot_bgcolor": "#E5ECF6",
          "polar": {
           "angularaxis": {
            "gridcolor": "white",
            "linecolor": "white",
            "ticks": ""
           },
           "bgcolor": "#E5ECF6",
           "radialaxis": {
            "gridcolor": "white",
            "linecolor": "white",
            "ticks": ""
           }
          },
          "scene": {
           "xaxis": {
            "backgroundcolor": "#E5ECF6",
            "gridcolor": "white",
            "gridwidth": 2,
            "linecolor": "white",
            "showbackground": true,
            "ticks": "",
            "zerolinecolor": "white"
           },
           "yaxis": {
            "backgroundcolor": "#E5ECF6",
            "gridcolor": "white",
            "gridwidth": 2,
            "linecolor": "white",
            "showbackground": true,
            "ticks": "",
            "zerolinecolor": "white"
           },
           "zaxis": {
            "backgroundcolor": "#E5ECF6",
            "gridcolor": "white",
            "gridwidth": 2,
            "linecolor": "white",
            "showbackground": true,
            "ticks": "",
            "zerolinecolor": "white"
           }
          },
          "shapedefaults": {
           "line": {
            "color": "#2a3f5f"
           }
          },
          "ternary": {
           "aaxis": {
            "gridcolor": "white",
            "linecolor": "white",
            "ticks": ""
           },
           "baxis": {
            "gridcolor": "white",
            "linecolor": "white",
            "ticks": ""
           },
           "bgcolor": "#E5ECF6",
           "caxis": {
            "gridcolor": "white",
            "linecolor": "white",
            "ticks": ""
           }
          },
          "title": {
           "x": 0.05
          },
          "xaxis": {
           "automargin": true,
           "gridcolor": "white",
           "linecolor": "white",
           "ticks": "",
           "title": {
            "standoff": 15
           },
           "zerolinecolor": "white",
           "zerolinewidth": 2
          },
          "yaxis": {
           "automargin": true,
           "gridcolor": "white",
           "linecolor": "white",
           "ticks": "",
           "title": {
            "standoff": 15
           },
           "zerolinecolor": "white",
           "zerolinewidth": 2
          }
         }
        }
       }
      }
     },
     "metadata": {},
     "output_type": "display_data"
    }
   ],
   "source": [
    "fig=go.Figure(data=go.Scatter(x=temperature, y=population, mode='markers', marker=dict(size=gdp,sizemode='area', sizeref=max(gdp)/10000,sizemin=2,color=\"blue\",showscale=True),text=cities))\n",
    "fig.show()"
   ]
  },
  {
   "cell_type": "code",
   "execution_count": 105,
   "id": "e6d7a8fb",
   "metadata": {},
   "outputs": [
    {
     "data": {
      "text/html": [
       "<div>\n",
       "<style scoped>\n",
       "    .dataframe tbody tr th:only-of-type {\n",
       "        vertical-align: middle;\n",
       "    }\n",
       "\n",
       "    .dataframe tbody tr th {\n",
       "        vertical-align: top;\n",
       "    }\n",
       "\n",
       "    .dataframe thead th {\n",
       "        text-align: right;\n",
       "    }\n",
       "</style>\n",
       "<table border=\"1\" class=\"dataframe\">\n",
       "  <thead>\n",
       "    <tr style=\"text-align: right;\">\n",
       "      <th></th>\n",
       "      <th>City</th>\n",
       "      <th>Population</th>\n",
       "      <th>Temperature</th>\n",
       "      <th>GDP</th>\n",
       "    </tr>\n",
       "  </thead>\n",
       "  <tbody>\n",
       "    <tr>\n",
       "      <th>0</th>\n",
       "      <td>Mumbai</td>\n",
       "      <td>200000000</td>\n",
       "      <td>32</td>\n",
       "      <td>400000</td>\n",
       "    </tr>\n",
       "    <tr>\n",
       "      <th>1</th>\n",
       "      <td>Delhi</td>\n",
       "      <td>18600000</td>\n",
       "      <td>30</td>\n",
       "      <td>300000</td>\n",
       "    </tr>\n",
       "    <tr>\n",
       "      <th>2</th>\n",
       "      <td>Bangalore</td>\n",
       "      <td>12400000</td>\n",
       "      <td>28</td>\n",
       "      <td>200000</td>\n",
       "    </tr>\n",
       "    <tr>\n",
       "      <th>3</th>\n",
       "      <td>Chennai</td>\n",
       "      <td>10900000</td>\n",
       "      <td>35</td>\n",
       "      <td>150000</td>\n",
       "    </tr>\n",
       "    <tr>\n",
       "      <th>4</th>\n",
       "      <td>Kolkata</td>\n",
       "      <td>14800000</td>\n",
       "      <td>33</td>\n",
       "      <td>250000</td>\n",
       "    </tr>\n",
       "  </tbody>\n",
       "</table>\n",
       "</div>"
      ],
      "text/plain": [
       "        City  Population  Temperature     GDP\n",
       "0     Mumbai   200000000           32  400000\n",
       "1      Delhi    18600000           30  300000\n",
       "2  Bangalore    12400000           28  200000\n",
       "3    Chennai    10900000           35  150000\n",
       "4    Kolkata    14800000           33  250000"
      ]
     },
     "execution_count": 105,
     "metadata": {},
     "output_type": "execute_result"
    }
   ],
   "source": [
    "df = pd.DataFrame([cities, population, temperature, gdp]).T\n",
    "df.columns = ['City', 'Population', 'Temperature', 'GDP']\n",
    "# Coerce numeric columns to proper dtypes\n",
    "for col in ['Population', 'Temperature', 'GDP']:\n",
    "    df[col] = pd.to_numeric(df[col], errors='coerce')\n",
    "\n",
    "df"
   ]
  },
  {
   "cell_type": "code",
   "execution_count": 116,
   "id": "8492e72c",
   "metadata": {},
   "outputs": [
    {
     "data": {
      "application/vnd.plotly.v1+json": {
       "config": {
        "plotlyServerURL": "https://plot.ly"
       },
       "data": [
        {
         "customdata": [
          [
           "Mumbai"
          ]
         ],
         "hovertemplate": "City=%{customdata[0]}<br>Temperature=%{x}<br>Population=%{y}<br>GDP=%{marker.size}<extra></extra>",
         "legendgroup": "Mumbai",
         "marker": {
          "color": "#636efa",
          "size": [
           400000
          ],
          "sizemode": "area",
          "sizeref": 36.281179138321995,
          "symbol": "circle"
         },
         "mode": "markers",
         "name": "Mumbai",
         "orientation": "v",
         "showlegend": true,
         "type": "scatter",
         "x": [
          32
         ],
         "xaxis": "x",
         "y": [
          200000000
         ],
         "yaxis": "y"
        },
        {
         "customdata": [
          [
           "Delhi"
          ]
         ],
         "hovertemplate": "City=%{customdata[0]}<br>Temperature=%{x}<br>Population=%{y}<br>GDP=%{marker.size}<extra></extra>",
         "legendgroup": "Delhi",
         "marker": {
          "color": "#EF553B",
          "size": [
           300000
          ],
          "sizemode": "area",
          "sizeref": 36.281179138321995,
          "symbol": "circle"
         },
         "mode": "markers",
         "name": "Delhi",
         "orientation": "v",
         "showlegend": true,
         "type": "scatter",
         "x": [
          30
         ],
         "xaxis": "x",
         "y": [
          18600000
         ],
         "yaxis": "y"
        },
        {
         "customdata": [
          [
           "Bangalore"
          ]
         ],
         "hovertemplate": "City=%{customdata[0]}<br>Temperature=%{x}<br>Population=%{y}<br>GDP=%{marker.size}<extra></extra>",
         "legendgroup": "Bangalore",
         "marker": {
          "color": "#00cc96",
          "size": [
           200000
          ],
          "sizemode": "area",
          "sizeref": 36.281179138321995,
          "symbol": "circle"
         },
         "mode": "markers",
         "name": "Bangalore",
         "orientation": "v",
         "showlegend": true,
         "type": "scatter",
         "x": [
          28
         ],
         "xaxis": "x",
         "y": [
          12400000
         ],
         "yaxis": "y"
        },
        {
         "customdata": [
          [
           "Chennai"
          ]
         ],
         "hovertemplate": "City=%{customdata[0]}<br>Temperature=%{x}<br>Population=%{y}<br>GDP=%{marker.size}<extra></extra>",
         "legendgroup": "Chennai",
         "marker": {
          "color": "#ab63fa",
          "size": [
           150000
          ],
          "sizemode": "area",
          "sizeref": 36.281179138321995,
          "symbol": "circle"
         },
         "mode": "markers",
         "name": "Chennai",
         "orientation": "v",
         "showlegend": true,
         "type": "scatter",
         "x": [
          35
         ],
         "xaxis": "x",
         "y": [
          10900000
         ],
         "yaxis": "y"
        },
        {
         "customdata": [
          [
           "Kolkata"
          ]
         ],
         "hovertemplate": "City=%{customdata[0]}<br>Temperature=%{x}<br>Population=%{y}<br>GDP=%{marker.size}<extra></extra>",
         "legendgroup": "Kolkata",
         "marker": {
          "color": "#FFA15A",
          "size": [
           250000
          ],
          "sizemode": "area",
          "sizeref": 36.281179138321995,
          "symbol": "circle"
         },
         "mode": "markers",
         "name": "Kolkata",
         "orientation": "v",
         "showlegend": true,
         "type": "scatter",
         "x": [
          33
         ],
         "xaxis": "x",
         "y": [
          14800000
         ],
         "yaxis": "y"
        }
       ],
       "layout": {
        "legend": {
         "itemsizing": "constant",
         "title": {
          "text": "City"
         },
         "tracegroupgap": 0
        },
        "margin": {
         "t": 60
        },
        "template": {
         "data": {
          "bar": [
           {
            "error_x": {
             "color": "#2a3f5f"
            },
            "error_y": {
             "color": "#2a3f5f"
            },
            "marker": {
             "line": {
              "color": "#E5ECF6",
              "width": 0.5
             },
             "pattern": {
              "fillmode": "overlay",
              "size": 10,
              "solidity": 0.2
             }
            },
            "type": "bar"
           }
          ],
          "barpolar": [
           {
            "marker": {
             "line": {
              "color": "#E5ECF6",
              "width": 0.5
             },
             "pattern": {
              "fillmode": "overlay",
              "size": 10,
              "solidity": 0.2
             }
            },
            "type": "barpolar"
           }
          ],
          "carpet": [
           {
            "aaxis": {
             "endlinecolor": "#2a3f5f",
             "gridcolor": "white",
             "linecolor": "white",
             "minorgridcolor": "white",
             "startlinecolor": "#2a3f5f"
            },
            "baxis": {
             "endlinecolor": "#2a3f5f",
             "gridcolor": "white",
             "linecolor": "white",
             "minorgridcolor": "white",
             "startlinecolor": "#2a3f5f"
            },
            "type": "carpet"
           }
          ],
          "choropleth": [
           {
            "colorbar": {
             "outlinewidth": 0,
             "ticks": ""
            },
            "type": "choropleth"
           }
          ],
          "contour": [
           {
            "colorbar": {
             "outlinewidth": 0,
             "ticks": ""
            },
            "colorscale": [
             [
              0,
              "#0d0887"
             ],
             [
              0.1111111111111111,
              "#46039f"
             ],
             [
              0.2222222222222222,
              "#7201a8"
             ],
             [
              0.3333333333333333,
              "#9c179e"
             ],
             [
              0.4444444444444444,
              "#bd3786"
             ],
             [
              0.5555555555555556,
              "#d8576b"
             ],
             [
              0.6666666666666666,
              "#ed7953"
             ],
             [
              0.7777777777777778,
              "#fb9f3a"
             ],
             [
              0.8888888888888888,
              "#fdca26"
             ],
             [
              1,
              "#f0f921"
             ]
            ],
            "type": "contour"
           }
          ],
          "contourcarpet": [
           {
            "colorbar": {
             "outlinewidth": 0,
             "ticks": ""
            },
            "type": "contourcarpet"
           }
          ],
          "heatmap": [
           {
            "colorbar": {
             "outlinewidth": 0,
             "ticks": ""
            },
            "colorscale": [
             [
              0,
              "#0d0887"
             ],
             [
              0.1111111111111111,
              "#46039f"
             ],
             [
              0.2222222222222222,
              "#7201a8"
             ],
             [
              0.3333333333333333,
              "#9c179e"
             ],
             [
              0.4444444444444444,
              "#bd3786"
             ],
             [
              0.5555555555555556,
              "#d8576b"
             ],
             [
              0.6666666666666666,
              "#ed7953"
             ],
             [
              0.7777777777777778,
              "#fb9f3a"
             ],
             [
              0.8888888888888888,
              "#fdca26"
             ],
             [
              1,
              "#f0f921"
             ]
            ],
            "type": "heatmap"
           }
          ],
          "heatmapgl": [
           {
            "colorbar": {
             "outlinewidth": 0,
             "ticks": ""
            },
            "colorscale": [
             [
              0,
              "#0d0887"
             ],
             [
              0.1111111111111111,
              "#46039f"
             ],
             [
              0.2222222222222222,
              "#7201a8"
             ],
             [
              0.3333333333333333,
              "#9c179e"
             ],
             [
              0.4444444444444444,
              "#bd3786"
             ],
             [
              0.5555555555555556,
              "#d8576b"
             ],
             [
              0.6666666666666666,
              "#ed7953"
             ],
             [
              0.7777777777777778,
              "#fb9f3a"
             ],
             [
              0.8888888888888888,
              "#fdca26"
             ],
             [
              1,
              "#f0f921"
             ]
            ],
            "type": "heatmapgl"
           }
          ],
          "histogram": [
           {
            "marker": {
             "pattern": {
              "fillmode": "overlay",
              "size": 10,
              "solidity": 0.2
             }
            },
            "type": "histogram"
           }
          ],
          "histogram2d": [
           {
            "colorbar": {
             "outlinewidth": 0,
             "ticks": ""
            },
            "colorscale": [
             [
              0,
              "#0d0887"
             ],
             [
              0.1111111111111111,
              "#46039f"
             ],
             [
              0.2222222222222222,
              "#7201a8"
             ],
             [
              0.3333333333333333,
              "#9c179e"
             ],
             [
              0.4444444444444444,
              "#bd3786"
             ],
             [
              0.5555555555555556,
              "#d8576b"
             ],
             [
              0.6666666666666666,
              "#ed7953"
             ],
             [
              0.7777777777777778,
              "#fb9f3a"
             ],
             [
              0.8888888888888888,
              "#fdca26"
             ],
             [
              1,
              "#f0f921"
             ]
            ],
            "type": "histogram2d"
           }
          ],
          "histogram2dcontour": [
           {
            "colorbar": {
             "outlinewidth": 0,
             "ticks": ""
            },
            "colorscale": [
             [
              0,
              "#0d0887"
             ],
             [
              0.1111111111111111,
              "#46039f"
             ],
             [
              0.2222222222222222,
              "#7201a8"
             ],
             [
              0.3333333333333333,
              "#9c179e"
             ],
             [
              0.4444444444444444,
              "#bd3786"
             ],
             [
              0.5555555555555556,
              "#d8576b"
             ],
             [
              0.6666666666666666,
              "#ed7953"
             ],
             [
              0.7777777777777778,
              "#fb9f3a"
             ],
             [
              0.8888888888888888,
              "#fdca26"
             ],
             [
              1,
              "#f0f921"
             ]
            ],
            "type": "histogram2dcontour"
           }
          ],
          "mesh3d": [
           {
            "colorbar": {
             "outlinewidth": 0,
             "ticks": ""
            },
            "type": "mesh3d"
           }
          ],
          "parcoords": [
           {
            "line": {
             "colorbar": {
              "outlinewidth": 0,
              "ticks": ""
             }
            },
            "type": "parcoords"
           }
          ],
          "pie": [
           {
            "automargin": true,
            "type": "pie"
           }
          ],
          "scatter": [
           {
            "fillpattern": {
             "fillmode": "overlay",
             "size": 10,
             "solidity": 0.2
            },
            "type": "scatter"
           }
          ],
          "scatter3d": [
           {
            "line": {
             "colorbar": {
              "outlinewidth": 0,
              "ticks": ""
             }
            },
            "marker": {
             "colorbar": {
              "outlinewidth": 0,
              "ticks": ""
             }
            },
            "type": "scatter3d"
           }
          ],
          "scattercarpet": [
           {
            "marker": {
             "colorbar": {
              "outlinewidth": 0,
              "ticks": ""
             }
            },
            "type": "scattercarpet"
           }
          ],
          "scattergeo": [
           {
            "marker": {
             "colorbar": {
              "outlinewidth": 0,
              "ticks": ""
             }
            },
            "type": "scattergeo"
           }
          ],
          "scattergl": [
           {
            "marker": {
             "colorbar": {
              "outlinewidth": 0,
              "ticks": ""
             }
            },
            "type": "scattergl"
           }
          ],
          "scattermapbox": [
           {
            "marker": {
             "colorbar": {
              "outlinewidth": 0,
              "ticks": ""
             }
            },
            "type": "scattermapbox"
           }
          ],
          "scatterpolar": [
           {
            "marker": {
             "colorbar": {
              "outlinewidth": 0,
              "ticks": ""
             }
            },
            "type": "scatterpolar"
           }
          ],
          "scatterpolargl": [
           {
            "marker": {
             "colorbar": {
              "outlinewidth": 0,
              "ticks": ""
             }
            },
            "type": "scatterpolargl"
           }
          ],
          "scatterternary": [
           {
            "marker": {
             "colorbar": {
              "outlinewidth": 0,
              "ticks": ""
             }
            },
            "type": "scatterternary"
           }
          ],
          "surface": [
           {
            "colorbar": {
             "outlinewidth": 0,
             "ticks": ""
            },
            "colorscale": [
             [
              0,
              "#0d0887"
             ],
             [
              0.1111111111111111,
              "#46039f"
             ],
             [
              0.2222222222222222,
              "#7201a8"
             ],
             [
              0.3333333333333333,
              "#9c179e"
             ],
             [
              0.4444444444444444,
              "#bd3786"
             ],
             [
              0.5555555555555556,
              "#d8576b"
             ],
             [
              0.6666666666666666,
              "#ed7953"
             ],
             [
              0.7777777777777778,
              "#fb9f3a"
             ],
             [
              0.8888888888888888,
              "#fdca26"
             ],
             [
              1,
              "#f0f921"
             ]
            ],
            "type": "surface"
           }
          ],
          "table": [
           {
            "cells": {
             "fill": {
              "color": "#EBF0F8"
             },
             "line": {
              "color": "white"
             }
            },
            "header": {
             "fill": {
              "color": "#C8D4E3"
             },
             "line": {
              "color": "white"
             }
            },
            "type": "table"
           }
          ]
         },
         "layout": {
          "annotationdefaults": {
           "arrowcolor": "#2a3f5f",
           "arrowhead": 0,
           "arrowwidth": 1
          },
          "autotypenumbers": "strict",
          "coloraxis": {
           "colorbar": {
            "outlinewidth": 0,
            "ticks": ""
           }
          },
          "colorscale": {
           "diverging": [
            [
             0,
             "#8e0152"
            ],
            [
             0.1,
             "#c51b7d"
            ],
            [
             0.2,
             "#de77ae"
            ],
            [
             0.3,
             "#f1b6da"
            ],
            [
             0.4,
             "#fde0ef"
            ],
            [
             0.5,
             "#f7f7f7"
            ],
            [
             0.6,
             "#e6f5d0"
            ],
            [
             0.7,
             "#b8e186"
            ],
            [
             0.8,
             "#7fbc41"
            ],
            [
             0.9,
             "#4d9221"
            ],
            [
             1,
             "#276419"
            ]
           ],
           "sequential": [
            [
             0,
             "#0d0887"
            ],
            [
             0.1111111111111111,
             "#46039f"
            ],
            [
             0.2222222222222222,
             "#7201a8"
            ],
            [
             0.3333333333333333,
             "#9c179e"
            ],
            [
             0.4444444444444444,
             "#bd3786"
            ],
            [
             0.5555555555555556,
             "#d8576b"
            ],
            [
             0.6666666666666666,
             "#ed7953"
            ],
            [
             0.7777777777777778,
             "#fb9f3a"
            ],
            [
             0.8888888888888888,
             "#fdca26"
            ],
            [
             1,
             "#f0f921"
            ]
           ],
           "sequentialminus": [
            [
             0,
             "#0d0887"
            ],
            [
             0.1111111111111111,
             "#46039f"
            ],
            [
             0.2222222222222222,
             "#7201a8"
            ],
            [
             0.3333333333333333,
             "#9c179e"
            ],
            [
             0.4444444444444444,
             "#bd3786"
            ],
            [
             0.5555555555555556,
             "#d8576b"
            ],
            [
             0.6666666666666666,
             "#ed7953"
            ],
            [
             0.7777777777777778,
             "#fb9f3a"
            ],
            [
             0.8888888888888888,
             "#fdca26"
            ],
            [
             1,
             "#f0f921"
            ]
           ]
          },
          "colorway": [
           "#636efa",
           "#EF553B",
           "#00cc96",
           "#ab63fa",
           "#FFA15A",
           "#19d3f3",
           "#FF6692",
           "#B6E880",
           "#FF97FF",
           "#FECB52"
          ],
          "font": {
           "color": "#2a3f5f"
          },
          "geo": {
           "bgcolor": "white",
           "lakecolor": "white",
           "landcolor": "#E5ECF6",
           "showlakes": true,
           "showland": true,
           "subunitcolor": "white"
          },
          "hoverlabel": {
           "align": "left"
          },
          "hovermode": "closest",
          "mapbox": {
           "style": "light"
          },
          "paper_bgcolor": "white",
          "plot_bgcolor": "#E5ECF6",
          "polar": {
           "angularaxis": {
            "gridcolor": "white",
            "linecolor": "white",
            "ticks": ""
           },
           "bgcolor": "#E5ECF6",
           "radialaxis": {
            "gridcolor": "white",
            "linecolor": "white",
            "ticks": ""
           }
          },
          "scene": {
           "xaxis": {
            "backgroundcolor": "#E5ECF6",
            "gridcolor": "white",
            "gridwidth": 2,
            "linecolor": "white",
            "showbackground": true,
            "ticks": "",
            "zerolinecolor": "white"
           },
           "yaxis": {
            "backgroundcolor": "#E5ECF6",
            "gridcolor": "white",
            "gridwidth": 2,
            "linecolor": "white",
            "showbackground": true,
            "ticks": "",
            "zerolinecolor": "white"
           },
           "zaxis": {
            "backgroundcolor": "#E5ECF6",
            "gridcolor": "white",
            "gridwidth": 2,
            "linecolor": "white",
            "showbackground": true,
            "ticks": "",
            "zerolinecolor": "white"
           }
          },
          "shapedefaults": {
           "line": {
            "color": "#2a3f5f"
           }
          },
          "ternary": {
           "aaxis": {
            "gridcolor": "white",
            "linecolor": "white",
            "ticks": ""
           },
           "baxis": {
            "gridcolor": "white",
            "linecolor": "white",
            "ticks": ""
           },
           "bgcolor": "#E5ECF6",
           "caxis": {
            "gridcolor": "white",
            "linecolor": "white",
            "ticks": ""
           }
          },
          "title": {
           "x": 0.05
          },
          "xaxis": {
           "automargin": true,
           "gridcolor": "white",
           "linecolor": "white",
           "ticks": "",
           "title": {
            "standoff": 15
           },
           "zerolinecolor": "white",
           "zerolinewidth": 2
          },
          "yaxis": {
           "automargin": true,
           "gridcolor": "white",
           "linecolor": "white",
           "ticks": "",
           "title": {
            "standoff": 15
           },
           "zerolinecolor": "white",
           "zerolinewidth": 2
          }
         }
        },
        "xaxis": {
         "anchor": "y",
         "domain": [
          0,
          1
         ],
         "title": {
          "text": "Temperature"
         }
        },
        "yaxis": {
         "anchor": "x",
         "domain": [
          0,
          1
         ],
         "title": {
          "text": "Population"
         }
        }
       }
      }
     },
     "metadata": {},
     "output_type": "display_data"
    }
   ],
   "source": [
    "fig=px.scatter(df,x='Temperature',y='Population',size='GDP',hover_data=[\"City\"],size_max=105,color=\"City\")\n",
    "fig.show()  "
   ]
  },
  {
   "cell_type": "code",
   "execution_count": 122,
   "id": "cd7420ee",
   "metadata": {},
   "outputs": [],
   "source": [
    "import plotly.express as px\n",
    "df=px.data.iris()"
   ]
  },
  {
   "cell_type": "code",
   "execution_count": 124,
   "id": "49e0b98a",
   "metadata": {},
   "outputs": [
    {
     "data": {
      "application/vnd.plotly.v1+json": {
       "config": {
        "plotlyServerURL": "https://plot.ly"
       },
       "data": [
        {
         "customdata": [
          [
           0.2
          ],
          [
           0.2
          ],
          [
           0.2
          ],
          [
           0.2
          ],
          [
           0.2
          ],
          [
           0.4
          ],
          [
           0.3
          ],
          [
           0.2
          ],
          [
           0.2
          ],
          [
           0.1
          ],
          [
           0.2
          ],
          [
           0.2
          ],
          [
           0.1
          ],
          [
           0.1
          ],
          [
           0.2
          ],
          [
           0.4
          ],
          [
           0.4
          ],
          [
           0.3
          ],
          [
           0.3
          ],
          [
           0.3
          ],
          [
           0.2
          ],
          [
           0.4
          ],
          [
           0.2
          ],
          [
           0.5
          ],
          [
           0.2
          ],
          [
           0.2
          ],
          [
           0.4
          ],
          [
           0.2
          ],
          [
           0.2
          ],
          [
           0.2
          ],
          [
           0.2
          ],
          [
           0.4
          ],
          [
           0.1
          ],
          [
           0.2
          ],
          [
           0.1
          ],
          [
           0.2
          ],
          [
           0.2
          ],
          [
           0.1
          ],
          [
           0.2
          ],
          [
           0.2
          ],
          [
           0.3
          ],
          [
           0.3
          ],
          [
           0.2
          ],
          [
           0.6
          ],
          [
           0.4
          ],
          [
           0.3
          ],
          [
           0.2
          ],
          [
           0.2
          ],
          [
           0.2
          ],
          [
           0.2
          ]
         ],
         "hovertemplate": "species=setosa<br>sepal_length=%{x}<br>sepal_width=%{y}<br>petal_width=%{customdata[0]}<extra></extra>",
         "legendgroup": "setosa",
         "marker": {
          "color": "#636efa",
          "symbol": "circle"
         },
         "mode": "markers",
         "name": "setosa",
         "orientation": "v",
         "showlegend": true,
         "type": "scatter",
         "x": [
          5.1,
          4.9,
          4.7,
          4.6,
          5,
          5.4,
          4.6,
          5,
          4.4,
          4.9,
          5.4,
          4.8,
          4.8,
          4.3,
          5.8,
          5.7,
          5.4,
          5.1,
          5.7,
          5.1,
          5.4,
          5.1,
          4.6,
          5.1,
          4.8,
          5,
          5,
          5.2,
          5.2,
          4.7,
          4.8,
          5.4,
          5.2,
          5.5,
          4.9,
          5,
          5.5,
          4.9,
          4.4,
          5.1,
          5,
          4.5,
          4.4,
          5,
          5.1,
          4.8,
          5.1,
          4.6,
          5.3,
          5
         ],
         "xaxis": "x",
         "y": [
          3.5,
          3,
          3.2,
          3.1,
          3.6,
          3.9,
          3.4,
          3.4,
          2.9,
          3.1,
          3.7,
          3.4,
          3,
          3,
          4,
          4.4,
          3.9,
          3.5,
          3.8,
          3.8,
          3.4,
          3.7,
          3.6,
          3.3,
          3.4,
          3,
          3.4,
          3.5,
          3.4,
          3.2,
          3.1,
          3.4,
          4.1,
          4.2,
          3.1,
          3.2,
          3.5,
          3.1,
          3,
          3.4,
          3.5,
          2.3,
          3.2,
          3.5,
          3.8,
          3,
          3.8,
          3.2,
          3.7,
          3.3
         ],
         "yaxis": "y"
        },
        {
         "customdata": [
          [
           1.4
          ],
          [
           1.5
          ],
          [
           1.5
          ],
          [
           1.3
          ],
          [
           1.5
          ],
          [
           1.3
          ],
          [
           1.6
          ],
          [
           1
          ],
          [
           1.3
          ],
          [
           1.4
          ],
          [
           1
          ],
          [
           1.5
          ],
          [
           1
          ],
          [
           1.4
          ],
          [
           1.3
          ],
          [
           1.4
          ],
          [
           1.5
          ],
          [
           1
          ],
          [
           1.5
          ],
          [
           1.1
          ],
          [
           1.8
          ],
          [
           1.3
          ],
          [
           1.5
          ],
          [
           1.2
          ],
          [
           1.3
          ],
          [
           1.4
          ],
          [
           1.4
          ],
          [
           1.7
          ],
          [
           1.5
          ],
          [
           1
          ],
          [
           1.1
          ],
          [
           1
          ],
          [
           1.2
          ],
          [
           1.6
          ],
          [
           1.5
          ],
          [
           1.6
          ],
          [
           1.5
          ],
          [
           1.3
          ],
          [
           1.3
          ],
          [
           1.3
          ],
          [
           1.2
          ],
          [
           1.4
          ],
          [
           1.2
          ],
          [
           1
          ],
          [
           1.3
          ],
          [
           1.2
          ],
          [
           1.3
          ],
          [
           1.3
          ],
          [
           1.1
          ],
          [
           1.3
          ]
         ],
         "hovertemplate": "species=versicolor<br>sepal_length=%{x}<br>sepal_width=%{y}<br>petal_width=%{customdata[0]}<extra></extra>",
         "legendgroup": "versicolor",
         "marker": {
          "color": "#EF553B",
          "symbol": "circle"
         },
         "mode": "markers",
         "name": "versicolor",
         "orientation": "v",
         "showlegend": true,
         "type": "scatter",
         "x": [
          7,
          6.4,
          6.9,
          5.5,
          6.5,
          5.7,
          6.3,
          4.9,
          6.6,
          5.2,
          5,
          5.9,
          6,
          6.1,
          5.6,
          6.7,
          5.6,
          5.8,
          6.2,
          5.6,
          5.9,
          6.1,
          6.3,
          6.1,
          6.4,
          6.6,
          6.8,
          6.7,
          6,
          5.7,
          5.5,
          5.5,
          5.8,
          6,
          5.4,
          6,
          6.7,
          6.3,
          5.6,
          5.5,
          5.5,
          6.1,
          5.8,
          5,
          5.6,
          5.7,
          5.7,
          6.2,
          5.1,
          5.7
         ],
         "xaxis": "x",
         "y": [
          3.2,
          3.2,
          3.1,
          2.3,
          2.8,
          2.8,
          3.3,
          2.4,
          2.9,
          2.7,
          2,
          3,
          2.2,
          2.9,
          2.9,
          3.1,
          3,
          2.7,
          2.2,
          2.5,
          3.2,
          2.8,
          2.5,
          2.8,
          2.9,
          3,
          2.8,
          3,
          2.9,
          2.6,
          2.4,
          2.4,
          2.7,
          2.7,
          3,
          3.4,
          3.1,
          2.3,
          3,
          2.5,
          2.6,
          3,
          2.6,
          2.3,
          2.7,
          3,
          2.9,
          2.9,
          2.5,
          2.8
         ],
         "yaxis": "y"
        },
        {
         "customdata": [
          [
           2.5
          ],
          [
           1.9
          ],
          [
           2.1
          ],
          [
           1.8
          ],
          [
           2.2
          ],
          [
           2.1
          ],
          [
           1.7
          ],
          [
           1.8
          ],
          [
           1.8
          ],
          [
           2.5
          ],
          [
           2
          ],
          [
           1.9
          ],
          [
           2.1
          ],
          [
           2
          ],
          [
           2.4
          ],
          [
           2.3
          ],
          [
           1.8
          ],
          [
           2.2
          ],
          [
           2.3
          ],
          [
           1.5
          ],
          [
           2.3
          ],
          [
           2
          ],
          [
           2
          ],
          [
           1.8
          ],
          [
           2.1
          ],
          [
           1.8
          ],
          [
           1.8
          ],
          [
           1.8
          ],
          [
           2.1
          ],
          [
           1.6
          ],
          [
           1.9
          ],
          [
           2
          ],
          [
           2.2
          ],
          [
           1.5
          ],
          [
           1.4
          ],
          [
           2.3
          ],
          [
           2.4
          ],
          [
           1.8
          ],
          [
           1.8
          ],
          [
           2.1
          ],
          [
           2.4
          ],
          [
           2.3
          ],
          [
           1.9
          ],
          [
           2.3
          ],
          [
           2.5
          ],
          [
           2.3
          ],
          [
           1.9
          ],
          [
           2
          ],
          [
           2.3
          ],
          [
           1.8
          ]
         ],
         "hovertemplate": "species=virginica<br>sepal_length=%{x}<br>sepal_width=%{y}<br>petal_width=%{customdata[0]}<extra></extra>",
         "legendgroup": "virginica",
         "marker": {
          "color": "#00cc96",
          "symbol": "circle"
         },
         "mode": "markers",
         "name": "virginica",
         "orientation": "v",
         "showlegend": true,
         "type": "scatter",
         "x": [
          6.3,
          5.8,
          7.1,
          6.3,
          6.5,
          7.6,
          4.9,
          7.3,
          6.7,
          7.2,
          6.5,
          6.4,
          6.8,
          5.7,
          5.8,
          6.4,
          6.5,
          7.7,
          7.7,
          6,
          6.9,
          5.6,
          7.7,
          6.3,
          6.7,
          7.2,
          6.2,
          6.1,
          6.4,
          7.2,
          7.4,
          7.9,
          6.4,
          6.3,
          6.1,
          7.7,
          6.3,
          6.4,
          6,
          6.9,
          6.7,
          6.9,
          5.8,
          6.8,
          6.7,
          6.7,
          6.3,
          6.5,
          6.2,
          5.9
         ],
         "xaxis": "x",
         "y": [
          3.3,
          2.7,
          3,
          2.9,
          3,
          3,
          2.5,
          2.9,
          2.5,
          3.6,
          3.2,
          2.7,
          3,
          2.5,
          2.8,
          3.2,
          3,
          3.8,
          2.6,
          2.2,
          3.2,
          2.8,
          2.8,
          2.7,
          3.3,
          3.2,
          2.8,
          3,
          2.8,
          3,
          2.8,
          3.8,
          2.8,
          2.8,
          2.6,
          3,
          3.4,
          3.1,
          3,
          3.1,
          3.1,
          3.1,
          2.7,
          3.2,
          3.3,
          3,
          2.5,
          3,
          3.4,
          3
         ],
         "yaxis": "y"
        }
       ],
       "layout": {
        "legend": {
         "title": {
          "text": "species"
         },
         "tracegroupgap": 0
        },
        "margin": {
         "t": 60
        },
        "template": {
         "data": {
          "bar": [
           {
            "error_x": {
             "color": "#2a3f5f"
            },
            "error_y": {
             "color": "#2a3f5f"
            },
            "marker": {
             "line": {
              "color": "#E5ECF6",
              "width": 0.5
             },
             "pattern": {
              "fillmode": "overlay",
              "size": 10,
              "solidity": 0.2
             }
            },
            "type": "bar"
           }
          ],
          "barpolar": [
           {
            "marker": {
             "line": {
              "color": "#E5ECF6",
              "width": 0.5
             },
             "pattern": {
              "fillmode": "overlay",
              "size": 10,
              "solidity": 0.2
             }
            },
            "type": "barpolar"
           }
          ],
          "carpet": [
           {
            "aaxis": {
             "endlinecolor": "#2a3f5f",
             "gridcolor": "white",
             "linecolor": "white",
             "minorgridcolor": "white",
             "startlinecolor": "#2a3f5f"
            },
            "baxis": {
             "endlinecolor": "#2a3f5f",
             "gridcolor": "white",
             "linecolor": "white",
             "minorgridcolor": "white",
             "startlinecolor": "#2a3f5f"
            },
            "type": "carpet"
           }
          ],
          "choropleth": [
           {
            "colorbar": {
             "outlinewidth": 0,
             "ticks": ""
            },
            "type": "choropleth"
           }
          ],
          "contour": [
           {
            "colorbar": {
             "outlinewidth": 0,
             "ticks": ""
            },
            "colorscale": [
             [
              0,
              "#0d0887"
             ],
             [
              0.1111111111111111,
              "#46039f"
             ],
             [
              0.2222222222222222,
              "#7201a8"
             ],
             [
              0.3333333333333333,
              "#9c179e"
             ],
             [
              0.4444444444444444,
              "#bd3786"
             ],
             [
              0.5555555555555556,
              "#d8576b"
             ],
             [
              0.6666666666666666,
              "#ed7953"
             ],
             [
              0.7777777777777778,
              "#fb9f3a"
             ],
             [
              0.8888888888888888,
              "#fdca26"
             ],
             [
              1,
              "#f0f921"
             ]
            ],
            "type": "contour"
           }
          ],
          "contourcarpet": [
           {
            "colorbar": {
             "outlinewidth": 0,
             "ticks": ""
            },
            "type": "contourcarpet"
           }
          ],
          "heatmap": [
           {
            "colorbar": {
             "outlinewidth": 0,
             "ticks": ""
            },
            "colorscale": [
             [
              0,
              "#0d0887"
             ],
             [
              0.1111111111111111,
              "#46039f"
             ],
             [
              0.2222222222222222,
              "#7201a8"
             ],
             [
              0.3333333333333333,
              "#9c179e"
             ],
             [
              0.4444444444444444,
              "#bd3786"
             ],
             [
              0.5555555555555556,
              "#d8576b"
             ],
             [
              0.6666666666666666,
              "#ed7953"
             ],
             [
              0.7777777777777778,
              "#fb9f3a"
             ],
             [
              0.8888888888888888,
              "#fdca26"
             ],
             [
              1,
              "#f0f921"
             ]
            ],
            "type": "heatmap"
           }
          ],
          "heatmapgl": [
           {
            "colorbar": {
             "outlinewidth": 0,
             "ticks": ""
            },
            "colorscale": [
             [
              0,
              "#0d0887"
             ],
             [
              0.1111111111111111,
              "#46039f"
             ],
             [
              0.2222222222222222,
              "#7201a8"
             ],
             [
              0.3333333333333333,
              "#9c179e"
             ],
             [
              0.4444444444444444,
              "#bd3786"
             ],
             [
              0.5555555555555556,
              "#d8576b"
             ],
             [
              0.6666666666666666,
              "#ed7953"
             ],
             [
              0.7777777777777778,
              "#fb9f3a"
             ],
             [
              0.8888888888888888,
              "#fdca26"
             ],
             [
              1,
              "#f0f921"
             ]
            ],
            "type": "heatmapgl"
           }
          ],
          "histogram": [
           {
            "marker": {
             "pattern": {
              "fillmode": "overlay",
              "size": 10,
              "solidity": 0.2
             }
            },
            "type": "histogram"
           }
          ],
          "histogram2d": [
           {
            "colorbar": {
             "outlinewidth": 0,
             "ticks": ""
            },
            "colorscale": [
             [
              0,
              "#0d0887"
             ],
             [
              0.1111111111111111,
              "#46039f"
             ],
             [
              0.2222222222222222,
              "#7201a8"
             ],
             [
              0.3333333333333333,
              "#9c179e"
             ],
             [
              0.4444444444444444,
              "#bd3786"
             ],
             [
              0.5555555555555556,
              "#d8576b"
             ],
             [
              0.6666666666666666,
              "#ed7953"
             ],
             [
              0.7777777777777778,
              "#fb9f3a"
             ],
             [
              0.8888888888888888,
              "#fdca26"
             ],
             [
              1,
              "#f0f921"
             ]
            ],
            "type": "histogram2d"
           }
          ],
          "histogram2dcontour": [
           {
            "colorbar": {
             "outlinewidth": 0,
             "ticks": ""
            },
            "colorscale": [
             [
              0,
              "#0d0887"
             ],
             [
              0.1111111111111111,
              "#46039f"
             ],
             [
              0.2222222222222222,
              "#7201a8"
             ],
             [
              0.3333333333333333,
              "#9c179e"
             ],
             [
              0.4444444444444444,
              "#bd3786"
             ],
             [
              0.5555555555555556,
              "#d8576b"
             ],
             [
              0.6666666666666666,
              "#ed7953"
             ],
             [
              0.7777777777777778,
              "#fb9f3a"
             ],
             [
              0.8888888888888888,
              "#fdca26"
             ],
             [
              1,
              "#f0f921"
             ]
            ],
            "type": "histogram2dcontour"
           }
          ],
          "mesh3d": [
           {
            "colorbar": {
             "outlinewidth": 0,
             "ticks": ""
            },
            "type": "mesh3d"
           }
          ],
          "parcoords": [
           {
            "line": {
             "colorbar": {
              "outlinewidth": 0,
              "ticks": ""
             }
            },
            "type": "parcoords"
           }
          ],
          "pie": [
           {
            "automargin": true,
            "type": "pie"
           }
          ],
          "scatter": [
           {
            "fillpattern": {
             "fillmode": "overlay",
             "size": 10,
             "solidity": 0.2
            },
            "type": "scatter"
           }
          ],
          "scatter3d": [
           {
            "line": {
             "colorbar": {
              "outlinewidth": 0,
              "ticks": ""
             }
            },
            "marker": {
             "colorbar": {
              "outlinewidth": 0,
              "ticks": ""
             }
            },
            "type": "scatter3d"
           }
          ],
          "scattercarpet": [
           {
            "marker": {
             "colorbar": {
              "outlinewidth": 0,
              "ticks": ""
             }
            },
            "type": "scattercarpet"
           }
          ],
          "scattergeo": [
           {
            "marker": {
             "colorbar": {
              "outlinewidth": 0,
              "ticks": ""
             }
            },
            "type": "scattergeo"
           }
          ],
          "scattergl": [
           {
            "marker": {
             "colorbar": {
              "outlinewidth": 0,
              "ticks": ""
             }
            },
            "type": "scattergl"
           }
          ],
          "scattermapbox": [
           {
            "marker": {
             "colorbar": {
              "outlinewidth": 0,
              "ticks": ""
             }
            },
            "type": "scattermapbox"
           }
          ],
          "scatterpolar": [
           {
            "marker": {
             "colorbar": {
              "outlinewidth": 0,
              "ticks": ""
             }
            },
            "type": "scatterpolar"
           }
          ],
          "scatterpolargl": [
           {
            "marker": {
             "colorbar": {
              "outlinewidth": 0,
              "ticks": ""
             }
            },
            "type": "scatterpolargl"
           }
          ],
          "scatterternary": [
           {
            "marker": {
             "colorbar": {
              "outlinewidth": 0,
              "ticks": ""
             }
            },
            "type": "scatterternary"
           }
          ],
          "surface": [
           {
            "colorbar": {
             "outlinewidth": 0,
             "ticks": ""
            },
            "colorscale": [
             [
              0,
              "#0d0887"
             ],
             [
              0.1111111111111111,
              "#46039f"
             ],
             [
              0.2222222222222222,
              "#7201a8"
             ],
             [
              0.3333333333333333,
              "#9c179e"
             ],
             [
              0.4444444444444444,
              "#bd3786"
             ],
             [
              0.5555555555555556,
              "#d8576b"
             ],
             [
              0.6666666666666666,
              "#ed7953"
             ],
             [
              0.7777777777777778,
              "#fb9f3a"
             ],
             [
              0.8888888888888888,
              "#fdca26"
             ],
             [
              1,
              "#f0f921"
             ]
            ],
            "type": "surface"
           }
          ],
          "table": [
           {
            "cells": {
             "fill": {
              "color": "#EBF0F8"
             },
             "line": {
              "color": "white"
             }
            },
            "header": {
             "fill": {
              "color": "#C8D4E3"
             },
             "line": {
              "color": "white"
             }
            },
            "type": "table"
           }
          ]
         },
         "layout": {
          "annotationdefaults": {
           "arrowcolor": "#2a3f5f",
           "arrowhead": 0,
           "arrowwidth": 1
          },
          "autotypenumbers": "strict",
          "coloraxis": {
           "colorbar": {
            "outlinewidth": 0,
            "ticks": ""
           }
          },
          "colorscale": {
           "diverging": [
            [
             0,
             "#8e0152"
            ],
            [
             0.1,
             "#c51b7d"
            ],
            [
             0.2,
             "#de77ae"
            ],
            [
             0.3,
             "#f1b6da"
            ],
            [
             0.4,
             "#fde0ef"
            ],
            [
             0.5,
             "#f7f7f7"
            ],
            [
             0.6,
             "#e6f5d0"
            ],
            [
             0.7,
             "#b8e186"
            ],
            [
             0.8,
             "#7fbc41"
            ],
            [
             0.9,
             "#4d9221"
            ],
            [
             1,
             "#276419"
            ]
           ],
           "sequential": [
            [
             0,
             "#0d0887"
            ],
            [
             0.1111111111111111,
             "#46039f"
            ],
            [
             0.2222222222222222,
             "#7201a8"
            ],
            [
             0.3333333333333333,
             "#9c179e"
            ],
            [
             0.4444444444444444,
             "#bd3786"
            ],
            [
             0.5555555555555556,
             "#d8576b"
            ],
            [
             0.6666666666666666,
             "#ed7953"
            ],
            [
             0.7777777777777778,
             "#fb9f3a"
            ],
            [
             0.8888888888888888,
             "#fdca26"
            ],
            [
             1,
             "#f0f921"
            ]
           ],
           "sequentialminus": [
            [
             0,
             "#0d0887"
            ],
            [
             0.1111111111111111,
             "#46039f"
            ],
            [
             0.2222222222222222,
             "#7201a8"
            ],
            [
             0.3333333333333333,
             "#9c179e"
            ],
            [
             0.4444444444444444,
             "#bd3786"
            ],
            [
             0.5555555555555556,
             "#d8576b"
            ],
            [
             0.6666666666666666,
             "#ed7953"
            ],
            [
             0.7777777777777778,
             "#fb9f3a"
            ],
            [
             0.8888888888888888,
             "#fdca26"
            ],
            [
             1,
             "#f0f921"
            ]
           ]
          },
          "colorway": [
           "#636efa",
           "#EF553B",
           "#00cc96",
           "#ab63fa",
           "#FFA15A",
           "#19d3f3",
           "#FF6692",
           "#B6E880",
           "#FF97FF",
           "#FECB52"
          ],
          "font": {
           "color": "#2a3f5f"
          },
          "geo": {
           "bgcolor": "white",
           "lakecolor": "white",
           "landcolor": "#E5ECF6",
           "showlakes": true,
           "showland": true,
           "subunitcolor": "white"
          },
          "hoverlabel": {
           "align": "left"
          },
          "hovermode": "closest",
          "mapbox": {
           "style": "light"
          },
          "paper_bgcolor": "white",
          "plot_bgcolor": "#E5ECF6",
          "polar": {
           "angularaxis": {
            "gridcolor": "white",
            "linecolor": "white",
            "ticks": ""
           },
           "bgcolor": "#E5ECF6",
           "radialaxis": {
            "gridcolor": "white",
            "linecolor": "white",
            "ticks": ""
           }
          },
          "scene": {
           "xaxis": {
            "backgroundcolor": "#E5ECF6",
            "gridcolor": "white",
            "gridwidth": 2,
            "linecolor": "white",
            "showbackground": true,
            "ticks": "",
            "zerolinecolor": "white"
           },
           "yaxis": {
            "backgroundcolor": "#E5ECF6",
            "gridcolor": "white",
            "gridwidth": 2,
            "linecolor": "white",
            "showbackground": true,
            "ticks": "",
            "zerolinecolor": "white"
           },
           "zaxis": {
            "backgroundcolor": "#E5ECF6",
            "gridcolor": "white",
            "gridwidth": 2,
            "linecolor": "white",
            "showbackground": true,
            "ticks": "",
            "zerolinecolor": "white"
           }
          },
          "shapedefaults": {
           "line": {
            "color": "#2a3f5f"
           }
          },
          "ternary": {
           "aaxis": {
            "gridcolor": "white",
            "linecolor": "white",
            "ticks": ""
           },
           "baxis": {
            "gridcolor": "white",
            "linecolor": "white",
            "ticks": ""
           },
           "bgcolor": "#E5ECF6",
           "caxis": {
            "gridcolor": "white",
            "linecolor": "white",
            "ticks": ""
           }
          },
          "title": {
           "x": 0.05
          },
          "xaxis": {
           "automargin": true,
           "gridcolor": "white",
           "linecolor": "white",
           "ticks": "",
           "title": {
            "standoff": 15
           },
           "zerolinecolor": "white",
           "zerolinewidth": 2
          },
          "yaxis": {
           "automargin": true,
           "gridcolor": "white",
           "linecolor": "white",
           "ticks": "",
           "title": {
            "standoff": 15
           },
           "zerolinecolor": "white",
           "zerolinewidth": 2
          }
         }
        },
        "xaxis": {
         "anchor": "y",
         "domain": [
          0,
          1
         ],
         "title": {
          "text": "sepal_length"
         }
        },
        "yaxis": {
         "anchor": "x",
         "domain": [
          0,
          1
         ],
         "title": {
          "text": "sepal_width"
         }
        }
       }
      }
     },
     "metadata": {},
     "output_type": "display_data"
    }
   ],
   "source": [
    "fig=px.scatter(df,x=\"sepal_length\", y=\"sepal_width\", color=\"species\", hover_data=[\"petal_width\"])\n",
    "fig.show()"
   ]
  },
  {
   "cell_type": "code",
   "execution_count": 125,
   "id": "6b50c2cf",
   "metadata": {},
   "outputs": [
    {
     "data": {
      "application/vnd.plotly.v1+json": {
       "config": {
        "plotlyServerURL": "https://plot.ly"
       },
       "data": [
        {
         "hovertemplate": "Revenue=%{x}<br>Units_Sold=%{y}<extra></extra>",
         "legendgroup": "",
         "marker": {
          "color": "#636efa",
          "symbol": "circle"
         },
         "mode": "markers",
         "name": "",
         "orientation": "v",
         "showlegend": false,
         "type": "scatter",
         "x": [
          337.98632000000003,
          80.22,
          78.19,
          690.48,
          337.98632000000003,
          97.62,
          22.41,
          401.73,
          436.05,
          572.79,
          337.98632000000003,
          766.78,
          352.54,
          710.95,
          37.32,
          692.07,
          18.55,
          667.21,
          461.02,
          609.26,
          337.98632000000003,
          538.53,
          342.34,
          313.62,
          401.52,
          706.03,
          1108.11,
          181.17,
          553.67,
          93.61,
          506.23,
          787.55,
          529.53,
          303.62,
          23.45,
          564.04,
          688.67,
          385.02,
          297.86,
          153.57,
          41.93,
          125.24,
          337.98632000000003,
          276.83,
          485.86,
          97.34,
          29.29,
          444.41,
          240.37,
          171.42,
          143.89,
          337.98632000000003,
          843.03,
          53.1,
          65.61,
          105.87,
          337.98632000000003,
          655.69,
          147.4,
          314.33,
          134,
          334.7,
          567.2,
          260.11,
          981.58,
          564.67,
          330.2,
          304.2,
          466.82,
          197.26,
          663.94,
          28.25,
          145.16,
          710.03,
          561.23,
          361.3,
          691.56,
          107.25,
          612.29,
          441.74,
          327.11,
          337.98632000000003,
          396.41,
          66.32,
          626.65,
          446.74,
          260.98,
          333.2,
          558.72,
          771.35,
          344.16,
          57.48,
          63.86,
          887.26,
          637.81,
          198.12,
          515.95,
          288.91,
          107.88,
          259.92,
          34.97,
          94.34,
          1019.19,
          219.55,
          470.48,
          727.34,
          604.18,
          199.71,
          256.75,
          778.82,
          671.96,
          68.85,
          70.39,
          472.69,
          520.61,
          1178.53,
          272.06,
          87.77,
          185.86,
          337.98632000000003,
          40.6,
          796.14,
          73.15,
          34.53,
          257.57,
          962.29,
          164.33,
          655.44,
          185.8,
          263.88,
          52.54,
          562.04,
          233.03,
          199.29,
          27.03,
          335.54,
          1008.4,
          317.46,
          1184.27,
          463.81,
          445.74,
          245.26,
          1128.25,
          344.45,
          892.33,
          764.46,
          16.4,
          123.13,
          420.24,
          618.29,
          268.4,
          751.68,
          682.9,
          221.92,
          148.7,
          441.84,
          701.97,
          321.26,
          44.3,
          47.45,
          272.64,
          153.76,
          857.38,
          805.76,
          752.45,
          224.63,
          802.43,
          196.38,
          842.51,
          856.33,
          212.59,
          337.98632000000003,
          85.45,
          354.16,
          560.55,
          371.87,
          363.47,
          232.25,
          451.21,
          115.98,
          905.29,
          51.99,
          191.01,
          337.98632000000003,
          35.53,
          293.88,
          56.75,
          1116.62,
          183.16,
          19.28,
          506.46,
          82.54,
          545.35,
          221.11,
          75.02,
          122.22,
          1006.88,
          19.7,
          606.13,
          302.74,
          177.81,
          1159.98,
          174.77,
          567.31,
          273.76,
          74.72,
          781.5,
          275.75,
          137.36,
          554.36,
          666.62,
          312.6,
          516.75,
          433.78,
          247.83,
          70.77,
          62.94,
          1019.19,
          465.37,
          241.63,
          77.08,
          695.47,
          256.17,
          164.34,
          302.23,
          266.66,
          677.66,
          138.98,
          699.36,
          739.01,
          211.72,
          40.52,
          271.87,
          518.44,
          334.26,
          48.29,
          726.44,
          186.59,
          419.83,
          160.76,
          15.66,
          426.85,
          29.61,
          431.4,
          38.37,
          565.62,
          306.44,
          60.62,
          337.98632000000003,
          77.3,
          304.89,
          444.83,
          656.12,
          167.24,
          48.87,
          337.98632000000003,
          270.44,
          737.22,
          964.9,
          48.62,
          141.47,
          1005.73,
          422.57,
          162.27,
          740.71,
          636.13,
          90.26,
          728.85,
          408.23,
          323.93,
          23.54,
          44.35,
          95.12,
          278.49,
          193.76,
          378.67,
          908.52,
          76.95,
          363.96,
          503.32,
          169.36,
          638.13,
          38.69,
          259.01,
          856.4,
          138.87,
          111.7,
          132.1,
          295.67,
          235.65,
          531.98,
          256.56,
          317.08,
          337.98632000000003,
          472.09,
          833.96,
          67.82,
          337.98632000000003,
          35.38,
          36.19,
          60.72,
          402.05,
          1043.25,
          353.94,
          615.49,
          45.58,
          463.75,
          201.18,
          197.75,
          430.1,
          29,
          469.34,
          250.49,
          504.26,
          597.87,
          24.83,
          442.67,
          715.54,
          607.61,
          472.18,
          218.19,
          593.38,
          447.64,
          235.13,
          147.97,
          452.63,
          437.61,
          484.83,
          86.6,
          437.23,
          757.31,
          289.79,
          47.36,
          94.25,
          80.13,
          60.68,
          478.83,
          767.13,
          750.04,
          371.67,
          928.53,
          428.5,
          882.12,
          935.64,
          285.5,
          337.98632000000003,
          175.23,
          754.27,
          337.98632000000003,
          394.98,
          1148.4,
          680.39,
          206.22,
          811.81,
          482.29,
          411.75,
          38.93,
          443.19,
          455.44,
          598.46,
          342.51,
          229.66,
          727.25,
          662.71,
          97.93,
          15.22,
          71.37,
          74.79,
          526.68,
          142.56,
          143.75,
          957.16,
          64.68,
          223.82,
          55.59,
          374.14,
          240,
          695.29,
          810.14,
          271,
          627.57,
          471.49,
          96,
          697.94,
          134.29,
          39.16,
          1204.9,
          950.4,
          337.98632000000003,
          461.48,
          70.24,
          93.41,
          52.79,
          47.56,
          42.19,
          66.7,
          337.98632000000003,
          249.55,
          257.87,
          272.03,
          542.92,
          1048.29,
          104.62,
          481.58,
          150.8,
          247.64,
          372.89,
          139.72,
          337.98632000000003,
          283.61,
          337.98632000000003,
          206.52,
          337.98632000000003,
          569.77,
          71.99,
          309.42,
          326.44,
          93.57,
          589.54,
          281.72,
          405.96,
          88.59,
          95.93,
          381.99,
          736.39,
          438.42,
          489.13,
          807.9,
          448.38,
          45.96,
          34.92,
          491.18,
          242.8,
          452.62,
          104.18,
          457.28,
          862.75,
          311.68,
          72.55,
          927.37,
          202.72,
          66.02,
          337.98632000000003,
          128.38,
          133.77,
          53.07,
          815.45,
          336.54,
          94.75,
          189.46,
          190.31,
          65.56,
          353.32,
          968.29,
          134.76,
          610.67,
          46.2,
          323.4,
          659.3,
          83.49,
          350.23,
          392.94,
          246.04,
          67.65,
          100.71,
          235.01,
          179.52,
          612.46,
          26.9,
          852.53,
          1228.08,
          203,
          24.13,
          337.98632000000003,
          200.99,
          531.31,
          174.5,
          364.43,
          867.12,
          187.69,
          524.31,
          47.38,
          518.45,
          53.29,
          106.12,
          561.6,
          125.9,
          586.31,
          337.98632000000003,
          337.98632000000003,
          13.07,
          685.15,
          753.22,
          312.88,
          110.76,
          662.4,
          36.13,
          836.73,
          144.08,
          137.96,
          68.37,
          64.21,
          642.3,
          81.34,
          319.38,
          365.15,
          722.72,
          674.33,
          216.8,
          337.98632000000003,
          339.31,
          190.68,
          44.48,
          440.87,
          399.98,
          22.27,
          337.98632000000003,
          337.98632000000003,
          633.66,
          467.67,
          110.19,
          259.59,
          20.46,
          133.88,
          346.61,
          375.34,
          245.54,
          455.18,
          164.76,
          43.14,
          440.83,
          83.75,
          337.98632000000003,
          422.36,
          279.77,
          877.34,
          327.76,
          744.93,
          193.61,
          174.29,
          24.24,
          124.06,
          268.79,
          228.36,
          337.98632000000003,
          567.65,
          188.78,
          337.98632000000003,
          364.08,
          481.28,
          498.97,
          1033.79,
          157.69,
          262.46,
          366.21,
          482.84,
          364.41,
          451.81,
          711.7,
          676.11,
          159.87,
          83.57,
          827.04,
          1010.27,
          337.98632000000003,
          724.95,
          61.83,
          49.22,
          133.73,
          367.84,
          374.06,
          41.02,
          165.77,
          36.11,
          125.76,
          631.2,
          64.38,
          157.62,
          20.44,
          73.75,
          324.39,
          123.41,
          349.36,
          71.6,
          708.06,
          453.87,
          14.47,
          170.49,
          290.64,
          124.43,
          251.71,
          728.3,
          437.51,
          256.15,
          402.88,
          78.99,
          1040.03,
          276.47,
          272.91,
          169.23,
          95.95,
          309.15,
          389.03,
          86.5,
          580.44,
          869.45,
          222.64,
          45.74,
          194.78,
          448.1,
          917.38,
          482.15,
          42.93,
          658.02,
          859.82,
          630.89,
          218.26,
          383.81,
          116.62,
          223.96,
          727.62,
          1111.26,
          607.3,
          1021.27,
          386.58,
          22.35,
          224.65,
          75.35,
          143,
          305.38,
          337.98632000000003,
          664.49,
          337.98632000000003,
          294.75,
          88.85,
          337.23,
          326.26,
          17.13,
          337.98632000000003,
          174.85,
          416.45,
          468.77,
          554.02,
          140.12,
          41.01,
          15.32,
          155.94,
          142.52,
          80.95,
          314.73,
          519.7,
          328.13,
          60.11,
          356.67,
          494.88,
          337.98632000000003,
          78.28,
          286.69,
          23.28,
          408.77,
          387.82,
          115.57,
          128.54,
          914.72,
          44.3,
          506.28,
          216.71,
          350.4,
          146.36,
          277.91,
          172.08,
          85.58,
          16.23,
          609.19,
          256.41,
          494.9,
          42.72,
          968.23,
          24.04,
          243.6,
          418.15,
          90.44,
          332.79,
          145.87,
          364.82,
          297.76,
          201.38,
          31.28,
          256.42,
          78.09,
          48.66,
          552.05,
          754.46,
          308.27,
          505.96,
          218.09,
          241.25,
          142.78,
          382.16,
          413.61,
          47.56,
          507.7,
          449.52,
          72.51,
          769.35,
          407.07,
          12.03,
          134.41,
          66.34,
          101.25,
          387.07,
          58.54,
          782.31,
          606.16,
          171.89,
          743.73,
          661.75,
          412.44,
          300.08,
          298.9,
          252.16,
          62.6,
          290.43,
          170.29,
          110.87,
          337.98632000000003,
          18.33,
          726.98,
          503.74,
          95.7,
          713.22,
          63.96,
          169.84,
          313.32,
          459.51,
          61.95,
          49.81,
          816.34,
          465.47,
          299.01,
          47.11,
          501.09,
          296.52,
          581.5,
          872.26,
          599.94,
          167.61,
          902.27,
          490.1,
          459.77,
          233.22,
          155.67,
          290.81,
          12.25,
          49.78,
          264.83,
          32.19,
          527.16,
          400.6,
          826.4,
          502.1,
          533.95,
          778.82,
          1131.87,
          407.88,
          194.4,
          206.97,
          120.57,
          337.98632000000003,
          22.65,
          214.32,
          514.43,
          440.29,
          337.98632000000003,
          588.36,
          504.63,
          155.34,
          122.04,
          80.52,
          440.7,
          29.33,
          144.87,
          755.44,
          196.85,
          374.7,
          590.61,
          1011.15,
          52.08,
          69.98,
          456.07,
          314.8,
          1044.98,
          337.98632000000003,
          105.92,
          31.03,
          200.08,
          203.42
         ],
         "xaxis": "x",
         "y": [
          6,
          4,
          13,
          31,
          18,
          4,
          1,
          23,
          25,
          44,
          21,
          42,
          36,
          30,
          3,
          33,
          1,
          33,
          22,
          28,
          4,
          50,
          17,
          22,
          28,
          47,
          50,
          32,
          46,
          6,
          32,
          39,
          33,
          18,
          1,
          24,
          47,
          49,
          14,
          17,
          4,
          8,
          16,
          15,
          38,
          13,
          2,
          19,
          28,
          7,
          9,
          25,
          41,
          3,
          4,
          5,
          26,
          43,
          14,
          20,
          23,
          29,
          25,
          20,
          42,
          32,
          26,
          18,
          50,
          16,
          46,
          4,
          12,
          35,
          28,
          46,
          35,
          12,
          43,
          38,
          38,
          0,
          32,
          8,
          41,
          22,
          22,
          17,
          42,
          33,
          35,
          5,
          5,
          44,
          48,
          35,
          50,
          12,
          16,
          20,
          3,
          7,
          50,
          22,
          46,
          37,
          41,
          8,
          27,
          32,
          43,
          7,
          5,
          28,
          24,
          48,
          29,
          16,
          15,
          0,
          5,
          32,
          8,
          3,
          49,
          46,
          16,
          33,
          9,
          30,
          4,
          26,
          18,
          13,
          3,
          19,
          41,
          18,
          48,
          33,
          29,
          11,
          47,
          18,
          45,
          34,
          2,
          20,
          45,
          47,
          12,
          33,
          45,
          11,
          9,
          18,
          43,
          32,
          5,
          3,
          16,
          7,
          47,
          38,
          48,
          22,
          40,
          16,
          37,
          36,
          26,
          44,
          4,
          17,
          43,
          25,
          18,
          14,
          21,
          21,
          48,
          4,
          17,
          30,
          4,
          14,
          3,
          48,
          16,
          1,
          30,
          4,
          39,
          12,
          5,
          9,
          47,
          2,
          46,
          26,
          14,
          47,
          9,
          38,
          12,
          10,
          43,
          33,
          11,
          34,
          47,
          13,
          45,
          33,
          26,
          9,
          5,
          45,
          47,
          10,
          8,
          42,
          35,
          10,
          48,
          37,
          28,
          8,
          43,
          45,
          14,
          3,
          37,
          46,
          45,
          2,
          36,
          13,
          24,
          7,
          2,
          26,
          2,
          30,
          5,
          42,
          14,
          9,
          0,
          6,
          32,
          43,
          35,
          15,
          2,
          30,
          40,
          36,
          49,
          5,
          22,
          45,
          25,
          21,
          32,
          27,
          4,
          47,
          29,
          23,
          1,
          8,
          14,
          18,
          11,
          40,
          41,
          7,
          18,
          26,
          18,
          26,
          3,
          41,
          49,
          18,
          13,
          21,
          12,
          19,
          25,
          14,
          37,
          26,
          25,
          37,
          8,
          0,
          2,
          3,
          4,
          37,
          46,
          31,
          27,
          3,
          25,
          18,
          9,
          34,
          2,
          29,
          33,
          29,
          25,
          2,
          47,
          33,
          26,
          35,
          11,
          35,
          23,
          15,
          26,
          30,
          20,
          47,
          15,
          32,
          32,
          35,
          7,
          5,
          4,
          5,
          22,
          45,
          34,
          27,
          46,
          24,
          38,
          45,
          30,
          37,
          8,
          44,
          0,
          50,
          49,
          48,
          9,
          47,
          33,
          19,
          2,
          32,
          33,
          42,
          40,
          25,
          41,
          48,
          5,
          1,
          6,
          5,
          28,
          6,
          11,
          42,
          10,
          11,
          9,
          16,
          22,
          36,
          37,
          18,
          33,
          32,
          4,
          50,
          9,
          7,
          50,
          44,
          37,
          39,
          13,
          13,
          3,
          8,
          2,
          5,
          23,
          18,
          13,
          42,
          42,
          47,
          9,
          47,
          22,
          16,
          23,
          9,
          24,
          14,
          0,
          37,
          0,
          28,
          14,
          22,
          14,
          15,
          34,
          30,
          17,
          4,
          18,
          17,
          48,
          44,
          42,
          47,
          37,
          2,
          4,
          45,
          13,
          30,
          7,
          22,
          49,
          20,
          4,
          38,
          9,
          3,
          2,
          7,
          15,
          3,
          37,
          16,
          11,
          8,
          13,
          3,
          35,
          45,
          6,
          25,
          2,
          18,
          30,
          5,
          26,
          21,
          19,
          9,
          11,
          42,
          22,
          45,
          2,
          37,
          50,
          16,
          4,
          17,
          10,
          45,
          26,
          29,
          47,
          11,
          47,
          2,
          37,
          5,
          11,
          30,
          7,
          36,
          0,
          1,
          1,
          31,
          46,
          36,
          14,
          30,
          3,
          43,
          27,
          15,
          13,
          4,
          26,
          4,
          36,
          25,
          32,
          35,
          11,
          4,
          41,
          21,
          5,
          36,
          31,
          2,
          35,
          0,
          34,
          31,
          18,
          29,
          1,
          6,
          14,
          17,
          29,
          38,
          24,
          3,
          27,
          5,
          4,
          33,
          29,
          36,
          26,
          48,
          12,
          9,
          3,
          8,
          40,
          10,
          33,
          39,
          11,
          40,
          38,
          31,
          32,
          50,
          10,
          22,
          15,
          31,
          48,
          24,
          31,
          29,
          19,
          6,
          41,
          49,
          24,
          33,
          3,
          5,
          6,
          23,
          22,
          2,
          7,
          2,
          6,
          43,
          3,
          11,
          1,
          3,
          18,
          19,
          14,
          5,
          30,
          43,
          1,
          32,
          18,
          5,
          26,
          37,
          42,
          16,
          24,
          9,
          43,
          43,
          32,
          24,
          8,
          17,
          35,
          4,
          46,
          39,
          9,
          3,
          9,
          42,
          41,
          47,
          2,
          33,
          36,
          44,
          36,
          20,
          21,
          37,
          35,
          47,
          44,
          41,
          37,
          3,
          30,
          10,
          8,
          17,
          2,
          34,
          0,
          25,
          5,
          17,
          21,
          3,
          40,
          23,
          21,
          38,
          31,
          8,
          2,
          1,
          8,
          20,
          4,
          30,
          34,
          50,
          5,
          35,
          21,
          17,
          5,
          22,
          1,
          20,
          33,
          13,
          9,
          39,
          2,
          50,
          42,
          29,
          18,
          17,
          29,
          15,
          1,
          26,
          16,
          20,
          5,
          46,
          1,
          46,
          32,
          7,
          20,
          27,
          16,
          21,
          35,
          2,
          19,
          8,
          3,
          47,
          47,
          24,
          28,
          21,
          25,
          7,
          24,
          30,
          4,
          22,
          23,
          4,
          47,
          23,
          2,
          9,
          3,
          9,
          45,
          11,
          37,
          40,
          9,
          47,
          44,
          27,
          29,
          47,
          13,
          3,
          29,
          8,
          5,
          17,
          3,
          34,
          34,
          4,
          39,
          3,
          31,
          18,
          27,
          6,
          2,
          44,
          29,
          31,
          3,
          21,
          17,
          35,
          48,
          27,
          20,
          48,
          33,
          33,
          17,
          29,
          30,
          2,
          5,
          34,
          4,
          32,
          20,
          50,
          38,
          26,
          32,
          46,
          23,
          9,
          13,
          12,
          0,
          1,
          18,
          48,
          25,
          6,
          35,
          38,
          11,
          6,
          5,
          25,
          3,
          9,
          42,
          34,
          45,
          32,
          42,
          6,
          10,
          27,
          30,
          43,
          2,
          5,
          2,
          12,
          9
         ],
         "yaxis": "y"
        },
        {
         "hovertemplate": "<b>OLS trendline</b><br>Units_Sold = 0.0449444 * Revenue + 6.89688<br>R<sup>2</sup>=0.651186<br><br>Revenue=%{x}<br>Units_Sold=%{y} <b>(trend)</b><extra></extra>",
         "legendgroup": "",
         "marker": {
          "color": "#636efa",
          "symbol": "circle"
         },
         "mode": "lines",
         "name": "",
         "showlegend": false,
         "type": "scatter",
         "x": [
          12.03,
          12.25,
          13.07,
          14.47,
          15.22,
          15.32,
          15.66,
          16.23,
          16.4,
          17.13,
          18.33,
          18.55,
          19.28,
          19.7,
          20.44,
          20.46,
          22.27,
          22.35,
          22.41,
          22.65,
          23.28,
          23.45,
          23.54,
          24.04,
          24.13,
          24.24,
          24.83,
          26.9,
          27.03,
          28.25,
          29,
          29.29,
          29.33,
          29.61,
          31.03,
          31.28,
          32.19,
          34.53,
          34.92,
          34.97,
          35.38,
          35.53,
          36.11,
          36.13,
          36.19,
          37.32,
          38.37,
          38.69,
          38.93,
          39.16,
          40.52,
          40.6,
          41.01,
          41.02,
          41.93,
          42.19,
          42.72,
          42.93,
          43.14,
          44.3,
          44.3,
          44.35,
          44.48,
          45.58,
          45.74,
          45.96,
          46.2,
          47.11,
          47.36,
          47.38,
          47.45,
          47.56,
          47.56,
          48.29,
          48.62,
          48.66,
          48.87,
          49.22,
          49.78,
          49.81,
          51.99,
          52.08,
          52.54,
          52.79,
          53.07,
          53.1,
          53.29,
          55.59,
          56.75,
          57.48,
          58.54,
          60.11,
          60.62,
          60.68,
          60.72,
          61.83,
          61.95,
          62.6,
          62.94,
          63.86,
          63.96,
          64.21,
          64.38,
          64.68,
          65.56,
          65.61,
          66.02,
          66.32,
          66.34,
          66.7,
          67.65,
          67.82,
          68.37,
          68.85,
          69.98,
          70.24,
          70.39,
          70.77,
          71.37,
          71.6,
          71.99,
          72.51,
          72.55,
          73.15,
          73.75,
          74.72,
          74.79,
          75.02,
          75.35,
          76.95,
          77.08,
          77.3,
          78.09,
          78.19,
          78.28,
          78.99,
          80.13,
          80.22,
          80.52,
          80.95,
          81.34,
          82.54,
          83.49,
          83.57,
          83.75,
          85.45,
          85.58,
          86.5,
          86.6,
          87.77,
          88.59,
          88.85,
          90.26,
          90.44,
          93.41,
          93.57,
          93.61,
          94.25,
          94.34,
          94.75,
          95.12,
          95.7,
          95.93,
          95.95,
          96,
          97.34,
          97.62,
          97.93,
          100.71,
          101.25,
          104.18,
          104.62,
          105.87,
          105.92,
          106.12,
          107.25,
          107.88,
          110.19,
          110.76,
          110.87,
          111.7,
          115.57,
          115.98,
          116.62,
          120.57,
          122.04,
          122.22,
          123.13,
          123.41,
          124.06,
          124.43,
          125.24,
          125.76,
          125.9,
          128.38,
          128.54,
          132.1,
          133.73,
          133.77,
          133.88,
          134,
          134.29,
          134.41,
          134.76,
          137.36,
          137.96,
          138.87,
          138.98,
          139.72,
          140.12,
          141.47,
          142.52,
          142.56,
          142.78,
          143,
          143.75,
          143.89,
          144.08,
          144.87,
          145.16,
          145.87,
          146.36,
          147.4,
          147.97,
          148.7,
          150.8,
          153.57,
          153.76,
          155.34,
          155.67,
          155.94,
          157.62,
          157.69,
          159.87,
          160.76,
          162.27,
          164.33,
          164.34,
          164.76,
          165.77,
          167.24,
          167.61,
          169.23,
          169.36,
          169.84,
          170.29,
          170.49,
          171.42,
          171.89,
          172.08,
          174.29,
          174.5,
          174.77,
          174.85,
          175.23,
          177.81,
          179.52,
          181.17,
          183.16,
          185.8,
          185.86,
          186.59,
          187.69,
          188.78,
          189.46,
          190.31,
          190.68,
          191.01,
          193.61,
          193.76,
          194.4,
          194.78,
          196.38,
          196.85,
          197.26,
          197.75,
          198.12,
          199.29,
          199.71,
          200.08,
          200.99,
          201.18,
          201.38,
          202.72,
          203,
          203.42,
          206.22,
          206.52,
          206.97,
          211.72,
          212.59,
          214.32,
          216.71,
          216.8,
          218.09,
          218.19,
          218.26,
          219.55,
          221.11,
          221.92,
          222.64,
          223.82,
          223.96,
          224.63,
          224.65,
          228.36,
          229.66,
          232.25,
          233.03,
          233.22,
          235.01,
          235.13,
          235.65,
          240,
          240.37,
          241.25,
          241.63,
          242.8,
          243.6,
          245.26,
          245.54,
          246.04,
          247.64,
          247.83,
          249.55,
          250.49,
          251.71,
          252.16,
          256.15,
          256.17,
          256.41,
          256.42,
          256.56,
          256.75,
          257.57,
          257.87,
          259.01,
          259.59,
          259.92,
          260.11,
          260.98,
          262.46,
          263.88,
          264.83,
          266.66,
          268.4,
          268.79,
          270.44,
          271,
          271.87,
          272.03,
          272.06,
          272.64,
          272.91,
          273.76,
          275.75,
          276.47,
          276.83,
          277.91,
          278.49,
          279.77,
          281.72,
          283.61,
          285.5,
          286.69,
          288.91,
          289.79,
          290.43,
          290.64,
          290.81,
          293.88,
          294.75,
          295.67,
          296.52,
          297.76,
          297.86,
          298.9,
          299.01,
          300.08,
          302.23,
          302.74,
          303.62,
          304.2,
          304.89,
          305.38,
          306.44,
          308.27,
          309.15,
          309.42,
          311.68,
          312.6,
          312.88,
          313.32,
          313.62,
          314.33,
          314.73,
          314.8,
          317.08,
          317.46,
          319.38,
          321.26,
          323.4,
          323.93,
          324.39,
          326.26,
          326.44,
          327.11,
          327.76,
          328.13,
          330.2,
          332.79,
          333.2,
          334.26,
          334.7,
          335.54,
          336.54,
          337.23,
          337.98632000000003,
          337.98632000000003,
          337.98632000000003,
          337.98632000000003,
          337.98632000000003,
          337.98632000000003,
          337.98632000000003,
          337.98632000000003,
          337.98632000000003,
          337.98632000000003,
          337.98632000000003,
          337.98632000000003,
          337.98632000000003,
          337.98632000000003,
          337.98632000000003,
          337.98632000000003,
          337.98632000000003,
          337.98632000000003,
          337.98632000000003,
          337.98632000000003,
          337.98632000000003,
          337.98632000000003,
          337.98632000000003,
          337.98632000000003,
          337.98632000000003,
          337.98632000000003,
          337.98632000000003,
          337.98632000000003,
          337.98632000000003,
          337.98632000000003,
          337.98632000000003,
          337.98632000000003,
          337.98632000000003,
          337.98632000000003,
          337.98632000000003,
          337.98632000000003,
          337.98632000000003,
          337.98632000000003,
          337.98632000000003,
          337.98632000000003,
          337.98632000000003,
          339.31,
          342.34,
          342.51,
          344.16,
          344.45,
          346.61,
          349.36,
          350.23,
          350.4,
          352.54,
          353.32,
          353.94,
          354.16,
          356.67,
          361.3,
          363.47,
          363.96,
          364.08,
          364.41,
          364.43,
          364.82,
          365.15,
          366.21,
          367.84,
          371.67,
          371.87,
          372.89,
          374.06,
          374.14,
          374.7,
          375.34,
          378.67,
          381.99,
          382.16,
          383.81,
          385.02,
          386.58,
          387.07,
          387.82,
          389.03,
          392.94,
          394.98,
          396.41,
          399.98,
          400.6,
          401.52,
          401.73,
          402.05,
          402.88,
          405.96,
          407.07,
          407.88,
          408.23,
          408.77,
          411.75,
          412.44,
          413.61,
          416.45,
          418.15,
          419.83,
          420.24,
          422.36,
          422.57,
          426.85,
          428.5,
          430.1,
          431.4,
          433.78,
          436.05,
          437.23,
          437.51,
          437.61,
          438.42,
          440.29,
          440.7,
          440.83,
          440.87,
          441.74,
          441.84,
          442.67,
          443.19,
          444.41,
          444.83,
          445.74,
          446.74,
          447.64,
          448.1,
          448.38,
          449.52,
          451.21,
          451.81,
          452.62,
          452.63,
          453.87,
          455.18,
          455.44,
          456.07,
          457.28,
          459.51,
          459.77,
          461.02,
          461.48,
          463.75,
          463.81,
          465.37,
          465.47,
          466.82,
          467.67,
          468.77,
          469.34,
          470.48,
          471.49,
          472.09,
          472.18,
          472.69,
          478.83,
          481.28,
          481.58,
          482.15,
          482.29,
          482.84,
          484.83,
          485.86,
          489.13,
          490.1,
          491.18,
          494.88,
          494.9,
          498.97,
          501.09,
          502.1,
          503.32,
          503.74,
          504.26,
          504.63,
          505.96,
          506.23,
          506.28,
          506.46,
          507.7,
          514.43,
          515.95,
          516.75,
          518.44,
          518.45,
          519.7,
          520.61,
          524.31,
          526.68,
          527.16,
          529.53,
          531.31,
          531.98,
          533.95,
          538.53,
          542.92,
          545.35,
          552.05,
          553.67,
          554.02,
          554.36,
          558.72,
          560.55,
          561.23,
          561.6,
          562.04,
          564.04,
          564.67,
          565.62,
          567.2,
          567.31,
          567.65,
          569.77,
          572.79,
          580.44,
          581.5,
          586.31,
          588.36,
          589.54,
          590.61,
          593.38,
          597.87,
          598.46,
          599.94,
          604.18,
          606.13,
          606.16,
          607.3,
          607.61,
          609.19,
          609.26,
          610.67,
          612.29,
          612.46,
          615.49,
          618.29,
          626.65,
          627.57,
          630.89,
          631.2,
          633.66,
          636.13,
          637.81,
          638.13,
          642.3,
          655.44,
          655.69,
          656.12,
          658.02,
          659.3,
          661.75,
          662.4,
          662.71,
          663.94,
          664.49,
          666.62,
          667.21,
          671.96,
          674.33,
          676.11,
          677.66,
          680.39,
          682.9,
          685.15,
          688.67,
          690.48,
          691.56,
          692.07,
          695.29,
          695.47,
          697.94,
          699.36,
          701.97,
          706.03,
          708.06,
          710.03,
          710.95,
          711.7,
          713.22,
          715.54,
          722.72,
          724.95,
          726.44,
          726.98,
          727.25,
          727.34,
          727.62,
          728.3,
          728.85,
          736.39,
          737.22,
          739.01,
          740.71,
          743.73,
          744.93,
          750.04,
          751.68,
          752.45,
          753.22,
          754.27,
          754.46,
          755.44,
          757.31,
          764.46,
          766.78,
          767.13,
          769.35,
          771.35,
          778.82,
          778.82,
          781.5,
          782.31,
          787.55,
          796.14,
          802.43,
          805.76,
          807.9,
          810.14,
          811.81,
          815.45,
          816.34,
          826.4,
          827.04,
          833.96,
          836.73,
          842.51,
          843.03,
          852.53,
          856.33,
          856.4,
          857.38,
          859.82,
          862.75,
          867.12,
          869.45,
          872.26,
          877.34,
          882.12,
          887.26,
          892.33,
          902.27,
          905.29,
          908.52,
          914.72,
          917.38,
          927.37,
          928.53,
          935.64,
          950.4,
          957.16,
          962.29,
          964.9,
          968.23,
          968.29,
          981.58,
          1005.73,
          1006.88,
          1008.4,
          1010.27,
          1011.15,
          1019.19,
          1019.19,
          1021.27,
          1033.79,
          1040.03,
          1043.25,
          1044.98,
          1048.29,
          1108.11,
          1111.26,
          1116.62,
          1128.25,
          1131.87,
          1148.4,
          1159.98,
          1178.53,
          1184.27,
          1204.9,
          1228.08
         ],
         "xaxis": "x",
         "y": [
          7.437562350428756,
          7.44745011136703,
          7.484304493046051,
          7.547226608107794,
          7.580934884033728,
          7.585429320823852,
          7.6007104059102755,
          7.626328695613985,
          7.633969238157197,
          7.6667786267251055,
          7.7207118682066,
          7.730599629144873,
          7.763409017712782,
          7.782285652231305,
          7.8155444844782265,
          7.816443371836251,
          7.897792677737504,
          7.901388227169604,
          7.904084889243679,
          7.914871537539977,
          7.943186489317762,
          7.950827031860973,
          7.954872024972085,
          7.977344208922708,
          7.98138920203382,
          7.986333082502957,
          8.012850259564692,
          8.105885101120268,
          8.11172786894743,
          8.16655999778695,
          8.200268273712883,
          8.213302140404243,
          8.215099915120293,
          8.227684338132642,
          8.29150534055241,
          8.302741432527721,
          8.343640807317854,
          8.448810628206767,
          8.466338931688252,
          8.468586150083315,
          8.487013340922825,
          8.493754996108011,
          8.519822729490734,
          8.520721616848759,
          8.523418278922833,
          8.57420541465124,
          8.621397000947548,
          8.635779198675946,
          8.646565846972244,
          8.65690305158953,
          8.718027391935223,
          8.721622941367324,
          8.740050132206834,
          8.740499575885845,
          8.781398950675978,
          8.793084486330303,
          8.816905001317963,
          8.826343318577225,
          8.835781635836485,
          8.887917102601929,
          8.887917102601929,
          8.890164320996991,
          8.896007088824152,
          8.945445893515522,
          8.952636992379723,
          8.962524753317997,
          8.973311401614295,
          9.014210776404427,
          9.025446868379738,
          9.026345755737765,
          9.02949186149085,
          9.034435741959989,
          9.034435741959989,
          9.067245130527898,
          9.082076771935307,
          9.083874546651357,
          9.093312863910619,
          9.109043392676055,
          9.134212238700751,
          9.13556056973779,
          9.233539291762503,
          9.237584284873614,
          9.258258694108187,
          9.269494786083499,
          9.282079209095848,
          9.283427540132884,
          9.291966970034121,
          9.395339016206984,
          9.447474482972428,
          9.480283871540337,
          9.527924901515657,
          9.598487559120612,
          9.621409186750245,
          9.624105848824321,
          9.62590362354037,
          9.675791871910754,
          9.681185196058902,
          9.710399035194712,
          9.725680120281135,
          9.767028938750279,
          9.771523375540404,
          9.782759467515715,
          9.790400010058928,
          9.8038833204293,
          9.843434364182396,
          9.845681582577459,
          9.86410877341697,
          9.877592083787341,
          9.878490971145368,
          9.894670943589816,
          9.937368093095998,
          9.945008635639208,
          9.969728037984895,
          9.991301334577491,
          10.042088470305899,
          10.053774005960221,
          10.06051566114541,
          10.077594520947882,
          10.10456114168863,
          10.114898346305916,
          10.132426649787401,
          10.155797721096048,
          10.157595495812098,
          10.184562116552845,
          10.211528737293591,
          10.2551247741578,
          10.258270879910887,
          10.268608084528173,
          10.283439725935583,
          10.355350714577575,
          10.361193482404737,
          10.371081243343012,
          10.406587293984995,
          10.41108173077512,
          10.415126723886232,
          10.447037225096114,
          10.498273804503533,
          10.502318797614647,
          10.51580210798502,
          10.535128186182556,
          10.552656489664042,
          10.606589731145535,
          10.649286880651717,
          10.652882430083817,
          10.660972416306041,
          10.737377841738157,
          10.74322060956532,
          10.784569428034464,
          10.789063864824588,
          10.841648775269045,
          10.878503156948067,
          10.89018869260239,
          10.953560251343145,
          10.961650237565369,
          11.095135010232067,
          11.102326109096266,
          11.104123883812315,
          11.132888279269112,
          11.136933272380226,
          11.155360463219735,
          11.171989879343196,
          11.198057612725918,
          11.208394817343205,
          11.209293704701228,
          11.21154092309629,
          11.27176637608396,
          11.284350799096309,
          11.298283553145694,
          11.423228895911155,
          11.447498854577827,
          11.579185852528475,
          11.598961374405022,
          11.65514183428158,
          11.65738905267664,
          11.666377926256889,
          11.717165061985297,
          11.74548001376308,
          11.849301503614956,
          11.874919793318666,
          11.879863673787803,
          11.917167499145837,
          12.091102202923654,
          12.109529393763165,
          12.138293789219961,
          12.315824042429877,
          12.381892263244708,
          12.389982249466932,
          12.430881624257065,
          12.443466047269414,
          12.472679886405224,
          12.489309302528685,
          12.525714240528693,
          12.54908531183734,
          12.555377523343514,
          12.666839555738601,
          12.674030654602799,
          12.834032604331231,
          12.907291924010261,
          12.909089698726312,
          12.914033579195447,
          12.919426903343599,
          12.932460770034957,
          12.937854094183107,
          12.953584622948544,
          13.07043997949178,
          13.097406600232528,
          13.13830597502266,
          13.143249855491796,
          13.176508687738718,
          13.194486434899217,
          13.255161331565898,
          13.302352917862205,
          13.304150692578254,
          13.314038453516527,
          13.3239262144548,
          13.357634490380736,
          13.363926701886909,
          13.372466131788148,
          13.407972182430129,
          13.421006049121491,
          13.452916550331373,
          13.474939290602986,
          13.52168143322028,
          13.547299722923988,
          13.580109111491897,
          13.674492284084511,
          13.798988183170959,
          13.807527613072196,
          13.878539714356164,
          13.893371355763573,
          13.90550633509691,
          13.981012873171002,
          13.98415897892409,
          14.082137700948802,
          14.12213818838091,
          14.190004183911793,
          14.282589581788356,
          14.283039025467367,
          14.301915659985891,
          14.347309471566149,
          14.413377692380978,
          14.430007108504439,
          14.502816984504456,
          14.508659752331617,
          14.530233048924215,
          14.550458014479775,
          14.559446888060023,
          14.601245150208182,
          14.622369003121765,
          14.630908433023004,
          14.730235486084755,
          14.739673803344015,
          14.751808782677353,
          14.755404332109451,
          14.772483191911924,
          14.888439661097138,
          14.965294530208267,
          15.03945273724532,
          15.128892029368796,
          15.247545160628084,
          15.250241822702158,
          15.283051211270067,
          15.332490015961437,
          15.381479376973793,
          15.41204154714664,
          15.450244259862698,
          15.46687367598616,
          15.481705317393569,
          15.598560673936806,
          15.605302329121992,
          15.63406672457879,
          15.651145584381263,
          15.723056573023253,
          15.74418042593684,
          15.76260761677635,
          15.78463035704796,
          15.80125977317142,
          15.853844683615877,
          15.872721318134401,
          15.889350734257862,
          15.930250109047995,
          15.93878953894923,
          15.947778412529479,
          16.008003865517146,
          16.020588288529495,
          16.039464923048016,
          16.165309153171506,
          16.17879246354188,
          16.199017429097438,
          16.412503176628352,
          16.451604776702435,
          16.52935853317159,
          16.636775572455562,
          16.640820565566678,
          16.69879880015928,
          16.703293236949406,
          16.70643934270249,
          16.7644175772951,
          16.83453079122104,
          16.87093572922105,
          16.903295674109945,
          16.956330028233417,
          16.962622239739588,
          16.99273496623342,
          16.993633853591447,
          17.160377458505067,
          17.218805136776684,
          17.33521104964091,
          17.37026765660388,
          17.378807086505116,
          17.459257505048345,
          17.464650829196493,
          17.488021900505142,
          17.683529900875556,
          17.70015931699902,
          17.739710360752113,
          17.756789220554587,
          17.809374130999043,
          17.84532962532004,
          17.919937276036105,
          17.932521699048454,
          17.954993882999077,
          18.026904871641065,
          18.035444301542306,
          18.112748614332446,
          18.15499632015962,
          18.209828448999133,
          18.230053414554696,
          18.40938144248066,
          18.410280329838688,
          18.421066978134988,
          18.421516421813998,
          18.427808633320172,
          18.43634806322141,
          18.47320244490043,
          18.486685755270805,
          18.53792233467822,
          18.563990068060946,
          18.578821709468357,
          18.58736113936959,
          18.626462739443674,
          18.69298040393752,
          18.756801406357283,
          18.799498555863465,
          18.881746749122748,
          18.95994994927091,
          18.977478252752398,
          19.05163645978945,
          19.076805305814148,
          19.11590690588823,
          19.12309800475243,
          19.124446335789468,
          19.15051406917219,
          19.16264904850553,
          19.200851761221585,
          19.290291053345065,
          19.32265099823396,
          19.33883097067841,
          19.387370888011752,
          19.413438621394477,
          19.470967412308067,
          19.558608929715497,
          19.643553785048848,
          19.7284986403822,
          19.781982438184684,
          19.881758934925447,
          19.921309978678543,
          19.95007437413534,
          19.9595126913946,
          19.96715323393781,
          20.10513244339463,
          20.144234043468714,
          20.18558286193786,
          20.223785574653917,
          20.279516590851465,
          20.28401102764159,
          20.33075317025888,
          20.33569705072802,
          20.38378752438235,
          20.480417915370026,
          20.50333954299966,
          20.54289058675276,
          20.56895832013548,
          20.59996993398734,
          20.621992674258948,
          20.66963370423427,
          20.751881897493547,
          20.79143294124664,
          20.80356792057998,
          20.90514219203679,
          20.946491010505937,
          20.959075433518287,
          20.978850955394833,
          20.99233426576521,
          21.02424476697509,
          21.042222514135588,
          21.045368619888677,
          21.147841778703516,
          21.164920638505986,
          21.251213824876377,
          21.335709236530718,
          21.431890183839382,
          21.45571069882704,
          21.476385108061613,
          21.56043107603694,
          21.568521062259165,
          21.598633788753002,
          21.627847627888812,
          21.64447704401227,
          21.737511885567848,
          21.85391779843207,
          21.872344989271582,
          21.9199860192469,
          21.93976154112345,
          21.977514810160496,
          22.02245917806174,
          22.0534707919136,
          22.08746311624467,
          22.08746311624467,
          22.08746311624467,
          22.08746311624467,
          22.08746311624467,
          22.08746311624467,
          22.08746311624467,
          22.08746311624467,
          22.08746311624467,
          22.08746311624467,
          22.08746311624467,
          22.08746311624467,
          22.08746311624467,
          22.08746311624467,
          22.08746311624467,
          22.08746311624467,
          22.08746311624467,
          22.08746311624467,
          22.08746311624467,
          22.08746311624467,
          22.08746311624467,
          22.08746311624467,
          22.08746311624467,
          22.08746311624467,
          22.08746311624467,
          22.08746311624467,
          22.08746311624467,
          22.08746311624467,
          22.08746311624467,
          22.08746311624467,
          22.08746311624467,
          22.08746311624467,
          22.08746311624467,
          22.08746311624467,
          22.08746311624467,
          22.08746311624467,
          22.08746311624467,
          22.08746311624467,
          22.08746311624467,
          22.08746311624467,
          22.08746311624467,
          22.14695507714819,
          22.283136511888962,
          22.29077705443217,
          22.364935261469228,
          22.377969128160586,
          22.475048962827277,
          22.5986459745557,
          22.637747574629785,
          22.645388117172992,
          22.74156906448166,
          22.776625671444627,
          22.8044911795434,
          22.814378940481674,
          22.9271893039138,
          23.135281727296565,
          23.232811005642265,
          23.254833745913874,
          23.260227070062026,
          23.275058711469438,
          23.27595759882746,
          23.293485902308944,
          23.308317543716356,
          23.355958573691677,
          23.429217893370705,
          23.601354822432473,
          23.610343696012723,
          23.65618695127199,
          23.70877186171645,
          23.71236741114855,
          23.737536257173247,
          23.76630065263004,
          23.91596539774119,
          24.06518069917332,
          24.072821241716532,
          24.146979448753587,
          24.201362133914092,
          24.271475347840035,
          24.293498088111644,
          24.32720636403758,
          24.381589049198084,
          24.557321527691954,
          24.649008038210493,
          24.713278484309274,
          24.873729877716716,
          24.90159538581549,
          24.942944204284633,
          24.952382521543896,
          24.966764719272295,
          25.00406854463033,
          25.14249719776616,
          25.192385446136544,
          25.228790384136552,
          25.244520912901987,
          25.268790871568658,
          25.40272508791437,
          25.43373670176623,
          25.486321612210684,
          25.61396361705022,
          25.690369042482335,
          25.76587558055643,
          25.78430277139594,
          25.879584831346577,
          25.88902314860584,
          26.081385043223168,
          26.155543250260223,
          26.227454238902215,
          26.285881917173832,
          26.392849512778792,
          26.49487322791462,
          26.54790758203809,
          26.56049200505044,
          26.564986441840563,
          26.60139137984057,
          26.6854373478159,
          26.70386453865541,
          26.70970730648257,
          26.71150508119862,
          26.750606681272703,
          26.75510111806283,
          26.792404943420863,
          26.815776014729508,
          26.87060814356903,
          26.88948477808755,
          26.930384152877686,
          26.97532852077893,
          27.01577845189005,
          27.036452861124623,
          27.04903728413697,
          27.100273863544388,
          27.17622984529749,
          27.20319646603824,
          27.23960140403825,
          27.24005084771726,
          27.295781863914804,
          27.354658985865434,
          27.36634452151976,
          27.394659473297544,
          27.44904215845805,
          27.549268098877825,
          27.560953634532147,
          27.617134094408705,
          27.637808503643278,
          27.739832218779103,
          27.74252888085318,
          27.81264209477912,
          27.817136531569247,
          27.877811428235926,
          27.916014140951987,
          27.965452945643353,
          27.99107123534706,
          28.042307814754484,
          28.08770162633474,
          28.114668247075485,
          28.1187132401866,
          28.141634867816233,
          28.417593286729876,
          28.527706988087928,
          28.5411902984583,
          28.566808588162008,
          28.573100799668186,
          28.597820202013867,
          28.687259494137347,
          28.73355219307563,
          28.8805202761127,
          28.92411631297691,
          28.972656230310253,
          29.138950391544856,
          29.139849278902883,
          29.32277285626095,
          29.418054916211588,
          29.463448727791846,
          29.518280856631364,
          29.537157491149888,
          29.560528562458536,
          29.577157978581997,
          29.63693398789065,
          29.64906896722399,
          29.65131618561905,
          29.659406171841272,
          29.715137188038817,
          30.017612784014194,
          30.08592822322409,
          30.121883717545085,
          30.19783969929819,
          30.198289142977202,
          30.25446960285376,
          30.29536897764389,
          30.461663138878492,
          30.568181290804443,
          30.589754587397042,
          30.696272739322993,
          30.77627371418721,
          30.806386440681045,
          30.8949268454465,
          31.1007720504342,
          31.29807782552066,
          31.40729263952069,
          31.708419904459028,
          31.781229780459043,
          31.79696030922448,
          31.812241394310906,
          32.008198838360336,
          32.090447031619604,
          32.12100920179246,
          32.13763861791592,
          32.157414139792465,
          32.247302875594954,
          32.27561782737274,
          32.31831497687892,
          32.38932707816289,
          32.39427095863202,
          32.40955204371845,
          32.50483410366909,
          32.64056609473084,
          32.98439050917537,
          33.032031539150694,
          33.24821394875568,
          33.340349902953236,
          33.393384257076704,
          33.44147473073103,
          33.565970629817485,
          33.76777084169407,
          33.79428801875581,
          33.86080568324965,
          34.05136980315092,
          34.13901132055835,
          34.14035965159539,
          34.191596231002805,
          34.2055289850522,
          34.27654108633617,
          34.27968719208925,
          34.343058750830004,
          34.41586862683002,
          34.42350916937323,
          34.55969060411401,
          34.68553483423749,
          35.0612697498919,
          35.10261856836105,
          35.251833869793174,
          35.265766623842566,
          35.37632976887963,
          35.4873423575957,
          35.56284889566979,
          35.57723109339819,
          35.764649107546376,
          36.35521810176874,
          36.366454193744055,
          36.385780271941584,
          36.47117457095395,
          36.52870336186754,
          36.638817063225595,
          36.66803090236141,
          36.681963656410794,
          36.737245228929325,
          36.761964631275006,
          36.85769613490466,
          36.88421331196639,
          37.09769905949731,
          37.204217211423256,
          37.284218186287475,
          37.3538819565344,
          37.476580080904796,
          37.58939044433693,
          37.69051527211472,
          37.84871944712711,
          37.930068753028365,
          37.97860867036171,
          38.001530297991344,
          38.14625116263335,
          38.15434114885558,
          38.26535373757165,
          38.329174739991416,
          38.446479540213666,
          38.628953673892724,
          38.72019074073225,
          38.8087311454977,
          38.85007996396685,
          38.88378823989278,
          38.95210367910268,
          39.05637461263356,
          39.3790751741645,
          39.479301114584274,
          39.546268222757135,
          39.5705381814238,
          39.58267316075714,
          39.58671815386825,
          39.5993025768806,
          39.629864747053446,
          39.65458414939913,
          39.99346468337451,
          40.03076850873255,
          40.11121892727577,
          40.1876243527079,
          40.32335634376966,
          40.37728958525115,
          40.606955305226506,
          40.68066406858455,
          40.71527123186851,
          40.749878395152464,
          40.79706998144877,
          40.805609411350005,
          40.84965489189324,
          40.93370085986855,
          41.255053090362466,
          41.35932402389335,
          41.37505455265878,
          41.474831049399555,
          41.564719785202044,
          41.90045421342434,
          41.90045421342434,
          42.02090511939967,
          42.057310057399675,
          42.29281854520221,
          42.6788906654739,
          42.96159073957273,
          43.11125548468388,
          43.207436431992534,
          43.308111816091326,
          43.383168910486404,
          43.546766409646935,
          43.586766897079045,
          44.038907238165564,
          44.06767163362237,
          44.37868665949898,
          44.503182558585436,
          44.76296100505462,
          44.786332076363266,
          45.2133035714251,
          45.38409216944983,
          45.38723827520292,
          45.431283755746136,
          45.54094801342518,
          45.67263501137582,
          45.86904189910426,
          45.97376227631416,
          46.100055950116655,
          46.32837333905499,
          46.54320741762294,
          46.77422146863533,
          47.00208941389465,
          47.44883643083301,
          47.58456842189477,
          47.7297387302158,
          48.00839381120352,
          48.12794582982083,
          48.57694006515426,
          48.62907553191971,
          48.94862998769756,
          49.61200885791993,
          49.91583278493235,
          50.14639739226574,
          50.26370219248798,
          50.413366937599136,
          50.41606359967321,
          51.013374249080755,
          52.09878073389582,
          52.150466756982254,
          52.21878219619214,
          52.302828164167465,
          52.34237920792056,
          52.70373192584658,
          52.70373192584658,
          52.797216211081164,
          53.359919697204745,
          53.64037255290852,
          53.78509341755053,
          53.86284717401968,
          54.0116130317728,
          56.70018511962526,
          56.841759878514196,
          57.08266169046486,
          57.605364689156346,
          57.76806330095884,
          58.510993702366434,
          59.03144948266285,
          59.865167507230936,
          60.12314817898408,
          61.050350488786776,
          62.09216093673761
         ],
         "yaxis": "y"
        }
       ],
       "layout": {
        "legend": {
         "tracegroupgap": 0
        },
        "margin": {
         "t": 60
        },
        "template": {
         "data": {
          "bar": [
           {
            "error_x": {
             "color": "#2a3f5f"
            },
            "error_y": {
             "color": "#2a3f5f"
            },
            "marker": {
             "line": {
              "color": "#E5ECF6",
              "width": 0.5
             },
             "pattern": {
              "fillmode": "overlay",
              "size": 10,
              "solidity": 0.2
             }
            },
            "type": "bar"
           }
          ],
          "barpolar": [
           {
            "marker": {
             "line": {
              "color": "#E5ECF6",
              "width": 0.5
             },
             "pattern": {
              "fillmode": "overlay",
              "size": 10,
              "solidity": 0.2
             }
            },
            "type": "barpolar"
           }
          ],
          "carpet": [
           {
            "aaxis": {
             "endlinecolor": "#2a3f5f",
             "gridcolor": "white",
             "linecolor": "white",
             "minorgridcolor": "white",
             "startlinecolor": "#2a3f5f"
            },
            "baxis": {
             "endlinecolor": "#2a3f5f",
             "gridcolor": "white",
             "linecolor": "white",
             "minorgridcolor": "white",
             "startlinecolor": "#2a3f5f"
            },
            "type": "carpet"
           }
          ],
          "choropleth": [
           {
            "colorbar": {
             "outlinewidth": 0,
             "ticks": ""
            },
            "type": "choropleth"
           }
          ],
          "contour": [
           {
            "colorbar": {
             "outlinewidth": 0,
             "ticks": ""
            },
            "colorscale": [
             [
              0,
              "#0d0887"
             ],
             [
              0.1111111111111111,
              "#46039f"
             ],
             [
              0.2222222222222222,
              "#7201a8"
             ],
             [
              0.3333333333333333,
              "#9c179e"
             ],
             [
              0.4444444444444444,
              "#bd3786"
             ],
             [
              0.5555555555555556,
              "#d8576b"
             ],
             [
              0.6666666666666666,
              "#ed7953"
             ],
             [
              0.7777777777777778,
              "#fb9f3a"
             ],
             [
              0.8888888888888888,
              "#fdca26"
             ],
             [
              1,
              "#f0f921"
             ]
            ],
            "type": "contour"
           }
          ],
          "contourcarpet": [
           {
            "colorbar": {
             "outlinewidth": 0,
             "ticks": ""
            },
            "type": "contourcarpet"
           }
          ],
          "heatmap": [
           {
            "colorbar": {
             "outlinewidth": 0,
             "ticks": ""
            },
            "colorscale": [
             [
              0,
              "#0d0887"
             ],
             [
              0.1111111111111111,
              "#46039f"
             ],
             [
              0.2222222222222222,
              "#7201a8"
             ],
             [
              0.3333333333333333,
              "#9c179e"
             ],
             [
              0.4444444444444444,
              "#bd3786"
             ],
             [
              0.5555555555555556,
              "#d8576b"
             ],
             [
              0.6666666666666666,
              "#ed7953"
             ],
             [
              0.7777777777777778,
              "#fb9f3a"
             ],
             [
              0.8888888888888888,
              "#fdca26"
             ],
             [
              1,
              "#f0f921"
             ]
            ],
            "type": "heatmap"
           }
          ],
          "heatmapgl": [
           {
            "colorbar": {
             "outlinewidth": 0,
             "ticks": ""
            },
            "colorscale": [
             [
              0,
              "#0d0887"
             ],
             [
              0.1111111111111111,
              "#46039f"
             ],
             [
              0.2222222222222222,
              "#7201a8"
             ],
             [
              0.3333333333333333,
              "#9c179e"
             ],
             [
              0.4444444444444444,
              "#bd3786"
             ],
             [
              0.5555555555555556,
              "#d8576b"
             ],
             [
              0.6666666666666666,
              "#ed7953"
             ],
             [
              0.7777777777777778,
              "#fb9f3a"
             ],
             [
              0.8888888888888888,
              "#fdca26"
             ],
             [
              1,
              "#f0f921"
             ]
            ],
            "type": "heatmapgl"
           }
          ],
          "histogram": [
           {
            "marker": {
             "pattern": {
              "fillmode": "overlay",
              "size": 10,
              "solidity": 0.2
             }
            },
            "type": "histogram"
           }
          ],
          "histogram2d": [
           {
            "colorbar": {
             "outlinewidth": 0,
             "ticks": ""
            },
            "colorscale": [
             [
              0,
              "#0d0887"
             ],
             [
              0.1111111111111111,
              "#46039f"
             ],
             [
              0.2222222222222222,
              "#7201a8"
             ],
             [
              0.3333333333333333,
              "#9c179e"
             ],
             [
              0.4444444444444444,
              "#bd3786"
             ],
             [
              0.5555555555555556,
              "#d8576b"
             ],
             [
              0.6666666666666666,
              "#ed7953"
             ],
             [
              0.7777777777777778,
              "#fb9f3a"
             ],
             [
              0.8888888888888888,
              "#fdca26"
             ],
             [
              1,
              "#f0f921"
             ]
            ],
            "type": "histogram2d"
           }
          ],
          "histogram2dcontour": [
           {
            "colorbar": {
             "outlinewidth": 0,
             "ticks": ""
            },
            "colorscale": [
             [
              0,
              "#0d0887"
             ],
             [
              0.1111111111111111,
              "#46039f"
             ],
             [
              0.2222222222222222,
              "#7201a8"
             ],
             [
              0.3333333333333333,
              "#9c179e"
             ],
             [
              0.4444444444444444,
              "#bd3786"
             ],
             [
              0.5555555555555556,
              "#d8576b"
             ],
             [
              0.6666666666666666,
              "#ed7953"
             ],
             [
              0.7777777777777778,
              "#fb9f3a"
             ],
             [
              0.8888888888888888,
              "#fdca26"
             ],
             [
              1,
              "#f0f921"
             ]
            ],
            "type": "histogram2dcontour"
           }
          ],
          "mesh3d": [
           {
            "colorbar": {
             "outlinewidth": 0,
             "ticks": ""
            },
            "type": "mesh3d"
           }
          ],
          "parcoords": [
           {
            "line": {
             "colorbar": {
              "outlinewidth": 0,
              "ticks": ""
             }
            },
            "type": "parcoords"
           }
          ],
          "pie": [
           {
            "automargin": true,
            "type": "pie"
           }
          ],
          "scatter": [
           {
            "fillpattern": {
             "fillmode": "overlay",
             "size": 10,
             "solidity": 0.2
            },
            "type": "scatter"
           }
          ],
          "scatter3d": [
           {
            "line": {
             "colorbar": {
              "outlinewidth": 0,
              "ticks": ""
             }
            },
            "marker": {
             "colorbar": {
              "outlinewidth": 0,
              "ticks": ""
             }
            },
            "type": "scatter3d"
           }
          ],
          "scattercarpet": [
           {
            "marker": {
             "colorbar": {
              "outlinewidth": 0,
              "ticks": ""
             }
            },
            "type": "scattercarpet"
           }
          ],
          "scattergeo": [
           {
            "marker": {
             "colorbar": {
              "outlinewidth": 0,
              "ticks": ""
             }
            },
            "type": "scattergeo"
           }
          ],
          "scattergl": [
           {
            "marker": {
             "colorbar": {
              "outlinewidth": 0,
              "ticks": ""
             }
            },
            "type": "scattergl"
           }
          ],
          "scattermapbox": [
           {
            "marker": {
             "colorbar": {
              "outlinewidth": 0,
              "ticks": ""
             }
            },
            "type": "scattermapbox"
           }
          ],
          "scatterpolar": [
           {
            "marker": {
             "colorbar": {
              "outlinewidth": 0,
              "ticks": ""
             }
            },
            "type": "scatterpolar"
           }
          ],
          "scatterpolargl": [
           {
            "marker": {
             "colorbar": {
              "outlinewidth": 0,
              "ticks": ""
             }
            },
            "type": "scatterpolargl"
           }
          ],
          "scatterternary": [
           {
            "marker": {
             "colorbar": {
              "outlinewidth": 0,
              "ticks": ""
             }
            },
            "type": "scatterternary"
           }
          ],
          "surface": [
           {
            "colorbar": {
             "outlinewidth": 0,
             "ticks": ""
            },
            "colorscale": [
             [
              0,
              "#0d0887"
             ],
             [
              0.1111111111111111,
              "#46039f"
             ],
             [
              0.2222222222222222,
              "#7201a8"
             ],
             [
              0.3333333333333333,
              "#9c179e"
             ],
             [
              0.4444444444444444,
              "#bd3786"
             ],
             [
              0.5555555555555556,
              "#d8576b"
             ],
             [
              0.6666666666666666,
              "#ed7953"
             ],
             [
              0.7777777777777778,
              "#fb9f3a"
             ],
             [
              0.8888888888888888,
              "#fdca26"
             ],
             [
              1,
              "#f0f921"
             ]
            ],
            "type": "surface"
           }
          ],
          "table": [
           {
            "cells": {
             "fill": {
              "color": "#EBF0F8"
             },
             "line": {
              "color": "white"
             }
            },
            "header": {
             "fill": {
              "color": "#C8D4E3"
             },
             "line": {
              "color": "white"
             }
            },
            "type": "table"
           }
          ]
         },
         "layout": {
          "annotationdefaults": {
           "arrowcolor": "#2a3f5f",
           "arrowhead": 0,
           "arrowwidth": 1
          },
          "autotypenumbers": "strict",
          "coloraxis": {
           "colorbar": {
            "outlinewidth": 0,
            "ticks": ""
           }
          },
          "colorscale": {
           "diverging": [
            [
             0,
             "#8e0152"
            ],
            [
             0.1,
             "#c51b7d"
            ],
            [
             0.2,
             "#de77ae"
            ],
            [
             0.3,
             "#f1b6da"
            ],
            [
             0.4,
             "#fde0ef"
            ],
            [
             0.5,
             "#f7f7f7"
            ],
            [
             0.6,
             "#e6f5d0"
            ],
            [
             0.7,
             "#b8e186"
            ],
            [
             0.8,
             "#7fbc41"
            ],
            [
             0.9,
             "#4d9221"
            ],
            [
             1,
             "#276419"
            ]
           ],
           "sequential": [
            [
             0,
             "#0d0887"
            ],
            [
             0.1111111111111111,
             "#46039f"
            ],
            [
             0.2222222222222222,
             "#7201a8"
            ],
            [
             0.3333333333333333,
             "#9c179e"
            ],
            [
             0.4444444444444444,
             "#bd3786"
            ],
            [
             0.5555555555555556,
             "#d8576b"
            ],
            [
             0.6666666666666666,
             "#ed7953"
            ],
            [
             0.7777777777777778,
             "#fb9f3a"
            ],
            [
             0.8888888888888888,
             "#fdca26"
            ],
            [
             1,
             "#f0f921"
            ]
           ],
           "sequentialminus": [
            [
             0,
             "#0d0887"
            ],
            [
             0.1111111111111111,
             "#46039f"
            ],
            [
             0.2222222222222222,
             "#7201a8"
            ],
            [
             0.3333333333333333,
             "#9c179e"
            ],
            [
             0.4444444444444444,
             "#bd3786"
            ],
            [
             0.5555555555555556,
             "#d8576b"
            ],
            [
             0.6666666666666666,
             "#ed7953"
            ],
            [
             0.7777777777777778,
             "#fb9f3a"
            ],
            [
             0.8888888888888888,
             "#fdca26"
            ],
            [
             1,
             "#f0f921"
            ]
           ]
          },
          "colorway": [
           "#636efa",
           "#EF553B",
           "#00cc96",
           "#ab63fa",
           "#FFA15A",
           "#19d3f3",
           "#FF6692",
           "#B6E880",
           "#FF97FF",
           "#FECB52"
          ],
          "font": {
           "color": "#2a3f5f"
          },
          "geo": {
           "bgcolor": "white",
           "lakecolor": "white",
           "landcolor": "#E5ECF6",
           "showlakes": true,
           "showland": true,
           "subunitcolor": "white"
          },
          "hoverlabel": {
           "align": "left"
          },
          "hovermode": "closest",
          "mapbox": {
           "style": "light"
          },
          "paper_bgcolor": "white",
          "plot_bgcolor": "#E5ECF6",
          "polar": {
           "angularaxis": {
            "gridcolor": "white",
            "linecolor": "white",
            "ticks": ""
           },
           "bgcolor": "#E5ECF6",
           "radialaxis": {
            "gridcolor": "white",
            "linecolor": "white",
            "ticks": ""
           }
          },
          "scene": {
           "xaxis": {
            "backgroundcolor": "#E5ECF6",
            "gridcolor": "white",
            "gridwidth": 2,
            "linecolor": "white",
            "showbackground": true,
            "ticks": "",
            "zerolinecolor": "white"
           },
           "yaxis": {
            "backgroundcolor": "#E5ECF6",
            "gridcolor": "white",
            "gridwidth": 2,
            "linecolor": "white",
            "showbackground": true,
            "ticks": "",
            "zerolinecolor": "white"
           },
           "zaxis": {
            "backgroundcolor": "#E5ECF6",
            "gridcolor": "white",
            "gridwidth": 2,
            "linecolor": "white",
            "showbackground": true,
            "ticks": "",
            "zerolinecolor": "white"
           }
          },
          "shapedefaults": {
           "line": {
            "color": "#2a3f5f"
           }
          },
          "ternary": {
           "aaxis": {
            "gridcolor": "white",
            "linecolor": "white",
            "ticks": ""
           },
           "baxis": {
            "gridcolor": "white",
            "linecolor": "white",
            "ticks": ""
           },
           "bgcolor": "#E5ECF6",
           "caxis": {
            "gridcolor": "white",
            "linecolor": "white",
            "ticks": ""
           }
          },
          "title": {
           "x": 0.05
          },
          "xaxis": {
           "automargin": true,
           "gridcolor": "white",
           "linecolor": "white",
           "ticks": "",
           "title": {
            "standoff": 15
           },
           "zerolinecolor": "white",
           "zerolinewidth": 2
          },
          "yaxis": {
           "automargin": true,
           "gridcolor": "white",
           "linecolor": "white",
           "ticks": "",
           "title": {
            "standoff": 15
           },
           "zerolinecolor": "white",
           "zerolinewidth": 2
          }
         }
        },
        "xaxis": {
         "anchor": "y",
         "domain": [
          0,
          1
         ],
         "title": {
          "text": "Revenue"
         }
        },
        "yaxis": {
         "anchor": "x",
         "domain": [
          0,
          1
         ],
         "title": {
          "text": "Units_Sold"
         }
        }
       }
      }
     },
     "metadata": {},
     "output_type": "display_data"
    }
   ],
   "source": [
    "df=pd.read_csv('cleaned_sales_data.csv')\n",
    "fig=px.scatter(df,x=\"Revenue\", y=\"Units_Sold\",trendline=\"ols\")\n",
    "fig.show()"
   ]
  },
  {
   "cell_type": "code",
   "execution_count": 126,
   "id": "200eb144",
   "metadata": {},
   "outputs": [
    {
     "data": {
      "application/vnd.plotly.v1+json": {
       "config": {
        "plotlyServerURL": "https://plot.ly"
       },
       "data": [
        {
         "hovertemplate": "Time (s)=%{x}<br>Cosine Value=%{y}<extra></extra>",
         "legendgroup": "",
         "line": {
          "color": "#636efa",
          "dash": "solid"
         },
         "marker": {
          "symbol": "circle"
         },
         "mode": "lines",
         "name": "",
         "orientation": "v",
         "showlegend": false,
         "type": "scatter",
         "x": [
          0,
          0.06346651825433926,
          0.12693303650867852,
          0.1903995547630178,
          0.25386607301735703,
          0.3173325912716963,
          0.3807991095260356,
          0.4442656277803748,
          0.5077321460347141,
          0.5711986642890533,
          0.6346651825433925,
          0.6981317007977318,
          0.7615982190520711,
          0.8250647373064104,
          0.8885312555607496,
          0.9519977738150889,
          1.0154642920694281,
          1.0789308103237674,
          1.1423973285781066,
          1.2058638468324459,
          1.269330365086785,
          1.3327968833411243,
          1.3962634015954636,
          1.4597299198498028,
          1.5231964381041423,
          1.5866629563584815,
          1.6501294746128208,
          1.71359599286716,
          1.7770625111214993,
          1.8405290293758385,
          1.9039955476301778,
          1.967462065884517,
          2.0309285841388562,
          2.0943951023931957,
          2.1578616206475347,
          2.221328138901874,
          2.284794657156213,
          2.3482611754105527,
          2.4117276936648917,
          2.475194211919231,
          2.53866073017357,
          2.6021272484279097,
          2.6655937666822487,
          2.729060284936588,
          2.792526803190927,
          2.8559933214452666,
          2.9194598396996057,
          2.982926357953945,
          3.0463928762082846,
          3.1098593944626236,
          3.173325912716963,
          3.236792430971302,
          3.3002589492256416,
          3.3637254674799806,
          3.42719198573432,
          3.490658503988659,
          3.5541250222429985,
          3.6175915404973376,
          3.681058058751677,
          3.744524577006016,
          3.8079910952603555,
          3.8714576135146945,
          3.934924131769034,
          3.998390650023373,
          4.0618571682777125,
          4.1253236865320515,
          4.188790204786391,
          4.25225672304073,
          4.3157232412950695,
          4.3791897595494085,
          4.442656277803748,
          4.506122796058087,
          4.569589314312426,
          4.6330558325667655,
          4.696522350821105,
          4.759988869075444,
          4.823455387329783,
          4.886921905584122,
          4.950388423838462,
          5.013854942092801,
          5.07732146034714,
          5.14078797860148,
          5.204254496855819,
          5.267721015110158,
          5.331187533364497,
          5.394654051618837,
          5.458120569873176,
          5.521587088127515,
          5.585053606381854,
          5.648520124636194,
          5.711986642890533,
          5.775453161144872,
          5.838919679399211,
          5.902386197653551,
          5.96585271590789,
          6.029319234162229,
          6.092785752416569,
          6.156252270670908,
          6.219718788925247,
          6.283185307179586
         ],
         "xaxis": "x",
         "y": [
          1,
          0.9979866764718844,
          0.9919548128307953,
          0.9819286972627067,
          0.9679487013963562,
          0.9500711177409454,
          0.9283679330160726,
          0.9029265382866212,
          0.8738493770697849,
          0.8412535328311812,
          0.8052702575310586,
          0.766044443118978,
          0.7237340381050702,
          0.6785094115571322,
          0.6305526670845225,
          0.5800569095711982,
          0.5272254676105024,
          0.4722710747726827,
          0.41541501300188644,
          0.3568862215918719,
          0.2969203753282749,
          0.23575893550942728,
          0.17364817766693041,
          0.1108381999010111,
          0.04758191582374218,
          -0.01586596383480803,
          -0.07924995685678854,
          -0.14231483827328523,
          -0.20480666806519074,
          -0.26647381369003503,
          -0.32706796331742166,
          -0.3863451256931287,
          -0.4440666126057741,
          -0.5000000000000002,
          -0.5539200638661103,
          -0.6056096871376668,
          -0.654860733945285,
          -0.7014748877063214,
          -0.7452644496757547,
          -0.7860530947427875,
          -0.8236765814298327,
          -0.8579834132349771,
          -0.8888354486549234,
          -0.9161084574320696,
          -0.9396926207859083,
          -0.9594929736144974,
          -0.975429786885407,
          -0.9874388886763943,
          -0.9954719225730846,
          -0.9994965423831851,
          -0.9994965423831851,
          -0.9954719225730846,
          -0.9874388886763943,
          -0.975429786885407,
          -0.9594929736144974,
          -0.9396926207859084,
          -0.9161084574320696,
          -0.8888354486549235,
          -0.857983413234977,
          -0.8236765814298328,
          -0.7860530947427874,
          -0.7452644496757548,
          -0.7014748877063213,
          -0.6548607339452852,
          -0.6056096871376666,
          -0.5539200638661105,
          -0.4999999999999996,
          -0.44406661260577396,
          -0.3863451256931287,
          -0.3270679633174219,
          -0.26647381369003464,
          -0.20480666806519054,
          -0.14231483827328523,
          -0.07924995685678879,
          -0.01586596383480761,
          0.04758191582374238,
          0.11083819990101086,
          0.17364817766692997,
          0.23575893550942748,
          0.2969203753282749,
          0.35688622159187167,
          0.4154150130018868,
          0.4722710747726829,
          0.5272254676105024,
          0.5800569095711979,
          0.6305526670845228,
          0.6785094115571323,
          0.7237340381050701,
          0.7660444431189778,
          0.8052702575310587,
          0.8412535328311812,
          0.8738493770697848,
          0.9029265382866211,
          0.9283679330160727,
          0.9500711177409454,
          0.9679487013963562,
          0.9819286972627068,
          0.9919548128307953,
          0.9979866764718844,
          1
         ],
         "yaxis": "y"
        }
       ],
       "layout": {
        "legend": {
         "tracegroupgap": 0
        },
        "margin": {
         "t": 60
        },
        "template": {
         "data": {
          "bar": [
           {
            "error_x": {
             "color": "#2a3f5f"
            },
            "error_y": {
             "color": "#2a3f5f"
            },
            "marker": {
             "line": {
              "color": "#E5ECF6",
              "width": 0.5
             },
             "pattern": {
              "fillmode": "overlay",
              "size": 10,
              "solidity": 0.2
             }
            },
            "type": "bar"
           }
          ],
          "barpolar": [
           {
            "marker": {
             "line": {
              "color": "#E5ECF6",
              "width": 0.5
             },
             "pattern": {
              "fillmode": "overlay",
              "size": 10,
              "solidity": 0.2
             }
            },
            "type": "barpolar"
           }
          ],
          "carpet": [
           {
            "aaxis": {
             "endlinecolor": "#2a3f5f",
             "gridcolor": "white",
             "linecolor": "white",
             "minorgridcolor": "white",
             "startlinecolor": "#2a3f5f"
            },
            "baxis": {
             "endlinecolor": "#2a3f5f",
             "gridcolor": "white",
             "linecolor": "white",
             "minorgridcolor": "white",
             "startlinecolor": "#2a3f5f"
            },
            "type": "carpet"
           }
          ],
          "choropleth": [
           {
            "colorbar": {
             "outlinewidth": 0,
             "ticks": ""
            },
            "type": "choropleth"
           }
          ],
          "contour": [
           {
            "colorbar": {
             "outlinewidth": 0,
             "ticks": ""
            },
            "colorscale": [
             [
              0,
              "#0d0887"
             ],
             [
              0.1111111111111111,
              "#46039f"
             ],
             [
              0.2222222222222222,
              "#7201a8"
             ],
             [
              0.3333333333333333,
              "#9c179e"
             ],
             [
              0.4444444444444444,
              "#bd3786"
             ],
             [
              0.5555555555555556,
              "#d8576b"
             ],
             [
              0.6666666666666666,
              "#ed7953"
             ],
             [
              0.7777777777777778,
              "#fb9f3a"
             ],
             [
              0.8888888888888888,
              "#fdca26"
             ],
             [
              1,
              "#f0f921"
             ]
            ],
            "type": "contour"
           }
          ],
          "contourcarpet": [
           {
            "colorbar": {
             "outlinewidth": 0,
             "ticks": ""
            },
            "type": "contourcarpet"
           }
          ],
          "heatmap": [
           {
            "colorbar": {
             "outlinewidth": 0,
             "ticks": ""
            },
            "colorscale": [
             [
              0,
              "#0d0887"
             ],
             [
              0.1111111111111111,
              "#46039f"
             ],
             [
              0.2222222222222222,
              "#7201a8"
             ],
             [
              0.3333333333333333,
              "#9c179e"
             ],
             [
              0.4444444444444444,
              "#bd3786"
             ],
             [
              0.5555555555555556,
              "#d8576b"
             ],
             [
              0.6666666666666666,
              "#ed7953"
             ],
             [
              0.7777777777777778,
              "#fb9f3a"
             ],
             [
              0.8888888888888888,
              "#fdca26"
             ],
             [
              1,
              "#f0f921"
             ]
            ],
            "type": "heatmap"
           }
          ],
          "heatmapgl": [
           {
            "colorbar": {
             "outlinewidth": 0,
             "ticks": ""
            },
            "colorscale": [
             [
              0,
              "#0d0887"
             ],
             [
              0.1111111111111111,
              "#46039f"
             ],
             [
              0.2222222222222222,
              "#7201a8"
             ],
             [
              0.3333333333333333,
              "#9c179e"
             ],
             [
              0.4444444444444444,
              "#bd3786"
             ],
             [
              0.5555555555555556,
              "#d8576b"
             ],
             [
              0.6666666666666666,
              "#ed7953"
             ],
             [
              0.7777777777777778,
              "#fb9f3a"
             ],
             [
              0.8888888888888888,
              "#fdca26"
             ],
             [
              1,
              "#f0f921"
             ]
            ],
            "type": "heatmapgl"
           }
          ],
          "histogram": [
           {
            "marker": {
             "pattern": {
              "fillmode": "overlay",
              "size": 10,
              "solidity": 0.2
             }
            },
            "type": "histogram"
           }
          ],
          "histogram2d": [
           {
            "colorbar": {
             "outlinewidth": 0,
             "ticks": ""
            },
            "colorscale": [
             [
              0,
              "#0d0887"
             ],
             [
              0.1111111111111111,
              "#46039f"
             ],
             [
              0.2222222222222222,
              "#7201a8"
             ],
             [
              0.3333333333333333,
              "#9c179e"
             ],
             [
              0.4444444444444444,
              "#bd3786"
             ],
             [
              0.5555555555555556,
              "#d8576b"
             ],
             [
              0.6666666666666666,
              "#ed7953"
             ],
             [
              0.7777777777777778,
              "#fb9f3a"
             ],
             [
              0.8888888888888888,
              "#fdca26"
             ],
             [
              1,
              "#f0f921"
             ]
            ],
            "type": "histogram2d"
           }
          ],
          "histogram2dcontour": [
           {
            "colorbar": {
             "outlinewidth": 0,
             "ticks": ""
            },
            "colorscale": [
             [
              0,
              "#0d0887"
             ],
             [
              0.1111111111111111,
              "#46039f"
             ],
             [
              0.2222222222222222,
              "#7201a8"
             ],
             [
              0.3333333333333333,
              "#9c179e"
             ],
             [
              0.4444444444444444,
              "#bd3786"
             ],
             [
              0.5555555555555556,
              "#d8576b"
             ],
             [
              0.6666666666666666,
              "#ed7953"
             ],
             [
              0.7777777777777778,
              "#fb9f3a"
             ],
             [
              0.8888888888888888,
              "#fdca26"
             ],
             [
              1,
              "#f0f921"
             ]
            ],
            "type": "histogram2dcontour"
           }
          ],
          "mesh3d": [
           {
            "colorbar": {
             "outlinewidth": 0,
             "ticks": ""
            },
            "type": "mesh3d"
           }
          ],
          "parcoords": [
           {
            "line": {
             "colorbar": {
              "outlinewidth": 0,
              "ticks": ""
             }
            },
            "type": "parcoords"
           }
          ],
          "pie": [
           {
            "automargin": true,
            "type": "pie"
           }
          ],
          "scatter": [
           {
            "fillpattern": {
             "fillmode": "overlay",
             "size": 10,
             "solidity": 0.2
            },
            "type": "scatter"
           }
          ],
          "scatter3d": [
           {
            "line": {
             "colorbar": {
              "outlinewidth": 0,
              "ticks": ""
             }
            },
            "marker": {
             "colorbar": {
              "outlinewidth": 0,
              "ticks": ""
             }
            },
            "type": "scatter3d"
           }
          ],
          "scattercarpet": [
           {
            "marker": {
             "colorbar": {
              "outlinewidth": 0,
              "ticks": ""
             }
            },
            "type": "scattercarpet"
           }
          ],
          "scattergeo": [
           {
            "marker": {
             "colorbar": {
              "outlinewidth": 0,
              "ticks": ""
             }
            },
            "type": "scattergeo"
           }
          ],
          "scattergl": [
           {
            "marker": {
             "colorbar": {
              "outlinewidth": 0,
              "ticks": ""
             }
            },
            "type": "scattergl"
           }
          ],
          "scattermapbox": [
           {
            "marker": {
             "colorbar": {
              "outlinewidth": 0,
              "ticks": ""
             }
            },
            "type": "scattermapbox"
           }
          ],
          "scatterpolar": [
           {
            "marker": {
             "colorbar": {
              "outlinewidth": 0,
              "ticks": ""
             }
            },
            "type": "scatterpolar"
           }
          ],
          "scatterpolargl": [
           {
            "marker": {
             "colorbar": {
              "outlinewidth": 0,
              "ticks": ""
             }
            },
            "type": "scatterpolargl"
           }
          ],
          "scatterternary": [
           {
            "marker": {
             "colorbar": {
              "outlinewidth": 0,
              "ticks": ""
             }
            },
            "type": "scatterternary"
           }
          ],
          "surface": [
           {
            "colorbar": {
             "outlinewidth": 0,
             "ticks": ""
            },
            "colorscale": [
             [
              0,
              "#0d0887"
             ],
             [
              0.1111111111111111,
              "#46039f"
             ],
             [
              0.2222222222222222,
              "#7201a8"
             ],
             [
              0.3333333333333333,
              "#9c179e"
             ],
             [
              0.4444444444444444,
              "#bd3786"
             ],
             [
              0.5555555555555556,
              "#d8576b"
             ],
             [
              0.6666666666666666,
              "#ed7953"
             ],
             [
              0.7777777777777778,
              "#fb9f3a"
             ],
             [
              0.8888888888888888,
              "#fdca26"
             ],
             [
              1,
              "#f0f921"
             ]
            ],
            "type": "surface"
           }
          ],
          "table": [
           {
            "cells": {
             "fill": {
              "color": "#EBF0F8"
             },
             "line": {
              "color": "white"
             }
            },
            "header": {
             "fill": {
              "color": "#C8D4E3"
             },
             "line": {
              "color": "white"
             }
            },
            "type": "table"
           }
          ]
         },
         "layout": {
          "annotationdefaults": {
           "arrowcolor": "#2a3f5f",
           "arrowhead": 0,
           "arrowwidth": 1
          },
          "autotypenumbers": "strict",
          "coloraxis": {
           "colorbar": {
            "outlinewidth": 0,
            "ticks": ""
           }
          },
          "colorscale": {
           "diverging": [
            [
             0,
             "#8e0152"
            ],
            [
             0.1,
             "#c51b7d"
            ],
            [
             0.2,
             "#de77ae"
            ],
            [
             0.3,
             "#f1b6da"
            ],
            [
             0.4,
             "#fde0ef"
            ],
            [
             0.5,
             "#f7f7f7"
            ],
            [
             0.6,
             "#e6f5d0"
            ],
            [
             0.7,
             "#b8e186"
            ],
            [
             0.8,
             "#7fbc41"
            ],
            [
             0.9,
             "#4d9221"
            ],
            [
             1,
             "#276419"
            ]
           ],
           "sequential": [
            [
             0,
             "#0d0887"
            ],
            [
             0.1111111111111111,
             "#46039f"
            ],
            [
             0.2222222222222222,
             "#7201a8"
            ],
            [
             0.3333333333333333,
             "#9c179e"
            ],
            [
             0.4444444444444444,
             "#bd3786"
            ],
            [
             0.5555555555555556,
             "#d8576b"
            ],
            [
             0.6666666666666666,
             "#ed7953"
            ],
            [
             0.7777777777777778,
             "#fb9f3a"
            ],
            [
             0.8888888888888888,
             "#fdca26"
            ],
            [
             1,
             "#f0f921"
            ]
           ],
           "sequentialminus": [
            [
             0,
             "#0d0887"
            ],
            [
             0.1111111111111111,
             "#46039f"
            ],
            [
             0.2222222222222222,
             "#7201a8"
            ],
            [
             0.3333333333333333,
             "#9c179e"
            ],
            [
             0.4444444444444444,
             "#bd3786"
            ],
            [
             0.5555555555555556,
             "#d8576b"
            ],
            [
             0.6666666666666666,
             "#ed7953"
            ],
            [
             0.7777777777777778,
             "#fb9f3a"
            ],
            [
             0.8888888888888888,
             "#fdca26"
            ],
            [
             1,
             "#f0f921"
            ]
           ]
          },
          "colorway": [
           "#636efa",
           "#EF553B",
           "#00cc96",
           "#ab63fa",
           "#FFA15A",
           "#19d3f3",
           "#FF6692",
           "#B6E880",
           "#FF97FF",
           "#FECB52"
          ],
          "font": {
           "color": "#2a3f5f"
          },
          "geo": {
           "bgcolor": "white",
           "lakecolor": "white",
           "landcolor": "#E5ECF6",
           "showlakes": true,
           "showland": true,
           "subunitcolor": "white"
          },
          "hoverlabel": {
           "align": "left"
          },
          "hovermode": "closest",
          "mapbox": {
           "style": "light"
          },
          "paper_bgcolor": "white",
          "plot_bgcolor": "#E5ECF6",
          "polar": {
           "angularaxis": {
            "gridcolor": "white",
            "linecolor": "white",
            "ticks": ""
           },
           "bgcolor": "#E5ECF6",
           "radialaxis": {
            "gridcolor": "white",
            "linecolor": "white",
            "ticks": ""
           }
          },
          "scene": {
           "xaxis": {
            "backgroundcolor": "#E5ECF6",
            "gridcolor": "white",
            "gridwidth": 2,
            "linecolor": "white",
            "showbackground": true,
            "ticks": "",
            "zerolinecolor": "white"
           },
           "yaxis": {
            "backgroundcolor": "#E5ECF6",
            "gridcolor": "white",
            "gridwidth": 2,
            "linecolor": "white",
            "showbackground": true,
            "ticks": "",
            "zerolinecolor": "white"
           },
           "zaxis": {
            "backgroundcolor": "#E5ECF6",
            "gridcolor": "white",
            "gridwidth": 2,
            "linecolor": "white",
            "showbackground": true,
            "ticks": "",
            "zerolinecolor": "white"
           }
          },
          "shapedefaults": {
           "line": {
            "color": "#2a3f5f"
           }
          },
          "ternary": {
           "aaxis": {
            "gridcolor": "white",
            "linecolor": "white",
            "ticks": ""
           },
           "baxis": {
            "gridcolor": "white",
            "linecolor": "white",
            "ticks": ""
           },
           "bgcolor": "#E5ECF6",
           "caxis": {
            "gridcolor": "white",
            "linecolor": "white",
            "ticks": ""
           }
          },
          "title": {
           "x": 0.05
          },
          "xaxis": {
           "automargin": true,
           "gridcolor": "white",
           "linecolor": "white",
           "ticks": "",
           "title": {
            "standoff": 15
           },
           "zerolinecolor": "white",
           "zerolinewidth": 2
          },
          "yaxis": {
           "automargin": true,
           "gridcolor": "white",
           "linecolor": "white",
           "ticks": "",
           "title": {
            "standoff": 15
           },
           "zerolinecolor": "white",
           "zerolinewidth": 2
          }
         }
        },
        "xaxis": {
         "anchor": "y",
         "domain": [
          0,
          1
         ],
         "title": {
          "text": "Time (s)"
         }
        },
        "yaxis": {
         "anchor": "x",
         "domain": [
          0,
          1
         ],
         "title": {
          "text": "Cosine Value"
         }
        }
       }
      }
     },
     "metadata": {},
     "output_type": "display_data"
    }
   ],
   "source": [
    "import numpy as np\n",
    "t=np.linspace(0,2*np.pi,100)\n",
    "fig=px.line(x=t,y=np.cos(t),labels={\"x\":\"Time (s)\",\"y\":\"Cosine Value\"})\n",
    "fig.show()\n"
   ]
  },
  {
   "cell_type": "code",
   "execution_count": 158,
   "id": "b74296e5",
   "metadata": {},
   "outputs": [
    {
     "data": {
      "application/vnd.plotly.v1+json": {
       "config": {
        "plotlyServerURL": "https://plot.ly"
       },
       "data": [
        {
         "hovertemplate": "Month=%{x}<br>Revenue=%{y}<extra></extra>",
         "legendgroup": "",
         "line": {
          "color": "#636efa",
          "dash": "solid"
         },
         "marker": {
          "symbol": "circle"
         },
         "mode": "lines+markers",
         "name": "",
         "orientation": "v",
         "showlegend": false,
         "type": "scatter",
         "x": [
          "April",
          "August",
          "December",
          "February",
          "January",
          "July",
          "June",
          "March",
          "May",
          "November",
          "October",
          "September"
         ],
         "xaxis": "x",
         "y": [
          21144.18528,
          29252.5816,
          24014.59896,
          17061.10896,
          24138.05264,
          25870.9016,
          26180.50896,
          20126.20896,
          25735.00424,
          24844.622639999998,
          21675.75632,
          25958.60896
         ],
         "yaxis": "y"
        }
       ],
       "layout": {
        "legend": {
         "tracegroupgap": 0
        },
        "margin": {
         "t": 60
        },
        "template": {
         "data": {
          "bar": [
           {
            "error_x": {
             "color": "#2a3f5f"
            },
            "error_y": {
             "color": "#2a3f5f"
            },
            "marker": {
             "line": {
              "color": "#E5ECF6",
              "width": 0.5
             },
             "pattern": {
              "fillmode": "overlay",
              "size": 10,
              "solidity": 0.2
             }
            },
            "type": "bar"
           }
          ],
          "barpolar": [
           {
            "marker": {
             "line": {
              "color": "#E5ECF6",
              "width": 0.5
             },
             "pattern": {
              "fillmode": "overlay",
              "size": 10,
              "solidity": 0.2
             }
            },
            "type": "barpolar"
           }
          ],
          "carpet": [
           {
            "aaxis": {
             "endlinecolor": "#2a3f5f",
             "gridcolor": "white",
             "linecolor": "white",
             "minorgridcolor": "white",
             "startlinecolor": "#2a3f5f"
            },
            "baxis": {
             "endlinecolor": "#2a3f5f",
             "gridcolor": "white",
             "linecolor": "white",
             "minorgridcolor": "white",
             "startlinecolor": "#2a3f5f"
            },
            "type": "carpet"
           }
          ],
          "choropleth": [
           {
            "colorbar": {
             "outlinewidth": 0,
             "ticks": ""
            },
            "type": "choropleth"
           }
          ],
          "contour": [
           {
            "colorbar": {
             "outlinewidth": 0,
             "ticks": ""
            },
            "colorscale": [
             [
              0,
              "#0d0887"
             ],
             [
              0.1111111111111111,
              "#46039f"
             ],
             [
              0.2222222222222222,
              "#7201a8"
             ],
             [
              0.3333333333333333,
              "#9c179e"
             ],
             [
              0.4444444444444444,
              "#bd3786"
             ],
             [
              0.5555555555555556,
              "#d8576b"
             ],
             [
              0.6666666666666666,
              "#ed7953"
             ],
             [
              0.7777777777777778,
              "#fb9f3a"
             ],
             [
              0.8888888888888888,
              "#fdca26"
             ],
             [
              1,
              "#f0f921"
             ]
            ],
            "type": "contour"
           }
          ],
          "contourcarpet": [
           {
            "colorbar": {
             "outlinewidth": 0,
             "ticks": ""
            },
            "type": "contourcarpet"
           }
          ],
          "heatmap": [
           {
            "colorbar": {
             "outlinewidth": 0,
             "ticks": ""
            },
            "colorscale": [
             [
              0,
              "#0d0887"
             ],
             [
              0.1111111111111111,
              "#46039f"
             ],
             [
              0.2222222222222222,
              "#7201a8"
             ],
             [
              0.3333333333333333,
              "#9c179e"
             ],
             [
              0.4444444444444444,
              "#bd3786"
             ],
             [
              0.5555555555555556,
              "#d8576b"
             ],
             [
              0.6666666666666666,
              "#ed7953"
             ],
             [
              0.7777777777777778,
              "#fb9f3a"
             ],
             [
              0.8888888888888888,
              "#fdca26"
             ],
             [
              1,
              "#f0f921"
             ]
            ],
            "type": "heatmap"
           }
          ],
          "heatmapgl": [
           {
            "colorbar": {
             "outlinewidth": 0,
             "ticks": ""
            },
            "colorscale": [
             [
              0,
              "#0d0887"
             ],
             [
              0.1111111111111111,
              "#46039f"
             ],
             [
              0.2222222222222222,
              "#7201a8"
             ],
             [
              0.3333333333333333,
              "#9c179e"
             ],
             [
              0.4444444444444444,
              "#bd3786"
             ],
             [
              0.5555555555555556,
              "#d8576b"
             ],
             [
              0.6666666666666666,
              "#ed7953"
             ],
             [
              0.7777777777777778,
              "#fb9f3a"
             ],
             [
              0.8888888888888888,
              "#fdca26"
             ],
             [
              1,
              "#f0f921"
             ]
            ],
            "type": "heatmapgl"
           }
          ],
          "histogram": [
           {
            "marker": {
             "pattern": {
              "fillmode": "overlay",
              "size": 10,
              "solidity": 0.2
             }
            },
            "type": "histogram"
           }
          ],
          "histogram2d": [
           {
            "colorbar": {
             "outlinewidth": 0,
             "ticks": ""
            },
            "colorscale": [
             [
              0,
              "#0d0887"
             ],
             [
              0.1111111111111111,
              "#46039f"
             ],
             [
              0.2222222222222222,
              "#7201a8"
             ],
             [
              0.3333333333333333,
              "#9c179e"
             ],
             [
              0.4444444444444444,
              "#bd3786"
             ],
             [
              0.5555555555555556,
              "#d8576b"
             ],
             [
              0.6666666666666666,
              "#ed7953"
             ],
             [
              0.7777777777777778,
              "#fb9f3a"
             ],
             [
              0.8888888888888888,
              "#fdca26"
             ],
             [
              1,
              "#f0f921"
             ]
            ],
            "type": "histogram2d"
           }
          ],
          "histogram2dcontour": [
           {
            "colorbar": {
             "outlinewidth": 0,
             "ticks": ""
            },
            "colorscale": [
             [
              0,
              "#0d0887"
             ],
             [
              0.1111111111111111,
              "#46039f"
             ],
             [
              0.2222222222222222,
              "#7201a8"
             ],
             [
              0.3333333333333333,
              "#9c179e"
             ],
             [
              0.4444444444444444,
              "#bd3786"
             ],
             [
              0.5555555555555556,
              "#d8576b"
             ],
             [
              0.6666666666666666,
              "#ed7953"
             ],
             [
              0.7777777777777778,
              "#fb9f3a"
             ],
             [
              0.8888888888888888,
              "#fdca26"
             ],
             [
              1,
              "#f0f921"
             ]
            ],
            "type": "histogram2dcontour"
           }
          ],
          "mesh3d": [
           {
            "colorbar": {
             "outlinewidth": 0,
             "ticks": ""
            },
            "type": "mesh3d"
           }
          ],
          "parcoords": [
           {
            "line": {
             "colorbar": {
              "outlinewidth": 0,
              "ticks": ""
             }
            },
            "type": "parcoords"
           }
          ],
          "pie": [
           {
            "automargin": true,
            "type": "pie"
           }
          ],
          "scatter": [
           {
            "fillpattern": {
             "fillmode": "overlay",
             "size": 10,
             "solidity": 0.2
            },
            "type": "scatter"
           }
          ],
          "scatter3d": [
           {
            "line": {
             "colorbar": {
              "outlinewidth": 0,
              "ticks": ""
             }
            },
            "marker": {
             "colorbar": {
              "outlinewidth": 0,
              "ticks": ""
             }
            },
            "type": "scatter3d"
           }
          ],
          "scattercarpet": [
           {
            "marker": {
             "colorbar": {
              "outlinewidth": 0,
              "ticks": ""
             }
            },
            "type": "scattercarpet"
           }
          ],
          "scattergeo": [
           {
            "marker": {
             "colorbar": {
              "outlinewidth": 0,
              "ticks": ""
             }
            },
            "type": "scattergeo"
           }
          ],
          "scattergl": [
           {
            "marker": {
             "colorbar": {
              "outlinewidth": 0,
              "ticks": ""
             }
            },
            "type": "scattergl"
           }
          ],
          "scattermapbox": [
           {
            "marker": {
             "colorbar": {
              "outlinewidth": 0,
              "ticks": ""
             }
            },
            "type": "scattermapbox"
           }
          ],
          "scatterpolar": [
           {
            "marker": {
             "colorbar": {
              "outlinewidth": 0,
              "ticks": ""
             }
            },
            "type": "scatterpolar"
           }
          ],
          "scatterpolargl": [
           {
            "marker": {
             "colorbar": {
              "outlinewidth": 0,
              "ticks": ""
             }
            },
            "type": "scatterpolargl"
           }
          ],
          "scatterternary": [
           {
            "marker": {
             "colorbar": {
              "outlinewidth": 0,
              "ticks": ""
             }
            },
            "type": "scatterternary"
           }
          ],
          "surface": [
           {
            "colorbar": {
             "outlinewidth": 0,
             "ticks": ""
            },
            "colorscale": [
             [
              0,
              "#0d0887"
             ],
             [
              0.1111111111111111,
              "#46039f"
             ],
             [
              0.2222222222222222,
              "#7201a8"
             ],
             [
              0.3333333333333333,
              "#9c179e"
             ],
             [
              0.4444444444444444,
              "#bd3786"
             ],
             [
              0.5555555555555556,
              "#d8576b"
             ],
             [
              0.6666666666666666,
              "#ed7953"
             ],
             [
              0.7777777777777778,
              "#fb9f3a"
             ],
             [
              0.8888888888888888,
              "#fdca26"
             ],
             [
              1,
              "#f0f921"
             ]
            ],
            "type": "surface"
           }
          ],
          "table": [
           {
            "cells": {
             "fill": {
              "color": "#EBF0F8"
             },
             "line": {
              "color": "white"
             }
            },
            "header": {
             "fill": {
              "color": "#C8D4E3"
             },
             "line": {
              "color": "white"
             }
            },
            "type": "table"
           }
          ]
         },
         "layout": {
          "annotationdefaults": {
           "arrowcolor": "#2a3f5f",
           "arrowhead": 0,
           "arrowwidth": 1
          },
          "autotypenumbers": "strict",
          "coloraxis": {
           "colorbar": {
            "outlinewidth": 0,
            "ticks": ""
           }
          },
          "colorscale": {
           "diverging": [
            [
             0,
             "#8e0152"
            ],
            [
             0.1,
             "#c51b7d"
            ],
            [
             0.2,
             "#de77ae"
            ],
            [
             0.3,
             "#f1b6da"
            ],
            [
             0.4,
             "#fde0ef"
            ],
            [
             0.5,
             "#f7f7f7"
            ],
            [
             0.6,
             "#e6f5d0"
            ],
            [
             0.7,
             "#b8e186"
            ],
            [
             0.8,
             "#7fbc41"
            ],
            [
             0.9,
             "#4d9221"
            ],
            [
             1,
             "#276419"
            ]
           ],
           "sequential": [
            [
             0,
             "#0d0887"
            ],
            [
             0.1111111111111111,
             "#46039f"
            ],
            [
             0.2222222222222222,
             "#7201a8"
            ],
            [
             0.3333333333333333,
             "#9c179e"
            ],
            [
             0.4444444444444444,
             "#bd3786"
            ],
            [
             0.5555555555555556,
             "#d8576b"
            ],
            [
             0.6666666666666666,
             "#ed7953"
            ],
            [
             0.7777777777777778,
             "#fb9f3a"
            ],
            [
             0.8888888888888888,
             "#fdca26"
            ],
            [
             1,
             "#f0f921"
            ]
           ],
           "sequentialminus": [
            [
             0,
             "#0d0887"
            ],
            [
             0.1111111111111111,
             "#46039f"
            ],
            [
             0.2222222222222222,
             "#7201a8"
            ],
            [
             0.3333333333333333,
             "#9c179e"
            ],
            [
             0.4444444444444444,
             "#bd3786"
            ],
            [
             0.5555555555555556,
             "#d8576b"
            ],
            [
             0.6666666666666666,
             "#ed7953"
            ],
            [
             0.7777777777777778,
             "#fb9f3a"
            ],
            [
             0.8888888888888888,
             "#fdca26"
            ],
            [
             1,
             "#f0f921"
            ]
           ]
          },
          "colorway": [
           "#636efa",
           "#EF553B",
           "#00cc96",
           "#ab63fa",
           "#FFA15A",
           "#19d3f3",
           "#FF6692",
           "#B6E880",
           "#FF97FF",
           "#FECB52"
          ],
          "font": {
           "color": "#2a3f5f"
          },
          "geo": {
           "bgcolor": "white",
           "lakecolor": "white",
           "landcolor": "#E5ECF6",
           "showlakes": true,
           "showland": true,
           "subunitcolor": "white"
          },
          "hoverlabel": {
           "align": "left"
          },
          "hovermode": "closest",
          "mapbox": {
           "style": "light"
          },
          "paper_bgcolor": "white",
          "plot_bgcolor": "#E5ECF6",
          "polar": {
           "angularaxis": {
            "gridcolor": "white",
            "linecolor": "white",
            "ticks": ""
           },
           "bgcolor": "#E5ECF6",
           "radialaxis": {
            "gridcolor": "white",
            "linecolor": "white",
            "ticks": ""
           }
          },
          "scene": {
           "xaxis": {
            "backgroundcolor": "#E5ECF6",
            "gridcolor": "white",
            "gridwidth": 2,
            "linecolor": "white",
            "showbackground": true,
            "ticks": "",
            "zerolinecolor": "white"
           },
           "yaxis": {
            "backgroundcolor": "#E5ECF6",
            "gridcolor": "white",
            "gridwidth": 2,
            "linecolor": "white",
            "showbackground": true,
            "ticks": "",
            "zerolinecolor": "white"
           },
           "zaxis": {
            "backgroundcolor": "#E5ECF6",
            "gridcolor": "white",
            "gridwidth": 2,
            "linecolor": "white",
            "showbackground": true,
            "ticks": "",
            "zerolinecolor": "white"
           }
          },
          "shapedefaults": {
           "line": {
            "color": "#2a3f5f"
           }
          },
          "ternary": {
           "aaxis": {
            "gridcolor": "white",
            "linecolor": "white",
            "ticks": ""
           },
           "baxis": {
            "gridcolor": "white",
            "linecolor": "white",
            "ticks": ""
           },
           "bgcolor": "#E5ECF6",
           "caxis": {
            "gridcolor": "white",
            "linecolor": "white",
            "ticks": ""
           }
          },
          "title": {
           "x": 0.05
          },
          "xaxis": {
           "automargin": true,
           "gridcolor": "white",
           "linecolor": "white",
           "ticks": "",
           "title": {
            "standoff": 15
           },
           "zerolinecolor": "white",
           "zerolinewidth": 2
          },
          "yaxis": {
           "automargin": true,
           "gridcolor": "white",
           "linecolor": "white",
           "ticks": "",
           "title": {
            "standoff": 15
           },
           "zerolinecolor": "white",
           "zerolinewidth": 2
          }
         }
        },
        "xaxis": {
         "anchor": "y",
         "domain": [
          0,
          1
         ],
         "title": {
          "text": "Month"
         }
        },
        "yaxis": {
         "anchor": "x",
         "domain": [
          0,
          1
         ],
         "title": {
          "text": "Revenue"
         }
        }
       }
      }
     },
     "metadata": {},
     "output_type": "display_data"
    }
   ],
   "source": [
    "df=pd.read_csv('cleaned_sales_data.csv')\n",
    "df_grouped = df.groupby(\"Month\", as_index=False)[\"Revenue\"].sum()\n",
    "fig = px.line(df_grouped, x=\"Month\", y=\"Revenue\", markers=True)\n",
    "fig.show()\n"
   ]
  },
  {
   "cell_type": "code",
   "execution_count": 175,
   "id": "aa014c75",
   "metadata": {},
   "outputs": [
    {
     "data": {
      "text/html": [
       "<div>\n",
       "<style scoped>\n",
       "    .dataframe tbody tr th:only-of-type {\n",
       "        vertical-align: middle;\n",
       "    }\n",
       "\n",
       "    .dataframe tbody tr th {\n",
       "        vertical-align: top;\n",
       "    }\n",
       "\n",
       "    .dataframe thead th {\n",
       "        text-align: right;\n",
       "    }\n",
       "</style>\n",
       "<table border=\"1\" class=\"dataframe\">\n",
       "  <thead>\n",
       "    <tr style=\"text-align: right;\">\n",
       "      <th></th>\n",
       "      <th>date</th>\n",
       "      <th>GOOG</th>\n",
       "      <th>AAPL</th>\n",
       "      <th>AMZN</th>\n",
       "      <th>FB</th>\n",
       "      <th>NFLX</th>\n",
       "      <th>MSFT</th>\n",
       "    </tr>\n",
       "  </thead>\n",
       "  <tbody>\n",
       "    <tr>\n",
       "      <th>0</th>\n",
       "      <td>2018-01-01</td>\n",
       "      <td>1.000000</td>\n",
       "      <td>1.000000</td>\n",
       "      <td>1.000000</td>\n",
       "      <td>1.000000</td>\n",
       "      <td>1.000000</td>\n",
       "      <td>1.000000</td>\n",
       "    </tr>\n",
       "    <tr>\n",
       "      <th>1</th>\n",
       "      <td>2018-01-08</td>\n",
       "      <td>1.018172</td>\n",
       "      <td>1.011943</td>\n",
       "      <td>1.061881</td>\n",
       "      <td>0.959968</td>\n",
       "      <td>1.053526</td>\n",
       "      <td>1.015988</td>\n",
       "    </tr>\n",
       "    <tr>\n",
       "      <th>2</th>\n",
       "      <td>2018-01-15</td>\n",
       "      <td>1.032008</td>\n",
       "      <td>1.019771</td>\n",
       "      <td>1.053240</td>\n",
       "      <td>0.970243</td>\n",
       "      <td>1.049860</td>\n",
       "      <td>1.020524</td>\n",
       "    </tr>\n",
       "    <tr>\n",
       "      <th>3</th>\n",
       "      <td>2018-01-22</td>\n",
       "      <td>1.066783</td>\n",
       "      <td>0.980057</td>\n",
       "      <td>1.140676</td>\n",
       "      <td>1.016858</td>\n",
       "      <td>1.307681</td>\n",
       "      <td>1.066561</td>\n",
       "    </tr>\n",
       "    <tr>\n",
       "      <th>4</th>\n",
       "      <td>2018-01-29</td>\n",
       "      <td>1.008773</td>\n",
       "      <td>0.917143</td>\n",
       "      <td>1.163374</td>\n",
       "      <td>1.018357</td>\n",
       "      <td>1.273537</td>\n",
       "      <td>1.040708</td>\n",
       "    </tr>\n",
       "    <tr>\n",
       "      <th>...</th>\n",
       "      <td>...</td>\n",
       "      <td>...</td>\n",
       "      <td>...</td>\n",
       "      <td>...</td>\n",
       "      <td>...</td>\n",
       "      <td>...</td>\n",
       "      <td>...</td>\n",
       "    </tr>\n",
       "    <tr>\n",
       "      <th>100</th>\n",
       "      <td>2019-12-02</td>\n",
       "      <td>1.216280</td>\n",
       "      <td>1.546914</td>\n",
       "      <td>1.425061</td>\n",
       "      <td>1.075997</td>\n",
       "      <td>1.463641</td>\n",
       "      <td>1.720717</td>\n",
       "    </tr>\n",
       "    <tr>\n",
       "      <th>101</th>\n",
       "      <td>2019-12-09</td>\n",
       "      <td>1.222821</td>\n",
       "      <td>1.572286</td>\n",
       "      <td>1.432660</td>\n",
       "      <td>1.038855</td>\n",
       "      <td>1.421496</td>\n",
       "      <td>1.752239</td>\n",
       "    </tr>\n",
       "    <tr>\n",
       "      <th>102</th>\n",
       "      <td>2019-12-16</td>\n",
       "      <td>1.224418</td>\n",
       "      <td>1.596800</td>\n",
       "      <td>1.453455</td>\n",
       "      <td>1.104094</td>\n",
       "      <td>1.604362</td>\n",
       "      <td>1.784896</td>\n",
       "    </tr>\n",
       "    <tr>\n",
       "      <th>103</th>\n",
       "      <td>2019-12-23</td>\n",
       "      <td>1.226504</td>\n",
       "      <td>1.656000</td>\n",
       "      <td>1.521226</td>\n",
       "      <td>1.113728</td>\n",
       "      <td>1.567170</td>\n",
       "      <td>1.802472</td>\n",
       "    </tr>\n",
       "    <tr>\n",
       "      <th>104</th>\n",
       "      <td>2019-12-30</td>\n",
       "      <td>1.213014</td>\n",
       "      <td>1.678000</td>\n",
       "      <td>1.503360</td>\n",
       "      <td>1.098475</td>\n",
       "      <td>1.540883</td>\n",
       "      <td>1.788185</td>\n",
       "    </tr>\n",
       "  </tbody>\n",
       "</table>\n",
       "<p>105 rows × 7 columns</p>\n",
       "</div>"
      ],
      "text/plain": [
       "           date      GOOG      AAPL      AMZN        FB      NFLX      MSFT\n",
       "0    2018-01-01  1.000000  1.000000  1.000000  1.000000  1.000000  1.000000\n",
       "1    2018-01-08  1.018172  1.011943  1.061881  0.959968  1.053526  1.015988\n",
       "2    2018-01-15  1.032008  1.019771  1.053240  0.970243  1.049860  1.020524\n",
       "3    2018-01-22  1.066783  0.980057  1.140676  1.016858  1.307681  1.066561\n",
       "4    2018-01-29  1.008773  0.917143  1.163374  1.018357  1.273537  1.040708\n",
       "..          ...       ...       ...       ...       ...       ...       ...\n",
       "100  2019-12-02  1.216280  1.546914  1.425061  1.075997  1.463641  1.720717\n",
       "101  2019-12-09  1.222821  1.572286  1.432660  1.038855  1.421496  1.752239\n",
       "102  2019-12-16  1.224418  1.596800  1.453455  1.104094  1.604362  1.784896\n",
       "103  2019-12-23  1.226504  1.656000  1.521226  1.113728  1.567170  1.802472\n",
       "104  2019-12-30  1.213014  1.678000  1.503360  1.098475  1.540883  1.788185\n",
       "\n",
       "[105 rows x 7 columns]"
      ]
     },
     "execution_count": 175,
     "metadata": {},
     "output_type": "execute_result"
    }
   ],
   "source": [
    "df"
   ]
  },
  {
   "cell_type": "code",
   "execution_count": null,
   "id": "c7b4d484",
   "metadata": {},
   "outputs": [
    {
     "data": {
      "application/vnd.plotly.v1+json": {
       "config": {
        "plotlyServerURL": "https://plot.ly"
       },
       "data": [
        {
         "hovertemplate": "date=%{x}<br>GOOG=%{y}<extra></extra>",
         "legendgroup": "",
         "line": {
          "color": "#636efa",
          "dash": "solid"
         },
         "marker": {
          "symbol": "circle"
         },
         "mode": "lines",
         "name": "",
         "orientation": "v",
         "showlegend": false,
         "type": "scatter",
         "x": [
          "2018-01-01",
          "2018-01-08",
          "2018-01-15",
          "2018-01-22",
          "2018-01-29",
          "2018-02-05",
          "2018-02-12",
          "2018-02-19",
          "2018-02-26",
          "2018-03-05",
          "2018-03-12",
          "2018-03-19",
          "2018-03-26",
          "2018-04-02",
          "2018-04-09",
          "2018-04-16",
          "2018-04-23",
          "2018-04-30",
          "2018-05-07",
          "2018-05-14",
          "2018-05-21",
          "2018-05-28",
          "2018-06-04",
          "2018-06-11",
          "2018-06-18",
          "2018-06-25",
          "2018-07-02",
          "2018-07-09",
          "2018-07-16",
          "2018-07-23",
          "2018-07-30",
          "2018-08-06",
          "2018-08-13",
          "2018-08-20",
          "2018-08-27",
          "2018-09-03",
          "2018-09-10",
          "2018-09-17",
          "2018-09-24",
          "2018-10-01",
          "2018-10-08",
          "2018-10-15",
          "2018-10-22",
          "2018-10-29",
          "2018-11-05",
          "2018-11-12",
          "2018-11-19",
          "2018-11-26",
          "2018-12-03",
          "2018-12-10",
          "2018-12-17",
          "2018-12-24",
          "2018-12-31",
          "2019-01-07",
          "2019-01-14",
          "2019-01-21",
          "2019-01-28",
          "2019-02-04",
          "2019-02-11",
          "2019-02-18",
          "2019-02-25",
          "2019-03-04",
          "2019-03-11",
          "2019-03-18",
          "2019-03-25",
          "2019-04-01",
          "2019-04-08",
          "2019-04-15",
          "2019-04-22",
          "2019-04-29",
          "2019-05-06",
          "2019-05-13",
          "2019-05-20",
          "2019-05-27",
          "2019-06-03",
          "2019-06-10",
          "2019-06-17",
          "2019-06-24",
          "2019-07-01",
          "2019-07-08",
          "2019-07-15",
          "2019-07-22",
          "2019-07-29",
          "2019-08-05",
          "2019-08-12",
          "2019-08-19",
          "2019-08-26",
          "2019-09-02",
          "2019-09-09",
          "2019-09-16",
          "2019-09-23",
          "2019-09-30",
          "2019-10-07",
          "2019-10-14",
          "2019-10-21",
          "2019-10-28",
          "2019-11-04",
          "2019-11-11",
          "2019-11-18",
          "2019-11-25",
          "2019-12-02",
          "2019-12-09",
          "2019-12-16",
          "2019-12-23",
          "2019-12-30"
         ],
         "xaxis": "x",
         "y": [
          1,
          1.018172278347936,
          1.032007866452698,
          1.066782783389724,
          1.0087731636550117,
          0.9415276737437316,
          0.99325918262539,
          1.0222821547641083,
          0.9788520214265992,
          1.0524482730908842,
          1.0303929312465263,
          0.926821104067592,
          0.9360932452590338,
          0.913638710861412,
          0.93380695379017,
          0.9734447261178653,
          0.9345146364100892,
          0.9509902470625956,
          0.9963982380519172,
          0.9674568868105002,
          0.9758943718805396,
          1.015668254641377,
          1.0169111849053498,
          1.0453898287179595,
          1.0483111519067918,
          1.0121753574512644,
          1.0344211867653972,
          1.0785588920381208,
          1.075011617811375,
          1.1236312044424703,
          1.1102129167272332,
          1.1228237368393843,
          1.0895729410299655,
          1.1074367837463466,
          1.1052048693141154,
          1.0567939333314087,
          1.0637798374890872,
          1.0579370795194665,
          1.0827776350267664,
          1.0500077089175164,
          1.007121903906116,
          0.9947651405743836,
          0.9720929301886708,
          0.959681788913054,
          0.9672663993407256,
          0.9630385756700248,
          0.9289168536315806,
          0.992923504040418,
          0.9404389054995582,
          0.945446952912676,
          0.8886892896888904,
          0.9408925313390586,
          0.9714034098401132,
          0.9591373489949891,
          0.9963982380519172,
          0.989802500200548,
          1.0077298024501202,
          0.9934950771344468,
          1.0103608540932627,
          1.0073850422758417,
          1.035165084150587,
          1.0363716889645844,
          1.0746032883264525,
          1.0936918990354445,
          1.064487521016258,
          1.095188886079836,
          1.1049145977684258,
          1.1216987538299403,
          1.1541874899828073,
          1.075456162061569,
          1.0562859304552756,
          1.0544986709579427,
          1.0283425342867192,
          1.001270175031893,
          0.9671666152648106,
          0.98468558802946,
          1.0178275181736574,
          0.980657443195294,
          1.0266368965939394,
          1.0387124690620373,
          1.025285100664745,
          1.1344366027859267,
          1.0832494231376286,
          1.0778240762422375,
          1.068379555417282,
          1.0445098208996275,
          1.0779056980467905,
          1.0931748145700046,
          1.12459294475006,
          1.115856106545024,
          1.1114649285805127,
          1.0968672799119472,
          1.10271900878617,
          1.129972884606169,
          1.1477913211905195,
          1.155602744537941,
          1.189742629754999,
          1.2110630442115171,
          1.1751993590303178,
          1.183927115646047,
          1.216279741365772,
          1.222820990588552,
          1.22441776261611,
          1.2265044859331442,
          1.213013658002661
         ],
         "yaxis": "y"
        }
       ],
       "layout": {
        "legend": {
         "tracegroupgap": 0
        },
        "margin": {
         "t": 60
        },
        "template": {
         "data": {
          "bar": [
           {
            "error_x": {
             "color": "#2a3f5f"
            },
            "error_y": {
             "color": "#2a3f5f"
            },
            "marker": {
             "line": {
              "color": "#E5ECF6",
              "width": 0.5
             },
             "pattern": {
              "fillmode": "overlay",
              "size": 10,
              "solidity": 0.2
             }
            },
            "type": "bar"
           }
          ],
          "barpolar": [
           {
            "marker": {
             "line": {
              "color": "#E5ECF6",
              "width": 0.5
             },
             "pattern": {
              "fillmode": "overlay",
              "size": 10,
              "solidity": 0.2
             }
            },
            "type": "barpolar"
           }
          ],
          "carpet": [
           {
            "aaxis": {
             "endlinecolor": "#2a3f5f",
             "gridcolor": "white",
             "linecolor": "white",
             "minorgridcolor": "white",
             "startlinecolor": "#2a3f5f"
            },
            "baxis": {
             "endlinecolor": "#2a3f5f",
             "gridcolor": "white",
             "linecolor": "white",
             "minorgridcolor": "white",
             "startlinecolor": "#2a3f5f"
            },
            "type": "carpet"
           }
          ],
          "choropleth": [
           {
            "colorbar": {
             "outlinewidth": 0,
             "ticks": ""
            },
            "type": "choropleth"
           }
          ],
          "contour": [
           {
            "colorbar": {
             "outlinewidth": 0,
             "ticks": ""
            },
            "colorscale": [
             [
              0,
              "#0d0887"
             ],
             [
              0.1111111111111111,
              "#46039f"
             ],
             [
              0.2222222222222222,
              "#7201a8"
             ],
             [
              0.3333333333333333,
              "#9c179e"
             ],
             [
              0.4444444444444444,
              "#bd3786"
             ],
             [
              0.5555555555555556,
              "#d8576b"
             ],
             [
              0.6666666666666666,
              "#ed7953"
             ],
             [
              0.7777777777777778,
              "#fb9f3a"
             ],
             [
              0.8888888888888888,
              "#fdca26"
             ],
             [
              1,
              "#f0f921"
             ]
            ],
            "type": "contour"
           }
          ],
          "contourcarpet": [
           {
            "colorbar": {
             "outlinewidth": 0,
             "ticks": ""
            },
            "type": "contourcarpet"
           }
          ],
          "heatmap": [
           {
            "colorbar": {
             "outlinewidth": 0,
             "ticks": ""
            },
            "colorscale": [
             [
              0,
              "#0d0887"
             ],
             [
              0.1111111111111111,
              "#46039f"
             ],
             [
              0.2222222222222222,
              "#7201a8"
             ],
             [
              0.3333333333333333,
              "#9c179e"
             ],
             [
              0.4444444444444444,
              "#bd3786"
             ],
             [
              0.5555555555555556,
              "#d8576b"
             ],
             [
              0.6666666666666666,
              "#ed7953"
             ],
             [
              0.7777777777777778,
              "#fb9f3a"
             ],
             [
              0.8888888888888888,
              "#fdca26"
             ],
             [
              1,
              "#f0f921"
             ]
            ],
            "type": "heatmap"
           }
          ],
          "heatmapgl": [
           {
            "colorbar": {
             "outlinewidth": 0,
             "ticks": ""
            },
            "colorscale": [
             [
              0,
              "#0d0887"
             ],
             [
              0.1111111111111111,
              "#46039f"
             ],
             [
              0.2222222222222222,
              "#7201a8"
             ],
             [
              0.3333333333333333,
              "#9c179e"
             ],
             [
              0.4444444444444444,
              "#bd3786"
             ],
             [
              0.5555555555555556,
              "#d8576b"
             ],
             [
              0.6666666666666666,
              "#ed7953"
             ],
             [
              0.7777777777777778,
              "#fb9f3a"
             ],
             [
              0.8888888888888888,
              "#fdca26"
             ],
             [
              1,
              "#f0f921"
             ]
            ],
            "type": "heatmapgl"
           }
          ],
          "histogram": [
           {
            "marker": {
             "pattern": {
              "fillmode": "overlay",
              "size": 10,
              "solidity": 0.2
             }
            },
            "type": "histogram"
           }
          ],
          "histogram2d": [
           {
            "colorbar": {
             "outlinewidth": 0,
             "ticks": ""
            },
            "colorscale": [
             [
              0,
              "#0d0887"
             ],
             [
              0.1111111111111111,
              "#46039f"
             ],
             [
              0.2222222222222222,
              "#7201a8"
             ],
             [
              0.3333333333333333,
              "#9c179e"
             ],
             [
              0.4444444444444444,
              "#bd3786"
             ],
             [
              0.5555555555555556,
              "#d8576b"
             ],
             [
              0.6666666666666666,
              "#ed7953"
             ],
             [
              0.7777777777777778,
              "#fb9f3a"
             ],
             [
              0.8888888888888888,
              "#fdca26"
             ],
             [
              1,
              "#f0f921"
             ]
            ],
            "type": "histogram2d"
           }
          ],
          "histogram2dcontour": [
           {
            "colorbar": {
             "outlinewidth": 0,
             "ticks": ""
            },
            "colorscale": [
             [
              0,
              "#0d0887"
             ],
             [
              0.1111111111111111,
              "#46039f"
             ],
             [
              0.2222222222222222,
              "#7201a8"
             ],
             [
              0.3333333333333333,
              "#9c179e"
             ],
             [
              0.4444444444444444,
              "#bd3786"
             ],
             [
              0.5555555555555556,
              "#d8576b"
             ],
             [
              0.6666666666666666,
              "#ed7953"
             ],
             [
              0.7777777777777778,
              "#fb9f3a"
             ],
             [
              0.8888888888888888,
              "#fdca26"
             ],
             [
              1,
              "#f0f921"
             ]
            ],
            "type": "histogram2dcontour"
           }
          ],
          "mesh3d": [
           {
            "colorbar": {
             "outlinewidth": 0,
             "ticks": ""
            },
            "type": "mesh3d"
           }
          ],
          "parcoords": [
           {
            "line": {
             "colorbar": {
              "outlinewidth": 0,
              "ticks": ""
             }
            },
            "type": "parcoords"
           }
          ],
          "pie": [
           {
            "automargin": true,
            "type": "pie"
           }
          ],
          "scatter": [
           {
            "fillpattern": {
             "fillmode": "overlay",
             "size": 10,
             "solidity": 0.2
            },
            "type": "scatter"
           }
          ],
          "scatter3d": [
           {
            "line": {
             "colorbar": {
              "outlinewidth": 0,
              "ticks": ""
             }
            },
            "marker": {
             "colorbar": {
              "outlinewidth": 0,
              "ticks": ""
             }
            },
            "type": "scatter3d"
           }
          ],
          "scattercarpet": [
           {
            "marker": {
             "colorbar": {
              "outlinewidth": 0,
              "ticks": ""
             }
            },
            "type": "scattercarpet"
           }
          ],
          "scattergeo": [
           {
            "marker": {
             "colorbar": {
              "outlinewidth": 0,
              "ticks": ""
             }
            },
            "type": "scattergeo"
           }
          ],
          "scattergl": [
           {
            "marker": {
             "colorbar": {
              "outlinewidth": 0,
              "ticks": ""
             }
            },
            "type": "scattergl"
           }
          ],
          "scattermapbox": [
           {
            "marker": {
             "colorbar": {
              "outlinewidth": 0,
              "ticks": ""
             }
            },
            "type": "scattermapbox"
           }
          ],
          "scatterpolar": [
           {
            "marker": {
             "colorbar": {
              "outlinewidth": 0,
              "ticks": ""
             }
            },
            "type": "scatterpolar"
           }
          ],
          "scatterpolargl": [
           {
            "marker": {
             "colorbar": {
              "outlinewidth": 0,
              "ticks": ""
             }
            },
            "type": "scatterpolargl"
           }
          ],
          "scatterternary": [
           {
            "marker": {
             "colorbar": {
              "outlinewidth": 0,
              "ticks": ""
             }
            },
            "type": "scatterternary"
           }
          ],
          "surface": [
           {
            "colorbar": {
             "outlinewidth": 0,
             "ticks": ""
            },
            "colorscale": [
             [
              0,
              "#0d0887"
             ],
             [
              0.1111111111111111,
              "#46039f"
             ],
             [
              0.2222222222222222,
              "#7201a8"
             ],
             [
              0.3333333333333333,
              "#9c179e"
             ],
             [
              0.4444444444444444,
              "#bd3786"
             ],
             [
              0.5555555555555556,
              "#d8576b"
             ],
             [
              0.6666666666666666,
              "#ed7953"
             ],
             [
              0.7777777777777778,
              "#fb9f3a"
             ],
             [
              0.8888888888888888,
              "#fdca26"
             ],
             [
              1,
              "#f0f921"
             ]
            ],
            "type": "surface"
           }
          ],
          "table": [
           {
            "cells": {
             "fill": {
              "color": "#EBF0F8"
             },
             "line": {
              "color": "white"
             }
            },
            "header": {
             "fill": {
              "color": "#C8D4E3"
             },
             "line": {
              "color": "white"
             }
            },
            "type": "table"
           }
          ]
         },
         "layout": {
          "annotationdefaults": {
           "arrowcolor": "#2a3f5f",
           "arrowhead": 0,
           "arrowwidth": 1
          },
          "autotypenumbers": "strict",
          "coloraxis": {
           "colorbar": {
            "outlinewidth": 0,
            "ticks": ""
           }
          },
          "colorscale": {
           "diverging": [
            [
             0,
             "#8e0152"
            ],
            [
             0.1,
             "#c51b7d"
            ],
            [
             0.2,
             "#de77ae"
            ],
            [
             0.3,
             "#f1b6da"
            ],
            [
             0.4,
             "#fde0ef"
            ],
            [
             0.5,
             "#f7f7f7"
            ],
            [
             0.6,
             "#e6f5d0"
            ],
            [
             0.7,
             "#b8e186"
            ],
            [
             0.8,
             "#7fbc41"
            ],
            [
             0.9,
             "#4d9221"
            ],
            [
             1,
             "#276419"
            ]
           ],
           "sequential": [
            [
             0,
             "#0d0887"
            ],
            [
             0.1111111111111111,
             "#46039f"
            ],
            [
             0.2222222222222222,
             "#7201a8"
            ],
            [
             0.3333333333333333,
             "#9c179e"
            ],
            [
             0.4444444444444444,
             "#bd3786"
            ],
            [
             0.5555555555555556,
             "#d8576b"
            ],
            [
             0.6666666666666666,
             "#ed7953"
            ],
            [
             0.7777777777777778,
             "#fb9f3a"
            ],
            [
             0.8888888888888888,
             "#fdca26"
            ],
            [
             1,
             "#f0f921"
            ]
           ],
           "sequentialminus": [
            [
             0,
             "#0d0887"
            ],
            [
             0.1111111111111111,
             "#46039f"
            ],
            [
             0.2222222222222222,
             "#7201a8"
            ],
            [
             0.3333333333333333,
             "#9c179e"
            ],
            [
             0.4444444444444444,
             "#bd3786"
            ],
            [
             0.5555555555555556,
             "#d8576b"
            ],
            [
             0.6666666666666666,
             "#ed7953"
            ],
            [
             0.7777777777777778,
             "#fb9f3a"
            ],
            [
             0.8888888888888888,
             "#fdca26"
            ],
            [
             1,
             "#f0f921"
            ]
           ]
          },
          "colorway": [
           "#636efa",
           "#EF553B",
           "#00cc96",
           "#ab63fa",
           "#FFA15A",
           "#19d3f3",
           "#FF6692",
           "#B6E880",
           "#FF97FF",
           "#FECB52"
          ],
          "font": {
           "color": "#2a3f5f"
          },
          "geo": {
           "bgcolor": "white",
           "lakecolor": "white",
           "landcolor": "#E5ECF6",
           "showlakes": true,
           "showland": true,
           "subunitcolor": "white"
          },
          "hoverlabel": {
           "align": "left"
          },
          "hovermode": "closest",
          "mapbox": {
           "style": "light"
          },
          "paper_bgcolor": "white",
          "plot_bgcolor": "#E5ECF6",
          "polar": {
           "angularaxis": {
            "gridcolor": "white",
            "linecolor": "white",
            "ticks": ""
           },
           "bgcolor": "#E5ECF6",
           "radialaxis": {
            "gridcolor": "white",
            "linecolor": "white",
            "ticks": ""
           }
          },
          "scene": {
           "xaxis": {
            "backgroundcolor": "#E5ECF6",
            "gridcolor": "white",
            "gridwidth": 2,
            "linecolor": "white",
            "showbackground": true,
            "ticks": "",
            "zerolinecolor": "white"
           },
           "yaxis": {
            "backgroundcolor": "#E5ECF6",
            "gridcolor": "white",
            "gridwidth": 2,
            "linecolor": "white",
            "showbackground": true,
            "ticks": "",
            "zerolinecolor": "white"
           },
           "zaxis": {
            "backgroundcolor": "#E5ECF6",
            "gridcolor": "white",
            "gridwidth": 2,
            "linecolor": "white",
            "showbackground": true,
            "ticks": "",
            "zerolinecolor": "white"
           }
          },
          "shapedefaults": {
           "line": {
            "color": "#2a3f5f"
           }
          },
          "ternary": {
           "aaxis": {
            "gridcolor": "white",
            "linecolor": "white",
            "ticks": ""
           },
           "baxis": {
            "gridcolor": "white",
            "linecolor": "white",
            "ticks": ""
           },
           "bgcolor": "#E5ECF6",
           "caxis": {
            "gridcolor": "white",
            "linecolor": "white",
            "ticks": ""
           }
          },
          "title": {
           "x": 0.05
          },
          "xaxis": {
           "automargin": true,
           "gridcolor": "white",
           "linecolor": "white",
           "ticks": "",
           "title": {
            "standoff": 15
           },
           "zerolinecolor": "white",
           "zerolinewidth": 2
          },
          "yaxis": {
           "automargin": true,
           "gridcolor": "white",
           "linecolor": "white",
           "ticks": "",
           "title": {
            "standoff": 15
           },
           "zerolinecolor": "white",
           "zerolinewidth": 2
          }
         }
        },
        "xaxis": {
         "anchor": "y",
         "domain": [
          0,
          1
         ],
         "title": {
          "text": "date"
         }
        },
        "yaxis": {
         "anchor": "x",
         "domain": [
          0,
          1
         ],
         "title": {
          "text": "GOOG"
         }
        }
       }
      }
     },
     "metadata": {},
     "output_type": "display_data"
    }
   ],
   "source": [
    "df=px.data.stocks()\n",
    "fig=px.line(df,x=\"date\",y=\"GOOG\")\n",
    "fig"
   ]
  },
  {
   "cell_type": "code",
   "execution_count": null,
   "id": "e003b737",
   "metadata": {},
   "outputs": [
    {
     "data": {
      "application/vnd.plotly.v1+json": {
       "config": {
        "plotlyServerURL": "https://plot.ly"
       },
       "data": [
        {
         "alignmentgroup": "True",
         "bingroup": "x",
         "histfunc": "sum",
         "hovertemplate": "Is_Weekend=No<br>Month=%{x}<br>sum of Revenue=%{y}<extra></extra>",
         "legendgroup": "No",
         "marker": {
          "color": "#636efa",
          "pattern": {
           "shape": ""
          }
         },
         "name": "No",
         "offsetgroup": "No",
         "orientation": "v",
         "showlegend": true,
         "type": "histogram",
         "x": [
          "August",
          "August",
          "January",
          "May",
          "June",
          "September",
          "March",
          "November",
          "August",
          "November",
          "July",
          "September",
          "January",
          "August",
          "December",
          "April",
          "February",
          "March",
          "January",
          "April",
          "April",
          "September",
          "July",
          "July",
          "December",
          "March",
          "March",
          "August",
          "March",
          "November",
          "June",
          "July",
          "November",
          "February",
          "April",
          "September",
          "May",
          "August",
          "July",
          "January",
          "February",
          "January",
          "June",
          "November",
          "July",
          "July",
          "February",
          "December",
          "February",
          "September",
          "April",
          "September",
          "May",
          "November",
          "May",
          "March",
          "May",
          "August",
          "July",
          "June",
          "September",
          "November",
          "May",
          "October",
          "September",
          "August",
          "August",
          "December",
          "December",
          "June",
          "March",
          "November",
          "March",
          "May",
          "October",
          "January",
          "December",
          "November",
          "July",
          "September",
          "July",
          "April",
          "December",
          "August",
          "November",
          "December",
          "April",
          "January",
          "August",
          "June",
          "January",
          "May",
          "August",
          "December",
          "January",
          "July",
          "October",
          "April",
          "January",
          "February",
          "October",
          "March",
          "February",
          "May",
          "February",
          "March",
          "September",
          "June",
          "February",
          "January",
          "January",
          "July",
          "December",
          "February",
          "January",
          "July",
          "August",
          "October",
          "March",
          "April",
          "December",
          "December",
          "March",
          "May",
          "February",
          "July",
          "February",
          "May",
          "August",
          "November",
          "October",
          "July",
          "July",
          "May",
          "June",
          "December",
          "June",
          "March",
          "May",
          "August",
          "August",
          "February",
          "August",
          "April",
          "July",
          "September",
          "November",
          "June",
          "November",
          "May",
          "December",
          "May",
          "May",
          "April",
          "September",
          "June",
          "April",
          "February",
          "September",
          "June",
          "September",
          "October",
          "October",
          "June",
          "July",
          "August",
          "May",
          "June",
          "February",
          "December",
          "April",
          "December",
          "October",
          "May",
          "May",
          "May",
          "November",
          "January",
          "April",
          "August",
          "September",
          "September",
          "May",
          "May",
          "May",
          "July",
          "July",
          "June",
          "February",
          "November",
          "February",
          "March",
          "May",
          "October",
          "January",
          "October",
          "April",
          "December",
          "September",
          "September",
          "November",
          "July",
          "January",
          "March",
          "March",
          "March",
          "July",
          "June",
          "March",
          "January",
          "November",
          "October",
          "May",
          "May",
          "August",
          "November",
          "August",
          "November",
          "October",
          "June",
          "March",
          "August",
          "March",
          "May",
          "March",
          "October",
          "August",
          "October",
          "August",
          "November",
          "March",
          "May",
          "July",
          "June",
          "March",
          "May",
          "January",
          "November",
          "December",
          "February",
          "January",
          "April",
          "November",
          "October",
          "June",
          "June",
          "August",
          "February",
          "April",
          "May",
          "June",
          "December",
          "October",
          "June",
          "May",
          "August",
          "August",
          "May",
          "July",
          "March",
          "February",
          "March",
          "November",
          "March",
          "January",
          "December",
          "May",
          "July",
          "December",
          "April",
          "October",
          "December",
          "June",
          "May",
          "December",
          "December",
          "May",
          "December",
          "January",
          "November",
          "June",
          "November",
          "July",
          "March",
          "February",
          "September",
          "July",
          "September",
          "November",
          "September",
          "May",
          "June",
          "February",
          "June",
          "October",
          "March",
          "September",
          "August",
          "April",
          "January",
          "June",
          "October",
          "January",
          "May",
          "May",
          "July",
          "June",
          "May",
          "April",
          "February",
          "October",
          "June",
          "December",
          "October",
          "December",
          "March",
          "February",
          "November",
          "May",
          "June",
          "September",
          "March",
          "March",
          "October",
          "August",
          "August",
          "July",
          "September",
          "February",
          "December",
          "December",
          "June",
          "August",
          "August",
          "December",
          "February",
          "July",
          "February",
          "August",
          "June",
          "January",
          "August",
          "November",
          "March",
          "June",
          "June",
          "December",
          "June",
          "July",
          "October",
          "November",
          "November",
          "September",
          "June",
          "August",
          "September",
          "June",
          "January",
          "April",
          "April",
          "July",
          "January",
          "December",
          "April",
          "October",
          "February",
          "July",
          "August",
          "November",
          "December",
          "November",
          "September",
          "October",
          "March",
          "November",
          "March",
          "May",
          "November",
          "November",
          "November",
          "February",
          "September",
          "October",
          "June",
          "April",
          "September",
          "July",
          "December",
          "January",
          "July",
          "September",
          "September",
          "July",
          "December",
          "March",
          "August",
          "December",
          "March",
          "February",
          "February",
          "October",
          "January",
          "November",
          "October",
          "May",
          "November",
          "October",
          "March",
          "July",
          "October",
          "October",
          "September",
          "September",
          "June",
          "October",
          "January",
          "November",
          "August",
          "November",
          "August",
          "February",
          "February",
          "December",
          "December",
          "January",
          "July",
          "December",
          "November",
          "January",
          "December",
          "December",
          "December",
          "April",
          "November",
          "September",
          "December",
          "October",
          "August",
          "January",
          "September",
          "July",
          "December",
          "February",
          "August",
          "November",
          "March",
          "October",
          "May",
          "August",
          "June",
          "February",
          "August",
          "February",
          "September",
          "January",
          "March",
          "December",
          "December",
          "February",
          "January",
          "July",
          "December",
          "August",
          "October",
          "October",
          "December",
          "April",
          "September",
          "July",
          "August",
          "April",
          "August",
          "June",
          "August",
          "May",
          "September",
          "November",
          "March",
          "April",
          "November",
          "October",
          "July",
          "May",
          "April",
          "November",
          "January",
          "June",
          "November",
          "March",
          "June",
          "September",
          "September",
          "August",
          "January",
          "July",
          "December",
          "August",
          "May",
          "July",
          "April",
          "May",
          "September",
          "February",
          "May",
          "June",
          "August",
          "June",
          "March",
          "November",
          "November",
          "October",
          "September",
          "January",
          "May",
          "April",
          "September",
          "August",
          "August",
          "February",
          "September",
          "March",
          "August",
          "December",
          "July",
          "February",
          "August",
          "January",
          "May",
          "November",
          "April",
          "December",
          "December",
          "May",
          "December",
          "October",
          "September",
          "October",
          "January",
          "June",
          "July",
          "May",
          "November",
          "January",
          "May",
          "April",
          "August",
          "June",
          "June",
          "December",
          "September",
          "December",
          "October",
          "October",
          "August",
          "January",
          "May",
          "February",
          "November",
          "October",
          "July",
          "May",
          "January",
          "January",
          "August",
          "July"
         ],
         "xaxis": "x",
         "y": [
          337.98632000000003,
          80.22,
          690.48,
          337.98632000000003,
          97.62,
          436.05,
          572.79,
          337.98632000000003,
          766.78,
          352.54,
          710.95,
          37.32,
          18.55,
          667.21,
          342.34,
          313.62,
          1108.11,
          181.17,
          553.67,
          787.55,
          529.53,
          303.62,
          23.45,
          564.04,
          688.67,
          297.86,
          125.24,
          337.98632000000003,
          485.86,
          29.29,
          444.41,
          240.37,
          171.42,
          143.89,
          65.61,
          105.87,
          655.69,
          147.4,
          134,
          334.7,
          567.2,
          981.58,
          564.67,
          330.2,
          304.2,
          197.26,
          28.25,
          145.16,
          561.23,
          691.56,
          107.25,
          327.11,
          337.98632000000003,
          66.32,
          626.65,
          446.74,
          260.98,
          333.2,
          558.72,
          771.35,
          344.16,
          57.48,
          63.86,
          887.26,
          637.81,
          198.12,
          515.95,
          107.88,
          259.92,
          34.97,
          219.55,
          727.34,
          604.18,
          199.71,
          256.75,
          778.82,
          68.85,
          70.39,
          520.61,
          1178.53,
          337.98632000000003,
          40.6,
          34.53,
          257.57,
          962.29,
          164.33,
          185.8,
          52.54,
          562.04,
          335.54,
          1184.27,
          463.81,
          445.74,
          245.26,
          1128.25,
          16.4,
          123.13,
          420.24,
          618.29,
          268.4,
          751.68,
          682.9,
          221.92,
          148.7,
          701.97,
          44.3,
          47.45,
          272.64,
          805.76,
          802.43,
          196.38,
          842.51,
          856.33,
          337.98632000000003,
          85.45,
          354.16,
          371.87,
          363.47,
          232.25,
          451.21,
          115.98,
          905.29,
          56.75,
          19.28,
          506.46,
          82.54,
          75.02,
          122.22,
          19.7,
          606.13,
          302.74,
          177.81,
          1159.98,
          567.31,
          781.5,
          275.75,
          137.36,
          554.36,
          666.62,
          312.6,
          516.75,
          62.94,
          1019.19,
          465.37,
          77.08,
          695.47,
          256.17,
          302.23,
          138.98,
          739.01,
          211.72,
          40.52,
          518.44,
          334.26,
          48.29,
          726.44,
          186.59,
          160.76,
          426.85,
          29.61,
          431.4,
          38.37,
          565.62,
          337.98632000000003,
          77.3,
          304.89,
          444.83,
          167.24,
          48.87,
          337.98632000000003,
          270.44,
          737.22,
          964.9,
          48.62,
          141.47,
          1005.73,
          422.57,
          740.71,
          636.13,
          728.85,
          408.23,
          323.93,
          44.35,
          95.12,
          278.49,
          193.76,
          378.67,
          908.52,
          363.96,
          503.32,
          169.36,
          638.13,
          259.01,
          856.4,
          138.87,
          111.7,
          132.1,
          235.65,
          531.98,
          256.56,
          317.08,
          337.98632000000003,
          67.82,
          337.98632000000003,
          35.38,
          36.19,
          402.05,
          1043.25,
          353.94,
          45.58,
          463.75,
          201.18,
          197.75,
          430.1,
          29,
          469.34,
          250.49,
          504.26,
          597.87,
          24.83,
          715.54,
          218.19,
          593.38,
          235.13,
          452.63,
          484.83,
          86.6,
          437.23,
          47.36,
          94.25,
          80.13,
          60.68,
          478.83,
          767.13,
          750.04,
          371.67,
          935.64,
          337.98632000000003,
          175.23,
          754.27,
          394.98,
          1148.4,
          680.39,
          811.81,
          482.29,
          411.75,
          38.93,
          443.19,
          455.44,
          598.46,
          727.25,
          97.93,
          15.22,
          74.79,
          142.56,
          143.75,
          64.68,
          374.14,
          240,
          695.29,
          810.14,
          271,
          627.57,
          471.49,
          96,
          697.94,
          39.16,
          1204.9,
          950.4,
          337.98632000000003,
          461.48,
          93.41,
          52.79,
          47.56,
          42.19,
          66.7,
          337.98632000000003,
          249.55,
          257.87,
          272.03,
          542.92,
          1048.29,
          104.62,
          150.8,
          247.64,
          372.89,
          139.72,
          337.98632000000003,
          283.61,
          337.98632000000003,
          337.98632000000003,
          569.77,
          71.99,
          589.54,
          281.72,
          405.96,
          88.59,
          95.93,
          736.39,
          438.42,
          489.13,
          34.92,
          104.18,
          457.28,
          862.75,
          927.37,
          202.72,
          337.98632000000003,
          133.77,
          53.07,
          815.45,
          336.54,
          94.75,
          189.46,
          190.31,
          65.56,
          353.32,
          134.76,
          610.67,
          46.2,
          323.4,
          392.94,
          67.65,
          100.71,
          179.52,
          26.9,
          852.53,
          1228.08,
          203,
          364.43,
          187.69,
          524.31,
          47.38,
          518.45,
          53.29,
          106.12,
          125.9,
          586.31,
          337.98632000000003,
          337.98632000000003,
          13.07,
          685.15,
          753.22,
          110.76,
          662.4,
          36.13,
          144.08,
          137.96,
          68.37,
          81.34,
          319.38,
          365.15,
          722.72,
          674.33,
          216.8,
          337.98632000000003,
          190.68,
          44.48,
          440.87,
          399.98,
          337.98632000000003,
          337.98632000000003,
          110.19,
          20.46,
          133.88,
          346.61,
          375.34,
          245.54,
          455.18,
          164.76,
          43.14,
          440.83,
          83.75,
          337.98632000000003,
          422.36,
          279.77,
          327.76,
          744.93,
          24.24,
          124.06,
          268.79,
          228.36,
          567.65,
          188.78,
          337.98632000000003,
          364.08,
          481.28,
          157.69,
          262.46,
          366.21,
          482.84,
          364.41,
          451.81,
          676.11,
          159.87,
          83.57,
          1010.27,
          337.98632000000003,
          724.95,
          49.22,
          367.84,
          374.06,
          41.02,
          165.77,
          36.11,
          125.76,
          631.2,
          64.38,
          157.62,
          20.44,
          73.75,
          324.39,
          123.41,
          349.36,
          71.6,
          453.87,
          170.49,
          290.64,
          124.43,
          251.71,
          728.3,
          256.15,
          402.88,
          1040.03,
          272.91,
          169.23,
          95.95,
          309.15,
          86.5,
          580.44,
          194.78,
          448.1,
          917.38,
          42.93,
          658.02,
          630.89,
          218.26,
          383.81,
          116.62,
          223.96,
          1111.26,
          607.3,
          386.58,
          224.65,
          75.35,
          305.38,
          337.98632000000003,
          294.75,
          88.85,
          326.26,
          17.13,
          337.98632000000003,
          416.45,
          41.01,
          142.52,
          80.95,
          519.7,
          328.13,
          60.11,
          356.67,
          337.98632000000003,
          78.28,
          286.69,
          23.28,
          387.82,
          115.57,
          128.54,
          506.28,
          216.71,
          350.4,
          146.36,
          172.08,
          85.58,
          16.23,
          609.19,
          494.9,
          42.72,
          968.23,
          24.04,
          243.6,
          90.44,
          332.79,
          145.87,
          364.82,
          297.76,
          201.38,
          31.28,
          256.42,
          48.66,
          552.05,
          754.46,
          308.27,
          241.25,
          142.78,
          382.16,
          47.56,
          507.7,
          449.52,
          72.51,
          769.35,
          12.03,
          134.41,
          101.25,
          387.07,
          58.54,
          743.73,
          661.75,
          412.44,
          300.08,
          298.9,
          252.16,
          62.6,
          290.43,
          110.87,
          337.98632000000003,
          18.33,
          726.98,
          95.7,
          313.32,
          459.51,
          61.95,
          816.34,
          465.47,
          299.01,
          501.09,
          296.52,
          581.5,
          872.26,
          599.94,
          167.61,
          902.27,
          459.77,
          155.67,
          290.81,
          49.78,
          264.83,
          527.16,
          826.4,
          502.1,
          533.95,
          778.82,
          407.88,
          206.97,
          337.98632000000003,
          22.65,
          214.32,
          514.43,
          440.29,
          337.98632000000003,
          504.63,
          155.34,
          122.04,
          80.52,
          144.87,
          755.44,
          196.85,
          374.7,
          590.61,
          1011.15,
          52.08,
          69.98,
          456.07,
          1044.98,
          337.98632000000003,
          200.08
         ],
         "yaxis": "y"
        },
        {
         "alignmentgroup": "True",
         "bingroup": "x",
         "histfunc": "sum",
         "hovertemplate": "Is_Weekend=Yes<br>Month=%{x}<br>sum of Revenue=%{y}<extra></extra>",
         "legendgroup": "Yes",
         "marker": {
          "color": "#EF553B",
          "pattern": {
           "shape": ""
          }
         },
         "name": "Yes",
         "offsetgroup": "Yes",
         "orientation": "v",
         "showlegend": true,
         "type": "histogram",
         "x": [
          "April",
          "February",
          "February",
          "August",
          "November",
          "October",
          "February",
          "May",
          "November",
          "April",
          "February",
          "June",
          "December",
          "September",
          "September",
          "December",
          "March",
          "April",
          "June",
          "April",
          "July",
          "July",
          "January",
          "February",
          "March",
          "April",
          "May",
          "August",
          "October",
          "August",
          "August",
          "February",
          "April",
          "June",
          "March",
          "July",
          "March",
          "October",
          "October",
          "May",
          "May",
          "July",
          "June",
          "May",
          "April",
          "October",
          "June",
          "July",
          "October",
          "May",
          "April",
          "June",
          "July",
          "April",
          "December",
          "July",
          "June",
          "January",
          "October",
          "October",
          "May",
          "December",
          "May",
          "August",
          "May",
          "April",
          "March",
          "September",
          "March",
          "October",
          "January",
          "July",
          "April",
          "October",
          "April",
          "December",
          "April",
          "January",
          "June",
          "September",
          "July",
          "April",
          "December",
          "July",
          "July",
          "November",
          "May",
          "February",
          "March",
          "November",
          "October",
          "May",
          "December",
          "July",
          "January",
          "September",
          "May",
          "January",
          "July",
          "September",
          "January",
          "April",
          "August",
          "September",
          "September",
          "November",
          "October",
          "March",
          "January",
          "January",
          "July",
          "April",
          "November",
          "June",
          "June",
          "April",
          "December",
          "May",
          "April",
          "January",
          "October",
          "February",
          "October",
          "August",
          "January",
          "January",
          "March",
          "August",
          "February",
          "August",
          "October",
          "August",
          "September",
          "November",
          "September",
          "April",
          "November",
          "November",
          "May",
          "July",
          "January",
          "July",
          "July",
          "September",
          "June",
          "December",
          "February",
          "July",
          "November",
          "June",
          "June",
          "August",
          "August",
          "September",
          "April",
          "July",
          "May",
          "January",
          "December",
          "August",
          "April",
          "July",
          "February",
          "December",
          "July",
          "October",
          "November",
          "August",
          "August",
          "September",
          "January",
          "November",
          "April",
          "April",
          "September",
          "August",
          "March",
          "May",
          "April",
          "January",
          "August",
          "September",
          "July",
          "August",
          "May",
          "October",
          "November",
          "April",
          "June",
          "June",
          "June",
          "February",
          "November",
          "March",
          "January",
          "December",
          "August",
          "August",
          "January",
          "December",
          "September",
          "January",
          "August",
          "November",
          "August",
          "September",
          "May",
          "September",
          "December",
          "October",
          "November",
          "May",
          "March",
          "February",
          "April",
          "September",
          "February",
          "October",
          "May",
          "December",
          "January",
          "April",
          "August",
          "June",
          "May",
          "January",
          "January",
          "June",
          "March",
          "January",
          "April",
          "May"
         ],
         "xaxis": "x",
         "y": [
          78.19,
          22.41,
          401.73,
          692.07,
          461.02,
          609.26,
          337.98632000000003,
          538.53,
          401.52,
          706.03,
          93.61,
          506.23,
          385.02,
          153.57,
          41.93,
          276.83,
          97.34,
          337.98632000000003,
          843.03,
          53.1,
          337.98632000000003,
          314.33,
          260.11,
          466.82,
          663.94,
          710.03,
          361.3,
          612.29,
          441.74,
          396.41,
          288.91,
          94.34,
          1019.19,
          470.48,
          671.96,
          472.69,
          272.06,
          87.77,
          185.86,
          796.14,
          73.15,
          655.44,
          263.88,
          233.03,
          199.29,
          27.03,
          1008.4,
          317.46,
          344.45,
          892.33,
          764.46,
          441.84,
          321.26,
          153.76,
          857.38,
          752.45,
          224.63,
          212.59,
          560.55,
          51.99,
          191.01,
          337.98632000000003,
          35.53,
          293.88,
          1116.62,
          183.16,
          545.35,
          221.11,
          1006.88,
          174.77,
          273.76,
          74.72,
          433.78,
          247.83,
          70.77,
          241.63,
          164.34,
          266.66,
          677.66,
          699.36,
          271.87,
          419.83,
          15.66,
          306.44,
          60.62,
          656.12,
          162.27,
          90.26,
          23.54,
          76.95,
          38.69,
          295.67,
          472.09,
          833.96,
          60.72,
          615.49,
          442.67,
          607.61,
          472.18,
          447.64,
          147.97,
          437.61,
          757.31,
          289.79,
          928.53,
          428.5,
          882.12,
          285.5,
          337.98632000000003,
          206.22,
          342.51,
          229.66,
          662.71,
          71.37,
          526.68,
          957.16,
          223.82,
          55.59,
          134.29,
          70.24,
          481.58,
          206.52,
          309.42,
          326.44,
          93.57,
          381.99,
          807.9,
          448.38,
          45.96,
          491.18,
          242.8,
          452.62,
          311.68,
          72.55,
          66.02,
          128.38,
          968.29,
          659.3,
          83.49,
          350.23,
          246.04,
          235.01,
          612.46,
          24.13,
          337.98632000000003,
          200.99,
          531.31,
          174.5,
          867.12,
          561.6,
          312.88,
          836.73,
          64.21,
          642.3,
          339.31,
          22.27,
          633.66,
          467.67,
          259.59,
          877.34,
          193.61,
          174.29,
          337.98632000000003,
          498.97,
          1033.79,
          711.7,
          827.04,
          61.83,
          133.73,
          708.06,
          14.47,
          437.51,
          78.99,
          276.47,
          389.03,
          869.45,
          222.64,
          45.74,
          482.15,
          859.82,
          727.62,
          1021.27,
          22.35,
          143,
          337.98632000000003,
          664.49,
          337.23,
          174.85,
          468.77,
          554.02,
          140.12,
          15.32,
          155.94,
          314.73,
          494.88,
          408.77,
          914.72,
          44.3,
          277.91,
          256.41,
          418.15,
          78.09,
          505.96,
          218.09,
          413.61,
          407.07,
          66.34,
          782.31,
          606.16,
          171.89,
          170.29,
          503.74,
          713.22,
          63.96,
          169.84,
          49.81,
          47.11,
          490.1,
          233.22,
          12.25,
          32.19,
          400.6,
          1131.87,
          194.4,
          120.57,
          588.36,
          440.7,
          29.33,
          314.8,
          105.92,
          31.03,
          203.42
         ],
         "yaxis": "y"
        }
       ],
       "layout": {
        "barmode": "group",
        "legend": {
         "title": {
          "text": "Is_Weekend"
         },
         "tracegroupgap": 0
        },
        "margin": {
         "t": 60
        },
        "template": {
         "data": {
          "bar": [
           {
            "error_x": {
             "color": "#2a3f5f"
            },
            "error_y": {
             "color": "#2a3f5f"
            },
            "marker": {
             "line": {
              "color": "#E5ECF6",
              "width": 0.5
             },
             "pattern": {
              "fillmode": "overlay",
              "size": 10,
              "solidity": 0.2
             }
            },
            "type": "bar"
           }
          ],
          "barpolar": [
           {
            "marker": {
             "line": {
              "color": "#E5ECF6",
              "width": 0.5
             },
             "pattern": {
              "fillmode": "overlay",
              "size": 10,
              "solidity": 0.2
             }
            },
            "type": "barpolar"
           }
          ],
          "carpet": [
           {
            "aaxis": {
             "endlinecolor": "#2a3f5f",
             "gridcolor": "white",
             "linecolor": "white",
             "minorgridcolor": "white",
             "startlinecolor": "#2a3f5f"
            },
            "baxis": {
             "endlinecolor": "#2a3f5f",
             "gridcolor": "white",
             "linecolor": "white",
             "minorgridcolor": "white",
             "startlinecolor": "#2a3f5f"
            },
            "type": "carpet"
           }
          ],
          "choropleth": [
           {
            "colorbar": {
             "outlinewidth": 0,
             "ticks": ""
            },
            "type": "choropleth"
           }
          ],
          "contour": [
           {
            "colorbar": {
             "outlinewidth": 0,
             "ticks": ""
            },
            "colorscale": [
             [
              0,
              "#0d0887"
             ],
             [
              0.1111111111111111,
              "#46039f"
             ],
             [
              0.2222222222222222,
              "#7201a8"
             ],
             [
              0.3333333333333333,
              "#9c179e"
             ],
             [
              0.4444444444444444,
              "#bd3786"
             ],
             [
              0.5555555555555556,
              "#d8576b"
             ],
             [
              0.6666666666666666,
              "#ed7953"
             ],
             [
              0.7777777777777778,
              "#fb9f3a"
             ],
             [
              0.8888888888888888,
              "#fdca26"
             ],
             [
              1,
              "#f0f921"
             ]
            ],
            "type": "contour"
           }
          ],
          "contourcarpet": [
           {
            "colorbar": {
             "outlinewidth": 0,
             "ticks": ""
            },
            "type": "contourcarpet"
           }
          ],
          "heatmap": [
           {
            "colorbar": {
             "outlinewidth": 0,
             "ticks": ""
            },
            "colorscale": [
             [
              0,
              "#0d0887"
             ],
             [
              0.1111111111111111,
              "#46039f"
             ],
             [
              0.2222222222222222,
              "#7201a8"
             ],
             [
              0.3333333333333333,
              "#9c179e"
             ],
             [
              0.4444444444444444,
              "#bd3786"
             ],
             [
              0.5555555555555556,
              "#d8576b"
             ],
             [
              0.6666666666666666,
              "#ed7953"
             ],
             [
              0.7777777777777778,
              "#fb9f3a"
             ],
             [
              0.8888888888888888,
              "#fdca26"
             ],
             [
              1,
              "#f0f921"
             ]
            ],
            "type": "heatmap"
           }
          ],
          "heatmapgl": [
           {
            "colorbar": {
             "outlinewidth": 0,
             "ticks": ""
            },
            "colorscale": [
             [
              0,
              "#0d0887"
             ],
             [
              0.1111111111111111,
              "#46039f"
             ],
             [
              0.2222222222222222,
              "#7201a8"
             ],
             [
              0.3333333333333333,
              "#9c179e"
             ],
             [
              0.4444444444444444,
              "#bd3786"
             ],
             [
              0.5555555555555556,
              "#d8576b"
             ],
             [
              0.6666666666666666,
              "#ed7953"
             ],
             [
              0.7777777777777778,
              "#fb9f3a"
             ],
             [
              0.8888888888888888,
              "#fdca26"
             ],
             [
              1,
              "#f0f921"
             ]
            ],
            "type": "heatmapgl"
           }
          ],
          "histogram": [
           {
            "marker": {
             "pattern": {
              "fillmode": "overlay",
              "size": 10,
              "solidity": 0.2
             }
            },
            "type": "histogram"
           }
          ],
          "histogram2d": [
           {
            "colorbar": {
             "outlinewidth": 0,
             "ticks": ""
            },
            "colorscale": [
             [
              0,
              "#0d0887"
             ],
             [
              0.1111111111111111,
              "#46039f"
             ],
             [
              0.2222222222222222,
              "#7201a8"
             ],
             [
              0.3333333333333333,
              "#9c179e"
             ],
             [
              0.4444444444444444,
              "#bd3786"
             ],
             [
              0.5555555555555556,
              "#d8576b"
             ],
             [
              0.6666666666666666,
              "#ed7953"
             ],
             [
              0.7777777777777778,
              "#fb9f3a"
             ],
             [
              0.8888888888888888,
              "#fdca26"
             ],
             [
              1,
              "#f0f921"
             ]
            ],
            "type": "histogram2d"
           }
          ],
          "histogram2dcontour": [
           {
            "colorbar": {
             "outlinewidth": 0,
             "ticks": ""
            },
            "colorscale": [
             [
              0,
              "#0d0887"
             ],
             [
              0.1111111111111111,
              "#46039f"
             ],
             [
              0.2222222222222222,
              "#7201a8"
             ],
             [
              0.3333333333333333,
              "#9c179e"
             ],
             [
              0.4444444444444444,
              "#bd3786"
             ],
             [
              0.5555555555555556,
              "#d8576b"
             ],
             [
              0.6666666666666666,
              "#ed7953"
             ],
             [
              0.7777777777777778,
              "#fb9f3a"
             ],
             [
              0.8888888888888888,
              "#fdca26"
             ],
             [
              1,
              "#f0f921"
             ]
            ],
            "type": "histogram2dcontour"
           }
          ],
          "mesh3d": [
           {
            "colorbar": {
             "outlinewidth": 0,
             "ticks": ""
            },
            "type": "mesh3d"
           }
          ],
          "parcoords": [
           {
            "line": {
             "colorbar": {
              "outlinewidth": 0,
              "ticks": ""
             }
            },
            "type": "parcoords"
           }
          ],
          "pie": [
           {
            "automargin": true,
            "type": "pie"
           }
          ],
          "scatter": [
           {
            "fillpattern": {
             "fillmode": "overlay",
             "size": 10,
             "solidity": 0.2
            },
            "type": "scatter"
           }
          ],
          "scatter3d": [
           {
            "line": {
             "colorbar": {
              "outlinewidth": 0,
              "ticks": ""
             }
            },
            "marker": {
             "colorbar": {
              "outlinewidth": 0,
              "ticks": ""
             }
            },
            "type": "scatter3d"
           }
          ],
          "scattercarpet": [
           {
            "marker": {
             "colorbar": {
              "outlinewidth": 0,
              "ticks": ""
             }
            },
            "type": "scattercarpet"
           }
          ],
          "scattergeo": [
           {
            "marker": {
             "colorbar": {
              "outlinewidth": 0,
              "ticks": ""
             }
            },
            "type": "scattergeo"
           }
          ],
          "scattergl": [
           {
            "marker": {
             "colorbar": {
              "outlinewidth": 0,
              "ticks": ""
             }
            },
            "type": "scattergl"
           }
          ],
          "scattermapbox": [
           {
            "marker": {
             "colorbar": {
              "outlinewidth": 0,
              "ticks": ""
             }
            },
            "type": "scattermapbox"
           }
          ],
          "scatterpolar": [
           {
            "marker": {
             "colorbar": {
              "outlinewidth": 0,
              "ticks": ""
             }
            },
            "type": "scatterpolar"
           }
          ],
          "scatterpolargl": [
           {
            "marker": {
             "colorbar": {
              "outlinewidth": 0,
              "ticks": ""
             }
            },
            "type": "scatterpolargl"
           }
          ],
          "scatterternary": [
           {
            "marker": {
             "colorbar": {
              "outlinewidth": 0,
              "ticks": ""
             }
            },
            "type": "scatterternary"
           }
          ],
          "surface": [
           {
            "colorbar": {
             "outlinewidth": 0,
             "ticks": ""
            },
            "colorscale": [
             [
              0,
              "#0d0887"
             ],
             [
              0.1111111111111111,
              "#46039f"
             ],
             [
              0.2222222222222222,
              "#7201a8"
             ],
             [
              0.3333333333333333,
              "#9c179e"
             ],
             [
              0.4444444444444444,
              "#bd3786"
             ],
             [
              0.5555555555555556,
              "#d8576b"
             ],
             [
              0.6666666666666666,
              "#ed7953"
             ],
             [
              0.7777777777777778,
              "#fb9f3a"
             ],
             [
              0.8888888888888888,
              "#fdca26"
             ],
             [
              1,
              "#f0f921"
             ]
            ],
            "type": "surface"
           }
          ],
          "table": [
           {
            "cells": {
             "fill": {
              "color": "#EBF0F8"
             },
             "line": {
              "color": "white"
             }
            },
            "header": {
             "fill": {
              "color": "#C8D4E3"
             },
             "line": {
              "color": "white"
             }
            },
            "type": "table"
           }
          ]
         },
         "layout": {
          "annotationdefaults": {
           "arrowcolor": "#2a3f5f",
           "arrowhead": 0,
           "arrowwidth": 1
          },
          "autotypenumbers": "strict",
          "coloraxis": {
           "colorbar": {
            "outlinewidth": 0,
            "ticks": ""
           }
          },
          "colorscale": {
           "diverging": [
            [
             0,
             "#8e0152"
            ],
            [
             0.1,
             "#c51b7d"
            ],
            [
             0.2,
             "#de77ae"
            ],
            [
             0.3,
             "#f1b6da"
            ],
            [
             0.4,
             "#fde0ef"
            ],
            [
             0.5,
             "#f7f7f7"
            ],
            [
             0.6,
             "#e6f5d0"
            ],
            [
             0.7,
             "#b8e186"
            ],
            [
             0.8,
             "#7fbc41"
            ],
            [
             0.9,
             "#4d9221"
            ],
            [
             1,
             "#276419"
            ]
           ],
           "sequential": [
            [
             0,
             "#0d0887"
            ],
            [
             0.1111111111111111,
             "#46039f"
            ],
            [
             0.2222222222222222,
             "#7201a8"
            ],
            [
             0.3333333333333333,
             "#9c179e"
            ],
            [
             0.4444444444444444,
             "#bd3786"
            ],
            [
             0.5555555555555556,
             "#d8576b"
            ],
            [
             0.6666666666666666,
             "#ed7953"
            ],
            [
             0.7777777777777778,
             "#fb9f3a"
            ],
            [
             0.8888888888888888,
             "#fdca26"
            ],
            [
             1,
             "#f0f921"
            ]
           ],
           "sequentialminus": [
            [
             0,
             "#0d0887"
            ],
            [
             0.1111111111111111,
             "#46039f"
            ],
            [
             0.2222222222222222,
             "#7201a8"
            ],
            [
             0.3333333333333333,
             "#9c179e"
            ],
            [
             0.4444444444444444,
             "#bd3786"
            ],
            [
             0.5555555555555556,
             "#d8576b"
            ],
            [
             0.6666666666666666,
             "#ed7953"
            ],
            [
             0.7777777777777778,
             "#fb9f3a"
            ],
            [
             0.8888888888888888,
             "#fdca26"
            ],
            [
             1,
             "#f0f921"
            ]
           ]
          },
          "colorway": [
           "#636efa",
           "#EF553B",
           "#00cc96",
           "#ab63fa",
           "#FFA15A",
           "#19d3f3",
           "#FF6692",
           "#B6E880",
           "#FF97FF",
           "#FECB52"
          ],
          "font": {
           "color": "#2a3f5f"
          },
          "geo": {
           "bgcolor": "white",
           "lakecolor": "white",
           "landcolor": "#E5ECF6",
           "showlakes": true,
           "showland": true,
           "subunitcolor": "white"
          },
          "hoverlabel": {
           "align": "left"
          },
          "hovermode": "closest",
          "mapbox": {
           "style": "light"
          },
          "paper_bgcolor": "white",
          "plot_bgcolor": "#E5ECF6",
          "polar": {
           "angularaxis": {
            "gridcolor": "white",
            "linecolor": "white",
            "ticks": ""
           },
           "bgcolor": "#E5ECF6",
           "radialaxis": {
            "gridcolor": "white",
            "linecolor": "white",
            "ticks": ""
           }
          },
          "scene": {
           "xaxis": {
            "backgroundcolor": "#E5ECF6",
            "gridcolor": "white",
            "gridwidth": 2,
            "linecolor": "white",
            "showbackground": true,
            "ticks": "",
            "zerolinecolor": "white"
           },
           "yaxis": {
            "backgroundcolor": "#E5ECF6",
            "gridcolor": "white",
            "gridwidth": 2,
            "linecolor": "white",
            "showbackground": true,
            "ticks": "",
            "zerolinecolor": "white"
           },
           "zaxis": {
            "backgroundcolor": "#E5ECF6",
            "gridcolor": "white",
            "gridwidth": 2,
            "linecolor": "white",
            "showbackground": true,
            "ticks": "",
            "zerolinecolor": "white"
           }
          },
          "shapedefaults": {
           "line": {
            "color": "#2a3f5f"
           }
          },
          "ternary": {
           "aaxis": {
            "gridcolor": "white",
            "linecolor": "white",
            "ticks": ""
           },
           "baxis": {
            "gridcolor": "white",
            "linecolor": "white",
            "ticks": ""
           },
           "bgcolor": "#E5ECF6",
           "caxis": {
            "gridcolor": "white",
            "linecolor": "white",
            "ticks": ""
           }
          },
          "title": {
           "x": 0.05
          },
          "xaxis": {
           "automargin": true,
           "gridcolor": "white",
           "linecolor": "white",
           "ticks": "",
           "title": {
            "standoff": 15
           },
           "zerolinecolor": "white",
           "zerolinewidth": 2
          },
          "yaxis": {
           "automargin": true,
           "gridcolor": "white",
           "linecolor": "white",
           "ticks": "",
           "title": {
            "standoff": 15
           },
           "zerolinecolor": "white",
           "zerolinewidth": 2
          }
         }
        },
        "xaxis": {
         "anchor": "y",
         "domain": [
          0,
          1
         ],
         "title": {
          "text": "Month"
         }
        },
        "yaxis": {
         "anchor": "x",
         "domain": [
          0,
          1
         ],
         "title": {
          "text": "sum of Revenue"
         }
        }
       }
      }
     },
     "metadata": {},
     "output_type": "display_data"
    }
   ],
   "source": [
    "fig=px.histogram(df,x=\"Month\",y=\"Revenue\",color=\"Is_Weekend\",barmode=\"group\")\n",
    "fig.show()# dont use bar for continuous data"
   ]
  },
  {
   "cell_type": "code",
   "execution_count": null,
   "id": "5ab944fc",
   "metadata": {},
   "outputs": [],
   "source": []
  },
  {
   "cell_type": "code",
   "execution_count": null,
   "id": "505f8bd8",
   "metadata": {},
   "outputs": [],
   "source": []
  },
  {
   "cell_type": "code",
   "execution_count": null,
   "id": "99b0c2e7",
   "metadata": {},
   "outputs": [],
   "source": []
  },
  {
   "cell_type": "code",
   "execution_count": null,
   "id": "a459c587",
   "metadata": {},
   "outputs": [],
   "source": []
  },
  {
   "cell_type": "code",
   "execution_count": null,
   "id": "e89ff55b",
   "metadata": {},
   "outputs": [],
   "source": []
  },
  {
   "cell_type": "code",
   "execution_count": null,
   "id": "d9f6d08a",
   "metadata": {},
   "outputs": [],
   "source": [
    "\n"
   ]
  }
 ],
 "metadata": {
  "kernelspec": {
   "display_name": "base",
   "language": "python",
   "name": "python3"
  },
  "language_info": {
   "codemirror_mode": {
    "name": "ipython",
    "version": 3
   },
   "file_extension": ".py",
   "mimetype": "text/x-python",
   "name": "python",
   "nbconvert_exporter": "python",
   "pygments_lexer": "ipython3",
   "version": "3.12.7"
  }
 },
 "nbformat": 4,
 "nbformat_minor": 5
}
